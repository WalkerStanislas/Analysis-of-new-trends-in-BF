{
 "cells": [
  {
   "cell_type": "markdown",
   "id": "b4aba95b",
   "metadata": {
    "id": "b4aba95b"
   },
   "source": [
    "# Words trends, Sentiment analysis and Topic Modelling"
   ]
  },
  {
   "cell_type": "code",
   "execution_count": 2,
   "id": "36143f13",
   "metadata": {
    "id": "36143f13"
   },
   "outputs": [],
   "source": [
    "import pandas as pd\n",
    "import re\n",
    "import nltk\n",
    "from nltk.corpus import stopwords\n",
    "import spacy"
   ]
  },
  {
   "cell_type": "markdown",
   "id": "32c4ed92",
   "metadata": {
    "id": "32c4ed92"
   },
   "source": [
    "## 1. Processing using NLTK and Spacy (tokenization and lematization)"
   ]
  },
  {
   "cell_type": "code",
   "execution_count": 3,
   "id": "951d5b3a",
   "metadata": {
    "id": "951d5b3a"
   },
   "outputs": [
    {
     "data": {
      "text/html": [
       "<div>\n",
       "<style scoped>\n",
       "    .dataframe tbody tr th:only-of-type {\n",
       "        vertical-align: middle;\n",
       "    }\n",
       "\n",
       "    .dataframe tbody tr th {\n",
       "        vertical-align: top;\n",
       "    }\n",
       "\n",
       "    .dataframe thead th {\n",
       "        text-align: right;\n",
       "    }\n",
       "</style>\n",
       "<table border=\"1\" class=\"dataframe\">\n",
       "  <thead>\n",
       "    <tr style=\"text-align: right;\">\n",
       "      <th></th>\n",
       "      <th>type</th>\n",
       "      <th>date</th>\n",
       "      <th>texte</th>\n",
       "      <th>source_url</th>\n",
       "      <th>text_processed</th>\n",
       "      <th>date_normalized</th>\n",
       "    </tr>\n",
       "  </thead>\n",
       "  <tbody>\n",
       "    <tr>\n",
       "      <th>0</th>\n",
       "      <td>publication</td>\n",
       "      <td>dimanche 6 avril 2025 à 22h57min</td>\n",
       "      <td>Il fut une époque à Pouni où l’expression « Ke...</td>\n",
       "      <td>https://lefaso.net/spip.php?article137228</td>\n",
       "      <td>il fut une époque à pouni où l’ expression ken...</td>\n",
       "      <td>2025-04-06 22:57:00</td>\n",
       "    </tr>\n",
       "    <tr>\n",
       "      <th>1</th>\n",
       "      <td>comment</td>\n",
       "      <td>6 avril 08:22</td>\n",
       "      <td>Heu, si j’ai bien compris, nos autorités actue...</td>\n",
       "      <td>https://lefaso.net/spip.php?article137228</td>\n",
       "      <td>heu si j’ ai bien compris nos autorités actuel...</td>\n",
       "      <td>2024-04-06 08:22:00</td>\n",
       "    </tr>\n",
       "    <tr>\n",
       "      <th>2</th>\n",
       "      <td>comment</td>\n",
       "      <td>6 avril 10:58</td>\n",
       "      <td>Bravo à cet intellectuel de haut vol pour qui ...</td>\n",
       "      <td>https://lefaso.net/spip.php?article137228</td>\n",
       "      <td>bravo à cet intellectuel de haut vol pour qui ...</td>\n",
       "      <td>2024-04-06 10:58:00</td>\n",
       "    </tr>\n",
       "    <tr>\n",
       "      <th>3</th>\n",
       "      <td>publication</td>\n",
       "      <td>dimanche 6 avril 2025 à 23h00min</td>\n",
       "      <td>« L’administration de la justice dans un conte...</td>\n",
       "      <td>https://lefaso.net/spip.php?article137236</td>\n",
       "      <td>l’ administration de la justice dans un contex...</td>\n",
       "      <td>2025-04-06 23:00:00</td>\n",
       "    </tr>\n",
       "    <tr>\n",
       "      <th>4</th>\n",
       "      <td>publication</td>\n",
       "      <td>jeudi 3 avril 2025 à 23h17min</td>\n",
       "      <td>(Ouagadougou, 03 avril 2025). Le Président du ...</td>\n",
       "      <td>https://lefaso.net/spip.php?article137191</td>\n",
       "      <td>ouagadougou 03 avril 2025 le président du faso...</td>\n",
       "      <td>2025-04-03 23:17:00</td>\n",
       "    </tr>\n",
       "  </tbody>\n",
       "</table>\n",
       "</div>"
      ],
      "text/plain": [
       "          type                              date  \\\n",
       "0  publication  dimanche 6 avril 2025 à 22h57min   \n",
       "1      comment                     6 avril 08:22   \n",
       "2      comment                     6 avril 10:58   \n",
       "3  publication  dimanche 6 avril 2025 à 23h00min   \n",
       "4  publication     jeudi 3 avril 2025 à 23h17min   \n",
       "\n",
       "                                               texte  \\\n",
       "0  Il fut une époque à Pouni où l’expression « Ke...   \n",
       "1  Heu, si j’ai bien compris, nos autorités actue...   \n",
       "2  Bravo à cet intellectuel de haut vol pour qui ...   \n",
       "3  « L’administration de la justice dans un conte...   \n",
       "4  (Ouagadougou, 03 avril 2025). Le Président du ...   \n",
       "\n",
       "                                  source_url  \\\n",
       "0  https://lefaso.net/spip.php?article137228   \n",
       "1  https://lefaso.net/spip.php?article137228   \n",
       "2  https://lefaso.net/spip.php?article137228   \n",
       "3  https://lefaso.net/spip.php?article137236   \n",
       "4  https://lefaso.net/spip.php?article137191   \n",
       "\n",
       "                                      text_processed      date_normalized  \n",
       "0  il fut une époque à pouni où l’ expression ken...  2025-04-06 22:57:00  \n",
       "1  heu si j’ ai bien compris nos autorités actuel...  2024-04-06 08:22:00  \n",
       "2  bravo à cet intellectuel de haut vol pour qui ...  2024-04-06 10:58:00  \n",
       "3  l’ administration de la justice dans un contex...  2025-04-06 23:00:00  \n",
       "4  ouagadougou 03 avril 2025 le président du faso...  2025-04-03 23:17:00  "
      ]
     },
     "execution_count": 3,
     "metadata": {},
     "output_type": "execute_result"
    }
   ],
   "source": [
    "data = pd.read_csv(\"data_processed/dataset_nlp.csv\", encoding='utf-8')\n",
    "data.head()"
   ]
  },
  {
   "cell_type": "code",
   "execution_count": 4,
   "id": "b5b7a353",
   "metadata": {
    "colab": {
     "base_uri": "https://localhost:8080/",
     "height": 206
    },
    "id": "b5b7a353",
    "outputId": "d5566bf6-bf66-4615-d101-22953becde9b"
   },
   "outputs": [
    {
     "data": {
      "text/html": [
       "<div>\n",
       "<style scoped>\n",
       "    .dataframe tbody tr th:only-of-type {\n",
       "        vertical-align: middle;\n",
       "    }\n",
       "\n",
       "    .dataframe tbody tr th {\n",
       "        vertical-align: top;\n",
       "    }\n",
       "\n",
       "    .dataframe thead th {\n",
       "        text-align: right;\n",
       "    }\n",
       "</style>\n",
       "<table border=\"1\" class=\"dataframe\">\n",
       "  <thead>\n",
       "    <tr style=\"text-align: right;\">\n",
       "      <th></th>\n",
       "      <th>type</th>\n",
       "      <th>date_normalized</th>\n",
       "      <th>text_processed</th>\n",
       "    </tr>\n",
       "  </thead>\n",
       "  <tbody>\n",
       "    <tr>\n",
       "      <th>0</th>\n",
       "      <td>publication</td>\n",
       "      <td>2025-04-06 22:57:00</td>\n",
       "      <td>il fut une époque à pouni où l’ expression ken...</td>\n",
       "    </tr>\n",
       "    <tr>\n",
       "      <th>1</th>\n",
       "      <td>comment</td>\n",
       "      <td>2024-04-06 08:22:00</td>\n",
       "      <td>heu si j’ ai bien compris nos autorités actuel...</td>\n",
       "    </tr>\n",
       "    <tr>\n",
       "      <th>2</th>\n",
       "      <td>comment</td>\n",
       "      <td>2024-04-06 10:58:00</td>\n",
       "      <td>bravo à cet intellectuel de haut vol pour qui ...</td>\n",
       "    </tr>\n",
       "    <tr>\n",
       "      <th>3</th>\n",
       "      <td>publication</td>\n",
       "      <td>2025-04-06 23:00:00</td>\n",
       "      <td>l’ administration de la justice dans un contex...</td>\n",
       "    </tr>\n",
       "    <tr>\n",
       "      <th>4</th>\n",
       "      <td>publication</td>\n",
       "      <td>2025-04-03 23:17:00</td>\n",
       "      <td>ouagadougou 03 avril 2025 le président du faso...</td>\n",
       "    </tr>\n",
       "  </tbody>\n",
       "</table>\n",
       "</div>"
      ],
      "text/plain": [
       "          type      date_normalized  \\\n",
       "0  publication  2025-04-06 22:57:00   \n",
       "1      comment  2024-04-06 08:22:00   \n",
       "2      comment  2024-04-06 10:58:00   \n",
       "3  publication  2025-04-06 23:00:00   \n",
       "4  publication  2025-04-03 23:17:00   \n",
       "\n",
       "                                      text_processed  \n",
       "0  il fut une époque à pouni où l’ expression ken...  \n",
       "1  heu si j’ ai bien compris nos autorités actuel...  \n",
       "2  bravo à cet intellectuel de haut vol pour qui ...  \n",
       "3  l’ administration de la justice dans un contex...  \n",
       "4  ouagadougou 03 avril 2025 le président du faso...  "
      ]
     },
     "execution_count": 4,
     "metadata": {},
     "output_type": "execute_result"
    }
   ],
   "source": [
    "data = data[[\"type\", \"date_normalized\", \"text_processed\"]]\n",
    "data.head()"
   ]
  },
  {
   "cell_type": "code",
   "execution_count": 5,
   "id": "a38835e3",
   "metadata": {
    "colab": {
     "base_uri": "https://localhost:8080/"
    },
    "id": "a38835e3",
    "outputId": "fddb450c-ffe5-4dcf-dbcf-317325823c98"
   },
   "outputs": [
    {
     "name": "stdout",
     "output_type": "stream",
     "text": [
      "<class 'pandas.core.frame.DataFrame'>\n",
      "RangeIndex: 15807 entries, 0 to 15806\n",
      "Data columns (total 3 columns):\n",
      " #   Column           Non-Null Count  Dtype \n",
      "---  ------           --------------  ----- \n",
      " 0   type             15807 non-null  object\n",
      " 1   date_normalized  15807 non-null  object\n",
      " 2   text_processed   15803 non-null  object\n",
      "dtypes: object(3)\n",
      "memory usage: 370.6+ KB\n"
     ]
    }
   ],
   "source": [
    "data.info()"
   ]
  },
  {
   "cell_type": "code",
   "execution_count": 6,
   "id": "o04T7yJh1cle",
   "metadata": {
    "colab": {
     "base_uri": "https://localhost:8080/",
     "height": 178
    },
    "id": "o04T7yJh1cle",
    "outputId": "6195bd7a-ec63-4803-b48b-70072932204c"
   },
   "outputs": [
    {
     "data": {
      "text/plain": [
       "type               0\n",
       "date_normalized    0\n",
       "text_processed     4\n",
       "dtype: int64"
      ]
     },
     "execution_count": 6,
     "metadata": {},
     "output_type": "execute_result"
    }
   ],
   "source": [
    "data.isna().sum()"
   ]
  },
  {
   "cell_type": "code",
   "execution_count": 7,
   "id": "7Hw786el1o8q",
   "metadata": {
    "id": "7Hw786el1o8q"
   },
   "outputs": [],
   "source": [
    "data = data.dropna()"
   ]
  },
  {
   "cell_type": "code",
   "execution_count": 8,
   "id": "b6c9e4fd",
   "metadata": {
    "colab": {
     "base_uri": "https://localhost:8080/",
     "height": 210
    },
    "id": "b6c9e4fd",
    "outputId": "87d1be1e-546d-4eac-93e9-f52b6977496a"
   },
   "outputs": [
    {
     "data": {
      "text/plain": [
       "type\n",
       "comment        9931\n",
       "reply          3076\n",
       "publication    2796\n",
       "Name: count, dtype: int64"
      ]
     },
     "execution_count": 8,
     "metadata": {},
     "output_type": "execute_result"
    }
   ],
   "source": [
    "data.value_counts(\"type\")"
   ]
  },
  {
   "cell_type": "code",
   "execution_count": 9,
   "id": "dc025a02",
   "metadata": {
    "colab": {
     "base_uri": "https://localhost:8080/",
     "height": 424
    },
    "id": "dc025a02",
    "outputId": "6ee48ef0-4719-4fa1-bc4f-e93af24e9eec"
   },
   "outputs": [
    {
     "data": {
      "text/html": [
       "<div>\n",
       "<style scoped>\n",
       "    .dataframe tbody tr th:only-of-type {\n",
       "        vertical-align: middle;\n",
       "    }\n",
       "\n",
       "    .dataframe tbody tr th {\n",
       "        vertical-align: top;\n",
       "    }\n",
       "\n",
       "    .dataframe thead th {\n",
       "        text-align: right;\n",
       "    }\n",
       "</style>\n",
       "<table border=\"1\" class=\"dataframe\">\n",
       "  <thead>\n",
       "    <tr style=\"text-align: right;\">\n",
       "      <th></th>\n",
       "      <th>type</th>\n",
       "      <th>date_normalized</th>\n",
       "      <th>text_processed</th>\n",
       "    </tr>\n",
       "  </thead>\n",
       "  <tbody>\n",
       "    <tr>\n",
       "      <th>0</th>\n",
       "      <td>publication</td>\n",
       "      <td>2025-04-06 22:57:00</td>\n",
       "      <td>il fut une époque à pouni où l’ expression ken...</td>\n",
       "    </tr>\n",
       "    <tr>\n",
       "      <th>1</th>\n",
       "      <td>comment</td>\n",
       "      <td>2024-04-06 08:22:00</td>\n",
       "      <td>heu si j’ ai bien compris nos autorités actuel...</td>\n",
       "    </tr>\n",
       "    <tr>\n",
       "      <th>2</th>\n",
       "      <td>comment</td>\n",
       "      <td>2024-04-06 10:58:00</td>\n",
       "      <td>bravo à cet intellectuel de haut vol pour qui ...</td>\n",
       "    </tr>\n",
       "    <tr>\n",
       "      <th>3</th>\n",
       "      <td>publication</td>\n",
       "      <td>2025-04-06 23:00:00</td>\n",
       "      <td>l’ administration de la justice dans un contex...</td>\n",
       "    </tr>\n",
       "    <tr>\n",
       "      <th>4</th>\n",
       "      <td>publication</td>\n",
       "      <td>2025-04-03 23:17:00</td>\n",
       "      <td>ouagadougou 03 avril 2025 le président du faso...</td>\n",
       "    </tr>\n",
       "    <tr>\n",
       "      <th>...</th>\n",
       "      <td>...</td>\n",
       "      <td>...</td>\n",
       "      <td>...</td>\n",
       "    </tr>\n",
       "    <tr>\n",
       "      <th>15802</th>\n",
       "      <td>reply</td>\n",
       "      <td>2024-02-14 13:51:00</td>\n",
       "      <td>kibora bon résumé de la situation du congo bel...</td>\n",
       "    </tr>\n",
       "    <tr>\n",
       "      <th>15803</th>\n",
       "      <td>comment</td>\n",
       "      <td>2024-02-15 12:41:00</td>\n",
       "      <td>kibora messire patrick kibora je ne sais si vo...</td>\n",
       "    </tr>\n",
       "    <tr>\n",
       "      <th>15804</th>\n",
       "      <td>publication</td>\n",
       "      <td>2024-02-13 20:45:00</td>\n",
       "      <td>la dégradation de la situation socio-politique...</td>\n",
       "    </tr>\n",
       "    <tr>\n",
       "      <th>15805</th>\n",
       "      <td>comment</td>\n",
       "      <td>2024-02-14 20:34:00</td>\n",
       "      <td>tous les pays toutes les organisations qui ont...</td>\n",
       "    </tr>\n",
       "    <tr>\n",
       "      <th>15806</th>\n",
       "      <td>reply</td>\n",
       "      <td>2024-02-20 18:28:00</td>\n",
       "      <td>i was suggested this web site by my cousin i a...</td>\n",
       "    </tr>\n",
       "  </tbody>\n",
       "</table>\n",
       "<p>15803 rows × 3 columns</p>\n",
       "</div>"
      ],
      "text/plain": [
       "              type      date_normalized  \\\n",
       "0      publication  2025-04-06 22:57:00   \n",
       "1          comment  2024-04-06 08:22:00   \n",
       "2          comment  2024-04-06 10:58:00   \n",
       "3      publication  2025-04-06 23:00:00   \n",
       "4      publication  2025-04-03 23:17:00   \n",
       "...            ...                  ...   \n",
       "15802        reply  2024-02-14 13:51:00   \n",
       "15803      comment  2024-02-15 12:41:00   \n",
       "15804  publication  2024-02-13 20:45:00   \n",
       "15805      comment  2024-02-14 20:34:00   \n",
       "15806        reply  2024-02-20 18:28:00   \n",
       "\n",
       "                                          text_processed  \n",
       "0      il fut une époque à pouni où l’ expression ken...  \n",
       "1      heu si j’ ai bien compris nos autorités actuel...  \n",
       "2      bravo à cet intellectuel de haut vol pour qui ...  \n",
       "3      l’ administration de la justice dans un contex...  \n",
       "4      ouagadougou 03 avril 2025 le président du faso...  \n",
       "...                                                  ...  \n",
       "15802  kibora bon résumé de la situation du congo bel...  \n",
       "15803  kibora messire patrick kibora je ne sais si vo...  \n",
       "15804  la dégradation de la situation socio-politique...  \n",
       "15805  tous les pays toutes les organisations qui ont...  \n",
       "15806  i was suggested this web site by my cousin i a...  \n",
       "\n",
       "[15803 rows x 3 columns]"
      ]
     },
     "execution_count": 9,
     "metadata": {},
     "output_type": "execute_result"
    }
   ],
   "source": [
    "data"
   ]
  },
  {
   "cell_type": "code",
   "execution_count": 10,
   "id": "1901f770",
   "metadata": {
    "colab": {
     "base_uri": "https://localhost:8080/",
     "height": 424
    },
    "id": "1901f770",
    "outputId": "86aba9f5-1208-4b32-9761-be520df37fd2"
   },
   "outputs": [
    {
     "data": {
      "text/html": [
       "<div>\n",
       "<style scoped>\n",
       "    .dataframe tbody tr th:only-of-type {\n",
       "        vertical-align: middle;\n",
       "    }\n",
       "\n",
       "    .dataframe tbody tr th {\n",
       "        vertical-align: top;\n",
       "    }\n",
       "\n",
       "    .dataframe thead th {\n",
       "        text-align: right;\n",
       "    }\n",
       "</style>\n",
       "<table border=\"1\" class=\"dataframe\">\n",
       "  <thead>\n",
       "    <tr style=\"text-align: right;\">\n",
       "      <th></th>\n",
       "      <th>type</th>\n",
       "      <th>date_normalized</th>\n",
       "      <th>text_processed</th>\n",
       "    </tr>\n",
       "  </thead>\n",
       "  <tbody>\n",
       "    <tr>\n",
       "      <th>0</th>\n",
       "      <td>publication</td>\n",
       "      <td>2025-04-06 22:57:00</td>\n",
       "      <td>il fut une époque à pouni où l  expression ken...</td>\n",
       "    </tr>\n",
       "    <tr>\n",
       "      <th>1</th>\n",
       "      <td>comment</td>\n",
       "      <td>2024-04-06 08:22:00</td>\n",
       "      <td>heu si j  ai bien compris nos autorités actuel...</td>\n",
       "    </tr>\n",
       "    <tr>\n",
       "      <th>2</th>\n",
       "      <td>comment</td>\n",
       "      <td>2024-04-06 10:58:00</td>\n",
       "      <td>bravo à cet intellectuel de haut vol pour qui ...</td>\n",
       "    </tr>\n",
       "    <tr>\n",
       "      <th>3</th>\n",
       "      <td>publication</td>\n",
       "      <td>2025-04-06 23:00:00</td>\n",
       "      <td>l  administration de la justice dans un contex...</td>\n",
       "    </tr>\n",
       "    <tr>\n",
       "      <th>4</th>\n",
       "      <td>publication</td>\n",
       "      <td>2025-04-03 23:17:00</td>\n",
       "      <td>ouagadougou 03 avril 2025 le président du faso...</td>\n",
       "    </tr>\n",
       "    <tr>\n",
       "      <th>...</th>\n",
       "      <td>...</td>\n",
       "      <td>...</td>\n",
       "      <td>...</td>\n",
       "    </tr>\n",
       "    <tr>\n",
       "      <th>15802</th>\n",
       "      <td>reply</td>\n",
       "      <td>2024-02-14 13:51:00</td>\n",
       "      <td>kibora bon résumé de la situation du congo bel...</td>\n",
       "    </tr>\n",
       "    <tr>\n",
       "      <th>15803</th>\n",
       "      <td>comment</td>\n",
       "      <td>2024-02-15 12:41:00</td>\n",
       "      <td>kibora messire patrick kibora je ne sais si vo...</td>\n",
       "    </tr>\n",
       "    <tr>\n",
       "      <th>15804</th>\n",
       "      <td>publication</td>\n",
       "      <td>2024-02-13 20:45:00</td>\n",
       "      <td>la dégradation de la situation socio politique...</td>\n",
       "    </tr>\n",
       "    <tr>\n",
       "      <th>15805</th>\n",
       "      <td>comment</td>\n",
       "      <td>2024-02-14 20:34:00</td>\n",
       "      <td>tous les pays toutes les organisations qui ont...</td>\n",
       "    </tr>\n",
       "    <tr>\n",
       "      <th>15806</th>\n",
       "      <td>reply</td>\n",
       "      <td>2024-02-20 18:28:00</td>\n",
       "      <td>i was suggested this web site by my cousin i a...</td>\n",
       "    </tr>\n",
       "  </tbody>\n",
       "</table>\n",
       "<p>15803 rows × 3 columns</p>\n",
       "</div>"
      ],
      "text/plain": [
       "              type      date_normalized  \\\n",
       "0      publication  2025-04-06 22:57:00   \n",
       "1          comment  2024-04-06 08:22:00   \n",
       "2          comment  2024-04-06 10:58:00   \n",
       "3      publication  2025-04-06 23:00:00   \n",
       "4      publication  2025-04-03 23:17:00   \n",
       "...            ...                  ...   \n",
       "15802        reply  2024-02-14 13:51:00   \n",
       "15803      comment  2024-02-15 12:41:00   \n",
       "15804  publication  2024-02-13 20:45:00   \n",
       "15805      comment  2024-02-14 20:34:00   \n",
       "15806        reply  2024-02-20 18:28:00   \n",
       "\n",
       "                                          text_processed  \n",
       "0      il fut une époque à pouni où l  expression ken...  \n",
       "1      heu si j  ai bien compris nos autorités actuel...  \n",
       "2      bravo à cet intellectuel de haut vol pour qui ...  \n",
       "3      l  administration de la justice dans un contex...  \n",
       "4      ouagadougou 03 avril 2025 le président du faso...  \n",
       "...                                                  ...  \n",
       "15802  kibora bon résumé de la situation du congo bel...  \n",
       "15803  kibora messire patrick kibora je ne sais si vo...  \n",
       "15804  la dégradation de la situation socio politique...  \n",
       "15805  tous les pays toutes les organisations qui ont...  \n",
       "15806  i was suggested this web site by my cousin i a...  \n",
       "\n",
       "[15803 rows x 3 columns]"
      ]
     },
     "execution_count": 10,
     "metadata": {},
     "output_type": "execute_result"
    }
   ],
   "source": [
    "# Removing special characters\n",
    "data[\"text_processed\"] = data[\"text_processed\"].apply(lambda df: re.sub(r\"([^\\w\\s])\", \" \", df))\n",
    "data"
   ]
  },
  {
   "cell_type": "code",
   "execution_count": 11,
   "id": "4b2e3fb8",
   "metadata": {
    "colab": {
     "base_uri": "https://localhost:8080/"
    },
    "id": "4b2e3fb8",
    "outputId": "5e2159f6-4b85-4a81-cc09-c8c8d115df12"
   },
   "outputs": [
    {
     "name": "stderr",
     "output_type": "stream",
     "text": [
      "[nltk_data] Downloading package punkt to\n",
      "[nltk_data]     C:\\Users\\HP\\AppData\\Roaming\\nltk_data...\n",
      "[nltk_data]   Package punkt is already up-to-date!\n"
     ]
    },
    {
     "data": {
      "text/plain": [
       "True"
      ]
     },
     "execution_count": 11,
     "metadata": {},
     "output_type": "execute_result"
    }
   ],
   "source": [
    "nltk.download('punkt')"
   ]
  },
  {
   "cell_type": "code",
   "execution_count": 12,
   "id": "XiNwtbaI2uzh",
   "metadata": {
    "colab": {
     "base_uri": "https://localhost:8080/"
    },
    "id": "XiNwtbaI2uzh",
    "outputId": "bcf625e7-c053-4178-cc7f-7398eb5da07d"
   },
   "outputs": [
    {
     "name": "stderr",
     "output_type": "stream",
     "text": [
      "[nltk_data] Downloading package stopwords to\n",
      "[nltk_data]     C:\\Users\\HP\\AppData\\Roaming\\nltk_data...\n",
      "[nltk_data]   Package stopwords is already up-to-date!\n"
     ]
    },
    {
     "data": {
      "text/plain": [
       "True"
      ]
     },
     "execution_count": 12,
     "metadata": {},
     "output_type": "execute_result"
    }
   ],
   "source": [
    "nltk.download('stopwords')"
   ]
  },
  {
   "cell_type": "code",
   "execution_count": 13,
   "id": "cf10b27d",
   "metadata": {
    "colab": {
     "base_uri": "https://localhost:8080/"
    },
    "id": "cf10b27d",
    "outputId": "3165f886-ef7f-46f9-9560-7451ea255271"
   },
   "outputs": [
    {
     "name": "stdout",
     "output_type": "stream",
     "text": [
      "les stopwords: {'avec', 'ayantes', 'ou', 'ces', 'eu', 'qu', 'aient', 'fus', 'et', 'étants', 'eûtes', 'avais', 'même', 'sois', 'eurent', 'notre', 'fussent', 'me', 'le', 'ayants', 'étant', 'des', 'eusses', 'vos', 'fusses', 'n', 'on', 'leur', 'seront', 'serais', 'en', 'il', 't', 'eut', 'ton', 'furent', 'la', 'eusse', 'eus', 'un', 's', 'te', 'serons', 'étantes', 'nos', 'aies', 'seras', 'fussiez', 'serait', 'eux', 'étée', 'étiez', 'auraient', 'avaient', 'ils', 'aurais', 'pour', 'aurons', 'eussions', 'tes', 'auriez', 'du', 'ta', 'sur', 'vous', 'aie', 'ayant', 'lui', 'de', 'eue', 'étées', 'serai', 'aurions', 'eussent', 'eûmes', 'aura', 'avons', 'ce', 'une', 'avions', 'seriez', 'ai', 'mon', 'aurai', 'les', 'sa', 'suis', 'son', 'est', 'aux', 'par', 'qui', 'tu', 'eussiez', 'soyez', 'étaient', 'au', 'sont', 'êtes', 'ayons', 'avait', 'fûtes', 'se', 'l', 'elle', 'fut', 'étante', 'fusse', 'aurez', 'as', 'ayante', 'mes', 'votre', 'moi', 'ma', 'été', 'ses', 'pas', 'était', 'étions', 'ont', 'ayez', 'm', 'soit', 'eût', 'y', 'aviez', 'que', 'sera', 'fût', 'fussions', 'soient', 'dans', 'mais', 'eues', 'aurait', 'nous', 'j', 'c', 'd', 'auras', 'je', 'fûmes', 'toi', 'soyons', 'es', 'serez', 'serions', 'seraient', 'sommes', 'étés', 'ait', 'ne', 'à', 'avez', 'auront', 'étais'}\n"
     ]
    }
   ],
   "source": [
    "# Removing stopswords\n",
    "stop_words = set(stopwords.words('french'))\n",
    "#others_stop_words = [\"cette\", \"ça\", \"faut\", \"va\", \"a\", \"tous\", \"toutes\", \"là\"]\n",
    "#stop_words.update(others_stop_words)\n",
    "print(f\"les stopwords: {stop_words}\")\n",
    "data[\"text_processed_w_stpw\"] = data[\"text_processed\"].apply(lambda line: ' '.join([word for word in line.split() if word not in stop_words]))"
   ]
  },
  {
   "cell_type": "code",
   "execution_count": 14,
   "id": "f7153410",
   "metadata": {
    "colab": {
     "base_uri": "https://localhost:8080/",
     "height": 206
    },
    "id": "f7153410",
    "outputId": "0119f61c-8717-4d14-d663-016f29bee2f1"
   },
   "outputs": [
    {
     "data": {
      "text/html": [
       "<div>\n",
       "<style scoped>\n",
       "    .dataframe tbody tr th:only-of-type {\n",
       "        vertical-align: middle;\n",
       "    }\n",
       "\n",
       "    .dataframe tbody tr th {\n",
       "        vertical-align: top;\n",
       "    }\n",
       "\n",
       "    .dataframe thead th {\n",
       "        text-align: right;\n",
       "    }\n",
       "</style>\n",
       "<table border=\"1\" class=\"dataframe\">\n",
       "  <thead>\n",
       "    <tr style=\"text-align: right;\">\n",
       "      <th></th>\n",
       "      <th>type</th>\n",
       "      <th>date_normalized</th>\n",
       "      <th>text_processed</th>\n",
       "      <th>text_processed_w_stpw</th>\n",
       "    </tr>\n",
       "  </thead>\n",
       "  <tbody>\n",
       "    <tr>\n",
       "      <th>0</th>\n",
       "      <td>publication</td>\n",
       "      <td>2025-04-06 22:57:00</td>\n",
       "      <td>il fut une époque à pouni où l  expression ken...</td>\n",
       "      <td>époque pouni où expression ken you aton vogue ...</td>\n",
       "    </tr>\n",
       "    <tr>\n",
       "      <th>1</th>\n",
       "      <td>comment</td>\n",
       "      <td>2024-04-06 08:22:00</td>\n",
       "      <td>heu si j  ai bien compris nos autorités actuel...</td>\n",
       "      <td>heu si bien compris autorités actuelles souhai...</td>\n",
       "    </tr>\n",
       "    <tr>\n",
       "      <th>2</th>\n",
       "      <td>comment</td>\n",
       "      <td>2024-04-06 10:58:00</td>\n",
       "      <td>bravo à cet intellectuel de haut vol pour qui ...</td>\n",
       "      <td>bravo cet intellectuel haut vol génétique a pl...</td>\n",
       "    </tr>\n",
       "    <tr>\n",
       "      <th>3</th>\n",
       "      <td>publication</td>\n",
       "      <td>2025-04-06 23:00:00</td>\n",
       "      <td>l  administration de la justice dans un contex...</td>\n",
       "      <td>administration justice contexte transition que...</td>\n",
       "    </tr>\n",
       "    <tr>\n",
       "      <th>4</th>\n",
       "      <td>publication</td>\n",
       "      <td>2025-04-03 23:17:00</td>\n",
       "      <td>ouagadougou 03 avril 2025 le président du faso...</td>\n",
       "      <td>ouagadougou 03 avril 2025 président faso chef ...</td>\n",
       "    </tr>\n",
       "  </tbody>\n",
       "</table>\n",
       "</div>"
      ],
      "text/plain": [
       "          type      date_normalized  \\\n",
       "0  publication  2025-04-06 22:57:00   \n",
       "1      comment  2024-04-06 08:22:00   \n",
       "2      comment  2024-04-06 10:58:00   \n",
       "3  publication  2025-04-06 23:00:00   \n",
       "4  publication  2025-04-03 23:17:00   \n",
       "\n",
       "                                      text_processed  \\\n",
       "0  il fut une époque à pouni où l  expression ken...   \n",
       "1  heu si j  ai bien compris nos autorités actuel...   \n",
       "2  bravo à cet intellectuel de haut vol pour qui ...   \n",
       "3  l  administration de la justice dans un contex...   \n",
       "4  ouagadougou 03 avril 2025 le président du faso...   \n",
       "\n",
       "                               text_processed_w_stpw  \n",
       "0  époque pouni où expression ken you aton vogue ...  \n",
       "1  heu si bien compris autorités actuelles souhai...  \n",
       "2  bravo cet intellectuel haut vol génétique a pl...  \n",
       "3  administration justice contexte transition que...  \n",
       "4  ouagadougou 03 avril 2025 président faso chef ...  "
      ]
     },
     "execution_count": 14,
     "metadata": {},
     "output_type": "execute_result"
    }
   ],
   "source": [
    "data.head()"
   ]
  },
  {
   "cell_type": "code",
   "execution_count": null,
   "id": "kQ8SHViD3HWq",
   "metadata": {
    "colab": {
     "base_uri": "https://localhost:8080/"
    },
    "id": "kQ8SHViD3HWq",
    "outputId": "c2fe996d-8948-4f74-be51-5cc946f0bb8d"
   },
   "outputs": [],
   "source": [
    "!python -m spacy download fr_core_news_sm"
   ]
  },
  {
   "cell_type": "code",
   "execution_count": 16,
   "id": "a3cfd316",
   "metadata": {
    "id": "a3cfd316"
   },
   "outputs": [],
   "source": [
    "nlp = spacy.load(\"fr_core_news_sm\")"
   ]
  },
  {
   "cell_type": "code",
   "execution_count": 17,
   "id": "26843171",
   "metadata": {
    "colab": {
     "base_uri": "https://localhost:8080/",
     "height": 206
    },
    "id": "26843171",
    "outputId": "06fff6f7-7b5e-4cc3-89bc-d5b8d9807c81"
   },
   "outputs": [
    {
     "name": "stdout",
     "output_type": "stream",
     "text": [
      "Collecting fr-core-news-sm==3.8.0\n",
      "  Downloading https://github.com/explosion/spacy-models/releases/download/fr_core_news_sm-3.8.0/fr_core_news_sm-3.8.0-py3-none-any.whl (16.3 MB)\n",
      "     ---------------------------------------- 0.0/16.3 MB ? eta -:--:--\n",
      "     ---------------------------------------- 0.0/16.3 MB 1.3 MB/s eta 0:00:13\n",
      "     ---------------------------------------- 0.0/16.3 MB 1.3 MB/s eta 0:00:13\n",
      "     --------------------------------------- 0.1/16.3 MB 435.7 kB/s eta 0:00:38\n",
      "     --------------------------------------- 0.1/16.3 MB 581.0 kB/s eta 0:00:28\n",
      "     --------------------------------------- 0.1/16.3 MB 581.0 kB/s eta 0:00:28\n",
      "     --------------------------------------- 0.1/16.3 MB 532.5 kB/s eta 0:00:31\n",
      "     --------------------------------------- 0.2/16.3 MB 538.9 kB/s eta 0:00:30\n",
      "     --------------------------------------- 0.2/16.3 MB 483.6 kB/s eta 0:00:34\n",
      "      -------------------------------------- 0.3/16.3 MB 654.7 kB/s eta 0:00:25\n",
      "      -------------------------------------- 0.3/16.3 MB 654.1 kB/s eta 0:00:25\n",
      "      -------------------------------------- 0.4/16.3 MB 754.1 kB/s eta 0:00:22\n",
      "     - ------------------------------------- 0.6/16.3 MB 964.0 kB/s eta 0:00:17\n",
      "     - -------------------------------------- 0.6/16.3 MB 1.0 MB/s eta 0:00:16\n",
      "     - -------------------------------------- 0.8/16.3 MB 1.2 MB/s eta 0:00:14\n",
      "     -- ------------------------------------- 1.1/16.3 MB 1.5 MB/s eta 0:00:11\n",
      "     --- ------------------------------------ 1.3/16.3 MB 1.6 MB/s eta 0:00:10\n",
      "     --- ------------------------------------ 1.4/16.3 MB 1.7 MB/s eta 0:00:09\n",
      "     ---- ----------------------------------- 1.8/16.3 MB 1.8 MB/s eta 0:00:08\n",
      "     ---- ----------------------------------- 2.0/16.3 MB 1.9 MB/s eta 0:00:08\n",
      "     ----- ---------------------------------- 2.2/16.3 MB 1.9 MB/s eta 0:00:08\n",
      "     ------ --------------------------------- 2.5/16.3 MB 2.0 MB/s eta 0:00:07\n",
      "     ------ --------------------------------- 2.7/16.3 MB 2.1 MB/s eta 0:00:07\n",
      "     ------- -------------------------------- 3.1/16.3 MB 2.3 MB/s eta 0:00:06\n",
      "     -------- ------------------------------- 3.6/16.3 MB 2.5 MB/s eta 0:00:06\n",
      "     --------- ------------------------------ 3.7/16.3 MB 2.4 MB/s eta 0:00:06\n",
      "     --------- ------------------------------ 4.0/16.3 MB 2.5 MB/s eta 0:00:05\n",
      "     ---------- ----------------------------- 4.2/16.3 MB 2.6 MB/s eta 0:00:05\n",
      "     ---------- ----------------------------- 4.4/16.3 MB 2.6 MB/s eta 0:00:05\n",
      "     ----------- ---------------------------- 4.7/16.3 MB 2.6 MB/s eta 0:00:05\n",
      "     ------------ --------------------------- 5.1/16.3 MB 2.7 MB/s eta 0:00:05\n",
      "     ------------ --------------------------- 5.2/16.3 MB 2.7 MB/s eta 0:00:05\n",
      "     ------------- -------------------------- 5.4/16.3 MB 2.8 MB/s eta 0:00:04\n",
      "     ------------- -------------------------- 5.4/16.3 MB 2.7 MB/s eta 0:00:04\n",
      "     -------------- ------------------------- 5.7/16.3 MB 2.8 MB/s eta 0:00:04\n",
      "     -------------- ------------------------- 5.9/16.3 MB 2.8 MB/s eta 0:00:04\n",
      "     -------------- ------------------------- 6.1/16.3 MB 2.8 MB/s eta 0:00:04\n",
      "     --------------- ------------------------ 6.2/16.3 MB 2.8 MB/s eta 0:00:04\n",
      "     --------------- ------------------------ 6.3/16.3 MB 2.8 MB/s eta 0:00:04\n",
      "     ---------------- ----------------------- 6.6/16.3 MB 2.8 MB/s eta 0:00:04\n",
      "     ---------------- ----------------------- 6.7/16.3 MB 2.9 MB/s eta 0:00:04\n",
      "     ----------------- ---------------------- 7.0/16.3 MB 2.9 MB/s eta 0:00:04\n",
      "     ----------------- ---------------------- 7.2/16.3 MB 2.9 MB/s eta 0:00:04\n",
      "     ------------------ --------------------- 7.4/16.3 MB 2.9 MB/s eta 0:00:04\n",
      "     ------------------ --------------------- 7.5/16.3 MB 2.9 MB/s eta 0:00:03\n",
      "     ------------------- -------------------- 7.8/16.3 MB 3.0 MB/s eta 0:00:03\n",
      "     ------------------- -------------------- 8.1/16.3 MB 3.1 MB/s eta 0:00:03\n",
      "     ------------------- -------------------- 8.1/16.3 MB 3.0 MB/s eta 0:00:03\n",
      "     ------------------- -------------------- 8.1/16.3 MB 3.0 MB/s eta 0:00:03\n",
      "     -------------------- ------------------- 8.2/16.3 MB 2.9 MB/s eta 0:00:03\n",
      "     -------------------- ------------------- 8.2/16.3 MB 2.9 MB/s eta 0:00:03\n",
      "     -------------------- ------------------- 8.2/16.3 MB 2.9 MB/s eta 0:00:03\n",
      "     -------------------- ------------------- 8.2/16.3 MB 2.9 MB/s eta 0:00:03\n",
      "     -------------------- ------------------- 8.2/16.3 MB 2.8 MB/s eta 0:00:03\n",
      "     -------------------- ------------------- 8.3/16.3 MB 2.7 MB/s eta 0:00:03\n",
      "     -------------------- ------------------- 8.5/16.3 MB 2.8 MB/s eta 0:00:03\n",
      "     --------------------- ------------------ 8.7/16.3 MB 2.8 MB/s eta 0:00:03\n",
      "     --------------------- ------------------ 8.8/16.3 MB 2.8 MB/s eta 0:00:03\n",
      "     --------------------- ------------------ 8.9/16.3 MB 2.8 MB/s eta 0:00:03\n",
      "     ---------------------- ----------------- 9.1/16.3 MB 2.8 MB/s eta 0:00:03\n",
      "     ---------------------- ----------------- 9.3/16.3 MB 2.8 MB/s eta 0:00:03\n",
      "     ----------------------- ---------------- 9.5/16.3 MB 2.8 MB/s eta 0:00:03\n",
      "     ----------------------- ---------------- 9.7/16.3 MB 2.8 MB/s eta 0:00:03\n",
      "     ------------------------ --------------- 9.8/16.3 MB 2.8 MB/s eta 0:00:03\n",
      "     ------------------------ --------------- 10.0/16.3 MB 2.8 MB/s eta 0:00:03\n",
      "     ------------------------- -------------- 10.3/16.3 MB 2.9 MB/s eta 0:00:03\n",
      "     ------------------------- -------------- 10.3/16.3 MB 2.9 MB/s eta 0:00:03\n",
      "     ------------------------- -------------- 10.5/16.3 MB 3.1 MB/s eta 0:00:02\n",
      "     -------------------------- ------------- 10.7/16.3 MB 3.2 MB/s eta 0:00:02\n",
      "     -------------------------- ------------- 10.8/16.3 MB 3.2 MB/s eta 0:00:02\n",
      "     -------------------------- ------------- 10.9/16.3 MB 3.2 MB/s eta 0:00:02\n",
      "     -------------------------- ------------- 10.9/16.3 MB 3.2 MB/s eta 0:00:02\n",
      "     --------------------------- ------------ 11.1/16.3 MB 3.1 MB/s eta 0:00:02\n",
      "     --------------------------- ------------ 11.3/16.3 MB 3.1 MB/s eta 0:00:02\n",
      "     ---------------------------- ----------- 11.5/16.3 MB 3.1 MB/s eta 0:00:02\n",
      "     ---------------------------- ----------- 11.7/16.3 MB 3.2 MB/s eta 0:00:02\n",
      "     ----------------------------- ---------- 12.1/16.3 MB 3.2 MB/s eta 0:00:02\n",
      "     ------------------------------ --------- 12.3/16.3 MB 3.3 MB/s eta 0:00:02\n",
      "     ------------------------------ --------- 12.3/16.3 MB 3.3 MB/s eta 0:00:02\n",
      "     ------------------------------ --------- 12.3/16.3 MB 3.3 MB/s eta 0:00:02\n",
      "     ------------------------------ --------- 12.3/16.3 MB 3.1 MB/s eta 0:00:02\n",
      "     ------------------------------ --------- 12.3/16.3 MB 3.1 MB/s eta 0:00:02\n",
      "     ------------------------------ --------- 12.3/16.3 MB 3.1 MB/s eta 0:00:02\n",
      "     ------------------------------ --------- 12.3/16.3 MB 3.1 MB/s eta 0:00:02\n",
      "     ------------------------------ --------- 12.4/16.3 MB 3.0 MB/s eta 0:00:02\n",
      "     ------------------------------ --------- 12.5/16.3 MB 2.9 MB/s eta 0:00:02\n",
      "     ------------------------------ --------- 12.5/16.3 MB 2.9 MB/s eta 0:00:02\n",
      "     ------------------------------- -------- 12.7/16.3 MB 2.9 MB/s eta 0:00:02\n",
      "     ------------------------------- -------- 12.7/16.3 MB 2.9 MB/s eta 0:00:02\n",
      "     ------------------------------- -------- 12.8/16.3 MB 2.9 MB/s eta 0:00:02\n",
      "     ------------------------------- -------- 13.0/16.3 MB 2.9 MB/s eta 0:00:02\n",
      "     -------------------------------- ------- 13.1/16.3 MB 2.8 MB/s eta 0:00:02\n",
      "     -------------------------------- ------- 13.4/16.3 MB 2.9 MB/s eta 0:00:02\n",
      "     --------------------------------- ------ 13.7/16.3 MB 2.9 MB/s eta 0:00:01\n",
      "     ---------------------------------- ----- 14.1/16.3 MB 2.9 MB/s eta 0:00:01\n",
      "     ----------------------------------- ---- 14.5/16.3 MB 3.0 MB/s eta 0:00:01\n",
      "     ------------------------------------ --- 14.8/16.3 MB 3.0 MB/s eta 0:00:01\n",
      "     ------------------------------------ --- 15.0/16.3 MB 3.0 MB/s eta 0:00:01\n",
      "     ------------------------------------- -- 15.2/16.3 MB 3.0 MB/s eta 0:00:01\n",
      "     -------------------------------------- - 15.5/16.3 MB 3.0 MB/s eta 0:00:01\n",
      "     -------------------------------------- - 15.7/16.3 MB 3.1 MB/s eta 0:00:01\n",
      "     ---------------------------------------  16.1/16.3 MB 3.1 MB/s eta 0:00:01\n",
      "     ---------------------------------------  16.3/16.3 MB 3.1 MB/s eta 0:00:01\n",
      "     ---------------------------------------  16.3/16.3 MB 3.1 MB/s eta 0:00:01\n",
      "     ---------------------------------------  16.3/16.3 MB 3.1 MB/s eta 0:00:01\n",
      "     ---------------------------------------  16.3/16.3 MB 3.1 MB/s eta 0:00:01\n",
      "     ---------------------------------------  16.3/16.3 MB 3.1 MB/s eta 0:00:01\n",
      "     ---------------------------------------  16.3/16.3 MB 3.1 MB/s eta 0:00:01\n",
      "     ---------------------------------------  16.3/16.3 MB 3.1 MB/s eta 0:00:01\n",
      "     ---------------------------------------  16.3/16.3 MB 3.1 MB/s eta 0:00:01\n",
      "     ---------------------------------------  16.3/16.3 MB 3.1 MB/s eta 0:00:01\n",
      "     ---------------------------------------  16.3/16.3 MB 3.1 MB/s eta 0:00:01\n",
      "     ---------------------------------------  16.3/16.3 MB 3.1 MB/s eta 0:00:01\n",
      "     ---------------------------------------  16.3/16.3 MB 3.1 MB/s eta 0:00:01\n",
      "     ---------------------------------------  16.3/16.3 MB 3.1 MB/s eta 0:00:01\n",
      "     ---------------------------------------  16.3/16.3 MB 3.1 MB/s eta 0:00:01\n",
      "     ---------------------------------------  16.3/16.3 MB 3.1 MB/s eta 0:00:01\n",
      "     ---------------------------------------  16.3/16.3 MB 3.1 MB/s eta 0:00:01\n",
      "     ---------------------------------------  16.3/16.3 MB 3.1 MB/s eta 0:00:01\n",
      "     ---------------------------------------  16.3/16.3 MB 3.1 MB/s eta 0:00:01\n",
      "     ---------------------------------------- 16.3/16.3 MB 2.3 MB/s eta 0:00:00\n",
      "\u001b[38;5;2m[+] Download and installation successful\u001b[0m\n",
      "You can now load the package via spacy.load('fr_core_news_sm')\n"
     ]
    },
    {
     "data": {
      "text/html": [
       "<div>\n",
       "<style scoped>\n",
       "    .dataframe tbody tr th:only-of-type {\n",
       "        vertical-align: middle;\n",
       "    }\n",
       "\n",
       "    .dataframe tbody tr th {\n",
       "        vertical-align: top;\n",
       "    }\n",
       "\n",
       "    .dataframe thead th {\n",
       "        text-align: right;\n",
       "    }\n",
       "</style>\n",
       "<table border=\"1\" class=\"dataframe\">\n",
       "  <thead>\n",
       "    <tr style=\"text-align: right;\">\n",
       "      <th></th>\n",
       "      <th>type</th>\n",
       "      <th>date_normalized</th>\n",
       "      <th>text_processed</th>\n",
       "      <th>text_processed_w_stpw</th>\n",
       "      <th>comment_process_spacy</th>\n",
       "    </tr>\n",
       "  </thead>\n",
       "  <tbody>\n",
       "    <tr>\n",
       "      <th>0</th>\n",
       "      <td>publication</td>\n",
       "      <td>2025-04-06 22:57:00</td>\n",
       "      <td>il fut une époque à pouni où l  expression ken...</td>\n",
       "      <td>époque pouni où expression ken you aton vogue ...</td>\n",
       "      <td>(époque, pouni, où, expression, ken, you, aton...</td>\n",
       "    </tr>\n",
       "    <tr>\n",
       "      <th>1</th>\n",
       "      <td>comment</td>\n",
       "      <td>2024-04-06 08:22:00</td>\n",
       "      <td>heu si j  ai bien compris nos autorités actuel...</td>\n",
       "      <td>heu si bien compris autorités actuelles souhai...</td>\n",
       "      <td>(heu, si, bien, compris, autorités, actuelles,...</td>\n",
       "    </tr>\n",
       "    <tr>\n",
       "      <th>2</th>\n",
       "      <td>comment</td>\n",
       "      <td>2024-04-06 10:58:00</td>\n",
       "      <td>bravo à cet intellectuel de haut vol pour qui ...</td>\n",
       "      <td>bravo cet intellectuel haut vol génétique a pl...</td>\n",
       "      <td>(bravo, cet, intellectuel, haut, vol, génétiqu...</td>\n",
       "    </tr>\n",
       "    <tr>\n",
       "      <th>3</th>\n",
       "      <td>publication</td>\n",
       "      <td>2025-04-06 23:00:00</td>\n",
       "      <td>l  administration de la justice dans un contex...</td>\n",
       "      <td>administration justice contexte transition que...</td>\n",
       "      <td>(administration, justice, contexte, transition...</td>\n",
       "    </tr>\n",
       "    <tr>\n",
       "      <th>4</th>\n",
       "      <td>publication</td>\n",
       "      <td>2025-04-03 23:17:00</td>\n",
       "      <td>ouagadougou 03 avril 2025 le président du faso...</td>\n",
       "      <td>ouagadougou 03 avril 2025 président faso chef ...</td>\n",
       "      <td>(ouagadougou, 03, avril, 2025, président, faso...</td>\n",
       "    </tr>\n",
       "  </tbody>\n",
       "</table>\n",
       "</div>"
      ],
      "text/plain": [
       "          type      date_normalized  \\\n",
       "0  publication  2025-04-06 22:57:00   \n",
       "1      comment  2024-04-06 08:22:00   \n",
       "2      comment  2024-04-06 10:58:00   \n",
       "3  publication  2025-04-06 23:00:00   \n",
       "4  publication  2025-04-03 23:17:00   \n",
       "\n",
       "                                      text_processed  \\\n",
       "0  il fut une époque à pouni où l  expression ken...   \n",
       "1  heu si j  ai bien compris nos autorités actuel...   \n",
       "2  bravo à cet intellectuel de haut vol pour qui ...   \n",
       "3  l  administration de la justice dans un contex...   \n",
       "4  ouagadougou 03 avril 2025 le président du faso...   \n",
       "\n",
       "                               text_processed_w_stpw  \\\n",
       "0  époque pouni où expression ken you aton vogue ...   \n",
       "1  heu si bien compris autorités actuelles souhai...   \n",
       "2  bravo cet intellectuel haut vol génétique a pl...   \n",
       "3  administration justice contexte transition que...   \n",
       "4  ouagadougou 03 avril 2025 président faso chef ...   \n",
       "\n",
       "                               comment_process_spacy  \n",
       "0  (époque, pouni, où, expression, ken, you, aton...  \n",
       "1  (heu, si, bien, compris, autorités, actuelles,...  \n",
       "2  (bravo, cet, intellectuel, haut, vol, génétiqu...  \n",
       "3  (administration, justice, contexte, transition...  \n",
       "4  (ouagadougou, 03, avril, 2025, président, faso...  "
      ]
     },
     "execution_count": 17,
     "metadata": {},
     "output_type": "execute_result"
    }
   ],
   "source": [
    "data[\"comment_process_spacy\"] = data[\"text_processed_w_stpw\"].apply(lambda col: nlp(col))\n",
    "data.head()"
   ]
  },
  {
   "cell_type": "code",
   "execution_count": 20,
   "id": "f194d1fb",
   "metadata": {
    "colab": {
     "base_uri": "https://localhost:8080/",
     "height": 293
    },
    "id": "f194d1fb",
    "outputId": "e757a1bb-b74d-4a2c-9f4d-49dfd2fb5397"
   },
   "outputs": [
    {
     "data": {
      "text/html": [
       "<div>\n",
       "<style scoped>\n",
       "    .dataframe tbody tr th:only-of-type {\n",
       "        vertical-align: middle;\n",
       "    }\n",
       "\n",
       "    .dataframe tbody tr th {\n",
       "        vertical-align: top;\n",
       "    }\n",
       "\n",
       "    .dataframe thead th {\n",
       "        text-align: right;\n",
       "    }\n",
       "</style>\n",
       "<table border=\"1\" class=\"dataframe\">\n",
       "  <thead>\n",
       "    <tr style=\"text-align: right;\">\n",
       "      <th></th>\n",
       "      <th>type</th>\n",
       "      <th>date_normalized</th>\n",
       "      <th>text_processed</th>\n",
       "      <th>text_processed_w_stpw</th>\n",
       "      <th>comment_process_spacy</th>\n",
       "      <th>lemetized_tokens</th>\n",
       "      <th>cleanned_text</th>\n",
       "    </tr>\n",
       "  </thead>\n",
       "  <tbody>\n",
       "    <tr>\n",
       "      <th>0</th>\n",
       "      <td>publication</td>\n",
       "      <td>2025-04-06 22:57:00</td>\n",
       "      <td>il fut une époque à pouni où l  expression ken...</td>\n",
       "      <td>époque pouni où expression ken you aton vogue ...</td>\n",
       "      <td>(époque, pouni, où, expression, ken, you, aton...</td>\n",
       "      <td>[époque, pouni, où, expression, ken, you, aton...</td>\n",
       "      <td>['époque', 'pouni', 'où', 'expression', 'ken',...</td>\n",
       "    </tr>\n",
       "    <tr>\n",
       "      <th>1</th>\n",
       "      <td>comment</td>\n",
       "      <td>2024-04-06 08:22:00</td>\n",
       "      <td>heu si j  ai bien compris nos autorités actuel...</td>\n",
       "      <td>heu si bien compris autorités actuelles souhai...</td>\n",
       "      <td>(heu, si, bien, compris, autorités, actuelles,...</td>\n",
       "      <td>[heu, si, bien, comprendre, autorité, actuel, ...</td>\n",
       "      <td>['heu', 'si', 'bien', 'comprendre', 'autorité'...</td>\n",
       "    </tr>\n",
       "    <tr>\n",
       "      <th>2</th>\n",
       "      <td>comment</td>\n",
       "      <td>2024-04-06 10:58:00</td>\n",
       "      <td>bravo à cet intellectuel de haut vol pour qui ...</td>\n",
       "      <td>bravo cet intellectuel haut vol génétique a pl...</td>\n",
       "      <td>(bravo, cet, intellectuel, haut, vol, génétiqu...</td>\n",
       "      <td>[bravo, ce, intellectuel, haut, vol, génétique...</td>\n",
       "      <td>['bravo', 'ce', 'intellectuel', 'haut', 'vol',...</td>\n",
       "    </tr>\n",
       "    <tr>\n",
       "      <th>3</th>\n",
       "      <td>publication</td>\n",
       "      <td>2025-04-06 23:00:00</td>\n",
       "      <td>l  administration de la justice dans un contex...</td>\n",
       "      <td>administration justice contexte transition que...</td>\n",
       "      <td>(administration, justice, contexte, transition...</td>\n",
       "      <td>[administration, justic, contexte, transition,...</td>\n",
       "      <td>['administration', 'justic', 'contexte', 'tran...</td>\n",
       "    </tr>\n",
       "    <tr>\n",
       "      <th>4</th>\n",
       "      <td>publication</td>\n",
       "      <td>2025-04-03 23:17:00</td>\n",
       "      <td>ouagadougou 03 avril 2025 le président du faso...</td>\n",
       "      <td>ouagadougou 03 avril 2025 président faso chef ...</td>\n",
       "      <td>(ouagadougou, 03, avril, 2025, président, faso...</td>\n",
       "      <td>[ouagadougou, 03, avril, 2025, président, faso...</td>\n",
       "      <td>['ouagadougou', '03', 'avril', '2025', 'présid...</td>\n",
       "    </tr>\n",
       "  </tbody>\n",
       "</table>\n",
       "</div>"
      ],
      "text/plain": [
       "          type      date_normalized  \\\n",
       "0  publication  2025-04-06 22:57:00   \n",
       "1      comment  2024-04-06 08:22:00   \n",
       "2      comment  2024-04-06 10:58:00   \n",
       "3  publication  2025-04-06 23:00:00   \n",
       "4  publication  2025-04-03 23:17:00   \n",
       "\n",
       "                                      text_processed  \\\n",
       "0  il fut une époque à pouni où l  expression ken...   \n",
       "1  heu si j  ai bien compris nos autorités actuel...   \n",
       "2  bravo à cet intellectuel de haut vol pour qui ...   \n",
       "3  l  administration de la justice dans un contex...   \n",
       "4  ouagadougou 03 avril 2025 le président du faso...   \n",
       "\n",
       "                               text_processed_w_stpw  \\\n",
       "0  époque pouni où expression ken you aton vogue ...   \n",
       "1  heu si bien compris autorités actuelles souhai...   \n",
       "2  bravo cet intellectuel haut vol génétique a pl...   \n",
       "3  administration justice contexte transition que...   \n",
       "4  ouagadougou 03 avril 2025 président faso chef ...   \n",
       "\n",
       "                               comment_process_spacy  \\\n",
       "0  (époque, pouni, où, expression, ken, you, aton...   \n",
       "1  (heu, si, bien, compris, autorités, actuelles,...   \n",
       "2  (bravo, cet, intellectuel, haut, vol, génétiqu...   \n",
       "3  (administration, justice, contexte, transition...   \n",
       "4  (ouagadougou, 03, avril, 2025, président, faso...   \n",
       "\n",
       "                                    lemetized_tokens  \\\n",
       "0  [époque, pouni, où, expression, ken, you, aton...   \n",
       "1  [heu, si, bien, comprendre, autorité, actuel, ...   \n",
       "2  [bravo, ce, intellectuel, haut, vol, génétique...   \n",
       "3  [administration, justic, contexte, transition,...   \n",
       "4  [ouagadougou, 03, avril, 2025, président, faso...   \n",
       "\n",
       "                                       cleanned_text  \n",
       "0  ['époque', 'pouni', 'où', 'expression', 'ken',...  \n",
       "1  ['heu', 'si', 'bien', 'comprendre', 'autorité'...  \n",
       "2  ['bravo', 'ce', 'intellectuel', 'haut', 'vol',...  \n",
       "3  ['administration', 'justic', 'contexte', 'tran...  \n",
       "4  ['ouagadougou', '03', 'avril', '2025', 'présid...  "
      ]
     },
     "execution_count": 20,
     "metadata": {},
     "output_type": "execute_result"
    }
   ],
   "source": [
    "\n",
    "data[\"lemetized_tokens\"] = data[\"comment_process_spacy\"].apply(lambda tokens: [token.lemma_ for token in tokens])\n",
    "data.head()"
   ]
  },
  {
   "cell_type": "code",
   "execution_count": 21,
   "id": "b91cd99d",
   "metadata": {
    "colab": {
     "base_uri": "https://localhost:8080/",
     "height": 667
    },
    "id": "b91cd99d",
    "outputId": "4a104db1-161d-487e-b8ac-6f1e91bb3871"
   },
   "outputs": [
    {
     "data": {
      "text/html": [
       "<div>\n",
       "<style scoped>\n",
       "    .dataframe tbody tr th:only-of-type {\n",
       "        vertical-align: middle;\n",
       "    }\n",
       "\n",
       "    .dataframe tbody tr th {\n",
       "        vertical-align: top;\n",
       "    }\n",
       "\n",
       "    .dataframe thead th {\n",
       "        text-align: right;\n",
       "    }\n",
       "</style>\n",
       "<table border=\"1\" class=\"dataframe\">\n",
       "  <thead>\n",
       "    <tr style=\"text-align: right;\">\n",
       "      <th></th>\n",
       "      <th>type</th>\n",
       "      <th>date_normalized</th>\n",
       "      <th>text_processed</th>\n",
       "      <th>text_processed_w_stpw</th>\n",
       "      <th>comment_process_spacy</th>\n",
       "      <th>lemetized_tokens</th>\n",
       "      <th>cleanned_text</th>\n",
       "    </tr>\n",
       "  </thead>\n",
       "  <tbody>\n",
       "    <tr>\n",
       "      <th>0</th>\n",
       "      <td>publication</td>\n",
       "      <td>2025-04-06 22:57:00</td>\n",
       "      <td>il fut une époque à pouni où l  expression ken...</td>\n",
       "      <td>époque pouni où expression ken you aton vogue ...</td>\n",
       "      <td>(époque, pouni, où, expression, ken, you, aton...</td>\n",
       "      <td>[époque, pouni, où, expression, ken, you, aton...</td>\n",
       "      <td>['époque', 'pouni', 'où', 'expression', 'ken',...</td>\n",
       "    </tr>\n",
       "    <tr>\n",
       "      <th>1</th>\n",
       "      <td>comment</td>\n",
       "      <td>2024-04-06 08:22:00</td>\n",
       "      <td>heu si j  ai bien compris nos autorités actuel...</td>\n",
       "      <td>heu si bien compris autorités actuelles souhai...</td>\n",
       "      <td>(heu, si, bien, compris, autorités, actuelles,...</td>\n",
       "      <td>[heu, si, bien, comprendre, autorité, actuel, ...</td>\n",
       "      <td>['heu', 'si', 'bien', 'comprendre', 'autorité'...</td>\n",
       "    </tr>\n",
       "    <tr>\n",
       "      <th>2</th>\n",
       "      <td>comment</td>\n",
       "      <td>2024-04-06 10:58:00</td>\n",
       "      <td>bravo à cet intellectuel de haut vol pour qui ...</td>\n",
       "      <td>bravo cet intellectuel haut vol génétique a pl...</td>\n",
       "      <td>(bravo, cet, intellectuel, haut, vol, génétiqu...</td>\n",
       "      <td>[bravo, ce, intellectuel, haut, vol, génétique...</td>\n",
       "      <td>['bravo', 'ce', 'intellectuel', 'haut', 'vol',...</td>\n",
       "    </tr>\n",
       "    <tr>\n",
       "      <th>3</th>\n",
       "      <td>publication</td>\n",
       "      <td>2025-04-06 23:00:00</td>\n",
       "      <td>l  administration de la justice dans un contex...</td>\n",
       "      <td>administration justice contexte transition que...</td>\n",
       "      <td>(administration, justice, contexte, transition...</td>\n",
       "      <td>[administration, justic, contexte, transition,...</td>\n",
       "      <td>['administration', 'justic', 'contexte', 'tran...</td>\n",
       "    </tr>\n",
       "    <tr>\n",
       "      <th>4</th>\n",
       "      <td>publication</td>\n",
       "      <td>2025-04-03 23:17:00</td>\n",
       "      <td>ouagadougou 03 avril 2025 le président du faso...</td>\n",
       "      <td>ouagadougou 03 avril 2025 président faso chef ...</td>\n",
       "      <td>(ouagadougou, 03, avril, 2025, président, faso...</td>\n",
       "      <td>[ouagadougou, 03, avril, 2025, président, faso...</td>\n",
       "      <td>['ouagadougou', '03', 'avril', '2025', 'présid...</td>\n",
       "    </tr>\n",
       "    <tr>\n",
       "      <th>...</th>\n",
       "      <td>...</td>\n",
       "      <td>...</td>\n",
       "      <td>...</td>\n",
       "      <td>...</td>\n",
       "      <td>...</td>\n",
       "      <td>...</td>\n",
       "      <td>...</td>\n",
       "    </tr>\n",
       "    <tr>\n",
       "      <th>15802</th>\n",
       "      <td>reply</td>\n",
       "      <td>2024-02-14 13:51:00</td>\n",
       "      <td>kibora bon résumé de la situation du congo bel...</td>\n",
       "      <td>kibora bon résumé situation congo belge ex zaïre</td>\n",
       "      <td>(kibora, bon, résumé, situation, congo, belge,...</td>\n",
       "      <td>[kibora, bon, résumé, situation, congo, belge,...</td>\n",
       "      <td>['kibora', 'bon', 'résumé', 'situation', 'cong...</td>\n",
       "    </tr>\n",
       "    <tr>\n",
       "      <th>15803</th>\n",
       "      <td>comment</td>\n",
       "      <td>2024-02-15 12:41:00</td>\n",
       "      <td>kibora messire patrick kibora je ne sais si vo...</td>\n",
       "      <td>kibora messire patrick kibora sais si grand co...</td>\n",
       "      <td>(kibora, messire, patrick, kibora, sais, si, g...</td>\n",
       "      <td>[kibora, messir, patrick, kibora, savoir, si, ...</td>\n",
       "      <td>['kibora', 'messir', 'patrick', 'kibora', 'sav...</td>\n",
       "    </tr>\n",
       "    <tr>\n",
       "      <th>15804</th>\n",
       "      <td>publication</td>\n",
       "      <td>2024-02-13 20:45:00</td>\n",
       "      <td>la dégradation de la situation socio politique...</td>\n",
       "      <td>dégradation situation socio politique sénégal ...</td>\n",
       "      <td>(dégradation, situation, socio, politique, sén...</td>\n",
       "      <td>[dégradation, situation, socio, politique, sén...</td>\n",
       "      <td>['dégradation', 'situation', 'socio', 'politiq...</td>\n",
       "    </tr>\n",
       "    <tr>\n",
       "      <th>15805</th>\n",
       "      <td>comment</td>\n",
       "      <td>2024-02-14 20:34:00</td>\n",
       "      <td>tous les pays toutes les organisations qui ont...</td>\n",
       "      <td>tous pays toutes organisations pouvoir faire p...</td>\n",
       "      <td>(tous, pays, toutes, organisations, pouvoir, f...</td>\n",
       "      <td>[tout, pays, tout, organisation, pouvoir, fair...</td>\n",
       "      <td>['tout', 'pays', 'tout', 'organisation', 'pouv...</td>\n",
       "    </tr>\n",
       "    <tr>\n",
       "      <th>15806</th>\n",
       "      <td>reply</td>\n",
       "      <td>2024-02-20 18:28:00</td>\n",
       "      <td>i was suggested this web site by my cousin i a...</td>\n",
       "      <td>i was suggested this web site by my cousin i a...</td>\n",
       "      <td>(i, was, suggested, this, web, site, by, my, c...</td>\n",
       "      <td>[i, was, suggested, thi, web, site, by, my, co...</td>\n",
       "      <td>['i', 'was', 'suggested', 'thi', 'web', 'site'...</td>\n",
       "    </tr>\n",
       "  </tbody>\n",
       "</table>\n",
       "<p>15803 rows × 7 columns</p>\n",
       "</div>"
      ],
      "text/plain": [
       "              type      date_normalized  \\\n",
       "0      publication  2025-04-06 22:57:00   \n",
       "1          comment  2024-04-06 08:22:00   \n",
       "2          comment  2024-04-06 10:58:00   \n",
       "3      publication  2025-04-06 23:00:00   \n",
       "4      publication  2025-04-03 23:17:00   \n",
       "...            ...                  ...   \n",
       "15802        reply  2024-02-14 13:51:00   \n",
       "15803      comment  2024-02-15 12:41:00   \n",
       "15804  publication  2024-02-13 20:45:00   \n",
       "15805      comment  2024-02-14 20:34:00   \n",
       "15806        reply  2024-02-20 18:28:00   \n",
       "\n",
       "                                          text_processed  \\\n",
       "0      il fut une époque à pouni où l  expression ken...   \n",
       "1      heu si j  ai bien compris nos autorités actuel...   \n",
       "2      bravo à cet intellectuel de haut vol pour qui ...   \n",
       "3      l  administration de la justice dans un contex...   \n",
       "4      ouagadougou 03 avril 2025 le président du faso...   \n",
       "...                                                  ...   \n",
       "15802  kibora bon résumé de la situation du congo bel...   \n",
       "15803  kibora messire patrick kibora je ne sais si vo...   \n",
       "15804  la dégradation de la situation socio politique...   \n",
       "15805  tous les pays toutes les organisations qui ont...   \n",
       "15806  i was suggested this web site by my cousin i a...   \n",
       "\n",
       "                                   text_processed_w_stpw  \\\n",
       "0      époque pouni où expression ken you aton vogue ...   \n",
       "1      heu si bien compris autorités actuelles souhai...   \n",
       "2      bravo cet intellectuel haut vol génétique a pl...   \n",
       "3      administration justice contexte transition que...   \n",
       "4      ouagadougou 03 avril 2025 président faso chef ...   \n",
       "...                                                  ...   \n",
       "15802   kibora bon résumé situation congo belge ex zaïre   \n",
       "15803  kibora messire patrick kibora sais si grand co...   \n",
       "15804  dégradation situation socio politique sénégal ...   \n",
       "15805  tous pays toutes organisations pouvoir faire p...   \n",
       "15806  i was suggested this web site by my cousin i a...   \n",
       "\n",
       "                                   comment_process_spacy  \\\n",
       "0      (époque, pouni, où, expression, ken, you, aton...   \n",
       "1      (heu, si, bien, compris, autorités, actuelles,...   \n",
       "2      (bravo, cet, intellectuel, haut, vol, génétiqu...   \n",
       "3      (administration, justice, contexte, transition...   \n",
       "4      (ouagadougou, 03, avril, 2025, président, faso...   \n",
       "...                                                  ...   \n",
       "15802  (kibora, bon, résumé, situation, congo, belge,...   \n",
       "15803  (kibora, messire, patrick, kibora, sais, si, g...   \n",
       "15804  (dégradation, situation, socio, politique, sén...   \n",
       "15805  (tous, pays, toutes, organisations, pouvoir, f...   \n",
       "15806  (i, was, suggested, this, web, site, by, my, c...   \n",
       "\n",
       "                                        lemetized_tokens  \\\n",
       "0      [époque, pouni, où, expression, ken, you, aton...   \n",
       "1      [heu, si, bien, comprendre, autorité, actuel, ...   \n",
       "2      [bravo, ce, intellectuel, haut, vol, génétique...   \n",
       "3      [administration, justic, contexte, transition,...   \n",
       "4      [ouagadougou, 03, avril, 2025, président, faso...   \n",
       "...                                                  ...   \n",
       "15802  [kibora, bon, résumé, situation, congo, belge,...   \n",
       "15803  [kibora, messir, patrick, kibora, savoir, si, ...   \n",
       "15804  [dégradation, situation, socio, politique, sén...   \n",
       "15805  [tout, pays, tout, organisation, pouvoir, fair...   \n",
       "15806  [i, was, suggested, thi, web, site, by, my, co...   \n",
       "\n",
       "                                           cleanned_text  \n",
       "0      ['époque', 'pouni', 'où', 'expression', 'ken',...  \n",
       "1      ['heu', 'si', 'bien', 'comprendre', 'autorité'...  \n",
       "2      ['bravo', 'ce', 'intellectuel', 'haut', 'vol',...  \n",
       "3      ['administration', 'justic', 'contexte', 'tran...  \n",
       "4      ['ouagadougou', '03', 'avril', '2025', 'présid...  \n",
       "...                                                  ...  \n",
       "15802  ['kibora', 'bon', 'résumé', 'situation', 'cong...  \n",
       "15803  ['kibora', 'messir', 'patrick', 'kibora', 'sav...  \n",
       "15804  ['dégradation', 'situation', 'socio', 'politiq...  \n",
       "15805  ['tout', 'pays', 'tout', 'organisation', 'pouv...  \n",
       "15806  ['i', 'was', 'suggested', 'thi', 'web', 'site'...  \n",
       "\n",
       "[15803 rows x 7 columns]"
      ]
     },
     "execution_count": 21,
     "metadata": {},
     "output_type": "execute_result"
    }
   ],
   "source": [
    "data[\"cleanned_text\"] = data[\"lemetized_tokens\"].astype(str)\n",
    "data"
   ]
  },
  {
   "cell_type": "markdown",
   "id": "a05e9b24",
   "metadata": {
    "id": "a05e9b24"
   },
   "source": [
    "## 2. Words Trends"
   ]
  },
  {
   "cell_type": "code",
   "execution_count": 22,
   "id": "5defd1fa",
   "metadata": {
    "id": "5defd1fa"
   },
   "outputs": [],
   "source": [
    "# Using TF-IDF for mesuring the importance of words\n",
    "from sklearn.feature_extraction.text import TfidfVectorizer"
   ]
  },
  {
   "cell_type": "code",
   "execution_count": 82,
   "id": "04f437ca",
   "metadata": {
    "id": "04f437ca"
   },
   "outputs": [],
   "source": [
    "vectorizer = TfidfVectorizer(max_features=1000)\n",
    "\n",
    "tfid_matrix = vectorizer.fit_transform(data[\"cleanned_text\"])"
   ]
  },
  {
   "cell_type": "code",
   "execution_count": 83,
   "id": "4575b8dd",
   "metadata": {
    "colab": {
     "base_uri": "https://localhost:8080/"
    },
    "id": "4575b8dd",
    "outputId": "cb3996b2-3bbb-4d4d-e08f-64f16f9e930b"
   },
   "outputs": [
    {
     "data": {
      "text/plain": [
       "array(['000', '10', '100', '11', '12', '13', '14', '15', '16', '17', '18',\n",
       "       '20', '2015', '2021', '2022', '2023', '2024', '2025', '21', '24',\n",
       "       '25', '26', '30', '50', 'abord', 'accepter', 'accompagner',\n",
       "       'accord', 'accorder', 'accès', 'acquérir', 'acte', 'acteur',\n",
       "       'action', 'activité', 'actuel', 'actuellement', 'adapter',\n",
       "       'administration', 'adopter', 'ae', 'affaire', 'affirmer', 'afin',\n",
       "       'africain', 'afriqu', 'afrique', 'agence', 'agent', 'agir',\n",
       "       'agricole', 'aide', 'aider', 'ailleurs', 'aimer', 'ainsi',\n",
       "       'ajouter', 'algérie', 'alimentaire', 'aller', 'alliance', 'alors',\n",
       "       'ambassadeur', 'ami', 'amélioration', 'améliorer', 'américain',\n",
       "       'an', 'analyse', 'ancien', 'annoncer', 'année', 'août',\n",
       "       'apparaître', 'appel', 'appeler', 'apporter', 'apprendre', 'appui',\n",
       "       'après', 'argent', 'arme', 'armé', 'armée', 'arriver', 'arrêter',\n",
       "       'art', 'article', 'artiste', 'assez', 'association', 'assurer',\n",
       "       'atelier', 'attaque', 'atteindre', 'attendre', 'attention',\n",
       "       'aucun', 'aujourd', 'auprès', 'aussi', 'autant', 'auteur',\n",
       "       'autorité', 'autour', 'autre', 'avancer', 'avant', 'avenir',\n",
       "       'avis', 'avoir', 'avril', 'banqu', 'banque', 'bas', 'base',\n",
       "       'beaucoup', 'bel', 'besoin', 'bf', 'bien', 'bilan', 'blanc',\n",
       "       'bobo', 'bon', 'bonjour', 'bravo', 'budget', 'bureau', 'burkina',\n",
       "       'burkinabe', 'burkinabè', 'burkinabé', 'but', 'bénéficier', 'ca',\n",
       "       'cadre', 'can', 'candidat', 'capacité', 'capitaine', 'capital',\n",
       "       'car', 'cas', 'catégorie', 'cause', 'ce', 'cedeao', 'cela',\n",
       "       'celer', 'celui', 'central', 'centre', 'cependant', 'certain',\n",
       "       'cfa', 'chacun', 'chance', 'changement', 'changer', 'chaque',\n",
       "       'charge', 'charger', 'chef', 'chemin', 'cher', 'chercher', 'chez',\n",
       "       'chin', 'chine', 'chinois', 'choisir', 'choix', 'chose', 'ci',\n",
       "       'cinq', 'cinéma', 'citer', 'citoyen', 'civil', 'clair', 'client',\n",
       "       'club', 'cohésion', 'collaboration', 'collectif', 'combat',\n",
       "       'combattant', 'combattre', 'combien', 'comité', 'comme',\n",
       "       'commencer', 'comment', 'commerce', 'commercial', 'commission',\n",
       "       'commun', 'communauté', 'communication', 'communiquer', 'compaoré',\n",
       "       'comprendre', 'compris', 'compte', 'compter', 'compétence',\n",
       "       'compétition', 'concerner', 'condamner', 'condition', 'conduire',\n",
       "       'confiance', 'confier', 'conflit', 'confédération', 'conférence',\n",
       "       'connaissance', 'connaître', 'conseil', 'conseiller', 'considérer',\n",
       "       'constater', 'constituer', 'constitution', 'constitutionnel',\n",
       "       'construction', 'construire', 'conséquence', 'contexte',\n",
       "       'continent', 'continuer', 'contraire', 'contrat', 'contre',\n",
       "       'contribuer', 'contribution', 'contrôle', 'convaincre',\n",
       "       'coopération', 'corruption', 'coup', 'cour', 'courage', 'cours',\n",
       "       'crise', 'critique', 'croire', 'croissance', 'création', 'créer',\n",
       "       'culture', 'culturel', 'cérémonie', 'côte', 'côté', 'cœur', 'date',\n",
       "       'davantage', 'delà', 'demande', 'demander', 'depuis', 'dernier',\n",
       "       'deux', 'deuxième', 'devant', 'devenir', 'devoir', 'dialogue',\n",
       "       'dieu', 'difficile', 'difficulté', 'différent', 'différents',\n",
       "       'dioulasso', 'diplomatique', 'dire', 'directeur', 'direction',\n",
       "       'dirigeant', 'discipline', 'discours', 'disposition', 'divers',\n",
       "       'document', 'domaine', 'don', 'donc', 'donne', 'donner', 'dont',\n",
       "       'dossier', 'doute', 'dr', 'droit', 'durable', 'durer', 'dynamique',\n",
       "       'dès', 'débat', 'début', 'décembre', 'décider', 'décision',\n",
       "       'déclaration', 'déclarer', 'défendre', 'défense', 'défi', 'déjà',\n",
       "       'délégation', 'démocratie', 'démocratique', 'départ', 'désormais',\n",
       "       'développement', 'développemer', 'développer', 'eau', 'effet',\n",
       "       'effort', 'emmanuel', 'emploi', 'empêcher', 'encore', 'encourager',\n",
       "       'enfant', 'enfin', 'engagement', 'engager', 'ennemi',\n",
       "       'enseignement', 'ensembl', 'ensemble', 'ensuite', 'entendre',\n",
       "       'entreprendre', 'entreprise', 'entrer', 'environ', 'environnement',\n",
       "       'envoyer', 'erreur', 'espace', 'espoir', 'esprit', 'espérer',\n",
       "       'essayer', 'essentiel', 'etat', 'etc', 'etre', 'europe',\n",
       "       'européen', 'excellence', 'exemple', 'exister', 'expert',\n",
       "       'expliquer', 'expression', 'exprimer', 'expérience', 'extérieur',\n",
       "       'face', 'facile', 'faciliter', 'faire', 'fait', 'falloir',\n",
       "       'famill', 'famille', 'faso', 'faut', 'faux', 'faveur', 'façon',\n",
       "       'fcfa', 'femme', 'festival', 'fille', 'film', 'fin', 'final',\n",
       "       'finance', 'financement', 'financer', 'financier', 'finir',\n",
       "       'fiscal', 'foi', 'fois', 'fonction', 'fonds', 'football', 'force',\n",
       "       'forcer', 'formation', 'forme', 'former', 'fort', 'forum', 'franc',\n",
       "       'france', 'français', 'front', 'frère', 'futur', 'fédération',\n",
       "       'félicitation', 'février', 'gagner', 'garantir', 'gen', 'genre',\n",
       "       'gens', 'gestion', 'ghana', 'gouvernance', 'gouvernement', 'grand',\n",
       "       'grave', 'gros', 'groupe', 'grâce', 'guerre', 'général',\n",
       "       'génération', 'gérer', 'haut', 'haute', 'heure', 'histoire',\n",
       "       'homm', 'homme', 'honneur', 'hui', 'humain', 'humanitaire', 'ib',\n",
       "       'ibrahim', 'ici', 'idée', 'image', 'impact', 'important',\n",
       "       'importer', 'imposer', 'impérialisme', 'impérialiste', 'indiquer',\n",
       "       'individu', 'industrie', 'information', 'infrastructure',\n",
       "       'initiative', 'innovation', 'inscrire', 'institution',\n",
       "       'intellectuel', 'international', 'interne', 'intervenir',\n",
       "       'intervention', 'intéresser', 'intérieur', 'intérêt',\n",
       "       'investissement', 'invite', 'inviter', 'issu', 'ivoir', 'ivoirien',\n",
       "       'jamais', 'janvier', 'jean', 'jeu', 'jeune', 'jeunesse', 'jouer',\n",
       "       'joueur', 'jour', 'journaliste', 'journée', 'juger', 'juillet',\n",
       "       'jusqu', 'juste', 'justice', 'justifier', 'kaboré', 'laisser',\n",
       "       'lancer', 'langue', 'leader', 'lequel', 'leur', 'leçon', 'liberté',\n",
       "       'libre', 'libération', 'lien', 'lier', 'lieu', 'ligne', 'lire',\n",
       "       'livre', 'local', 'loi', 'loin', 'long', 'longtemps', 'lors',\n",
       "       'lorsqu', 'lorsque', 'lui', 'lutte', 'lutter', 'là', 'macron',\n",
       "       'mai', 'main', 'maintenant', 'maintenir', 'maison', 'majeur',\n",
       "       'mal', 'malgré', 'malheureusement', 'mali', 'malien', 'mandat',\n",
       "       'manière', 'manqu', 'manquer', 'marche', 'marcher', 'marché',\n",
       "       'maroc', 'marquer', 'mars', 'match', 'matière', 'matériel',\n",
       "       'mauvais', 'maître', 'meilleur', 'membre', 'meme', 'mener',\n",
       "       'merci', 'message', 'mesure', 'mettre', 'mieux', 'militaire',\n",
       "       'milliard', 'million', 'ministre', 'ministère', 'mise', 'mission',\n",
       "       'mobilisation', 'mobiliser', 'modèle', 'modérer', 'moins', 'mois',\n",
       "       'moment', 'mond', 'monde', 'mondial', 'monnaie', 'monsieur',\n",
       "       'montrer', 'mort', 'mot', 'mouvement', 'moyen', 'mpsr', 'mr',\n",
       "       'musiqu', 'média', 'métier', 'même', 'nation', 'national', 'net',\n",
       "       'ni', 'niger', 'nigérien', 'niveau', 'noir', 'nom', 'nombre',\n",
       "       'nombreux', 'non', 'nord', 'normal', 'notamment', 'noter',\n",
       "       'nouveau', 'novembre', 'nucléaire', 'nécessaire', 'objectif',\n",
       "       'obtenir', 'occasion', 'occidental', 'occuper', 'octobre',\n",
       "       'officiel', 'offrir', 'opinion', 'opportunité', 'opposer',\n",
       "       'opération', 'or', 'ordre', 'organisation', 'organiser',\n",
       "       'ouagadougou', 'ouager', 'ouattara', 'oublier', 'ouest', 'oui',\n",
       "       'outre', 'ouverture', 'ouvrir', 'ouédraogo', 'où', 'paix',\n",
       "       'paragraphe', 'parce', 'parent', 'pari', 'parl', 'parler', 'parmi',\n",
       "       'parole', 'part', 'partager', 'partenaire', 'partenariat', 'parti',\n",
       "       'participant', 'participation', 'participer', 'particulier',\n",
       "       'partie', 'partir', 'partout', 'party', 'passakziri', 'passer',\n",
       "       'patrie', 'patriote', 'patriotique', 'pauvre', 'pay', 'payer',\n",
       "       'pays', 'peine', 'pendant', 'pense', 'penser', 'perdre',\n",
       "       'performance', 'permettre', 'personn', 'personne', 'personnel',\n",
       "       'petit', 'peu', 'peuple', 'peur', 'peux', 'phase', 'pire', 'place',\n",
       "       'placer', 'plan', 'plein', 'plus', 'plusieurs', 'plutôt', 'pm',\n",
       "       'point', 'politicien', 'politique', 'populaire', 'populatier',\n",
       "       'population', 'porte', 'porter', 'poser', 'positif', 'position',\n",
       "       'possible', 'poste', 'pourquoi', 'poursuivre', 'pourtant',\n",
       "       'pouvoir', 'pratique', 'premier', 'prendre', 'presse', 'preuve',\n",
       "       'principal', 'principe', 'priori', 'prise', 'priver', 'prix',\n",
       "       'problèm', 'problème', 'processus', 'prochain', 'proche',\n",
       "       'production', 'produire', 'produit', 'professionnel', 'profit',\n",
       "       'profiter', 'programm', 'programme', 'projet', 'promotion',\n",
       "       'promouvoir', 'propos', 'proposer', 'propre', 'protection',\n",
       "       'protéger', 'près', 'préciser', 'préparer', 'présence', 'présent',\n",
       "       'présenter', 'présidence', 'président', 'présidentiel', 'prévoir',\n",
       "       'prêt', 'public', 'puissance', 'putschiste', 'période', 'qualité',\n",
       "       'quand', 'quant', 'quatre', 'quel', 'quelqu', 'quelque',\n",
       "       'question', 'quitter', 'quoi', 'quotidien', 'raison', 'rappel',\n",
       "       'rappeler', 'rapport', 'rassurer', 'recevoir', 'recherche',\n",
       "       'reconnaissance', 'reconnaître', 'refuser', 'regard', 'regarder',\n",
       "       'relation', 'relever', 'religieux', 'remettre', 'rencontre',\n",
       "       'rendre', 'renforcement', 'renforcer', 'représentant',\n",
       "       'représenter', 'respect', 'respecter', 'responsabilité',\n",
       "       'responsable', 'ressource', 'reste', 'rester', 'retenir', 'retour',\n",
       "       'retrouver', 'revenir', 'riche', 'rien', 'risque', 'route',\n",
       "       'russe', 'russi', 'russie', 'réalisation', 'réaliser', 'réalité',\n",
       "       'réconciliation', 'réel', 'réflexion', 'réforme', 'régime',\n",
       "       'région', 'régional', 'répondre', 'réponse', 'république',\n",
       "       'résilience', 'résultat', 'réussir', 'révolution', 'rôle', 'sahel',\n",
       "       'saisir', 'saluer', 'salut', 'sanction', 'sankara', 'sans',\n",
       "       'santé', 'sauf', 'savoir', 'sawadogo', 'secrétaire', 'secteur',\n",
       "       'sein', 'selon', 'semaine', 'sembler', 'sen', 'sens', 'sentir',\n",
       "       'septembre', 'service', 'servir', 'seul', 'seulement', 'si',\n",
       "       'simple', 'simplement', 'sinon', 'site', 'situation', 'social',\n",
       "       'société', 'solidarité', 'solution', 'some', 'sommet', 'sort',\n",
       "       'sorte', 'sortie', 'sortir', 'sou', 'souhaiter', 'souligner',\n",
       "       'source', 'soutenir', 'soutien', 'souvent', 'souveraineté',\n",
       "       'sport', 'sportif', 'spécial', 'stratégie', 'stratégique',\n",
       "       'structure', 'sud', 'suite', 'suivre', 'sujet', 'supérieur',\n",
       "       'surtout', 'système', 'sécuritaire', 'sécurité', 'sénégal',\n",
       "       'sénégalais', 'sérieux', 'sûr', 'tant', 'tard', 'tchad',\n",
       "       'technique', 'tel', 'temps', 'tenir', 'terme', 'terrain', 'terre',\n",
       "       'territoir', 'territoire', 'terrorisme', 'terroriste', 'texte',\n",
       "       'thomas', 'thème', 'tirer', 'titre', 'tomber', 'total', 'toucher',\n",
       "       'toujours', 'tour', 'tourner', 'tout', 'traditionnel', 'train',\n",
       "       'traiter', 'transformation', 'transition', 'traore', 'traorer',\n",
       "       'traoré', 'travail', 'travailler', 'traval', 'traver', 'travers',\n",
       "       'trois', 'troisième', 'trop', 'trouver', 'très', 'tuer', 'tête',\n",
       "       'uemoer', 'union', 'unir', 'unité', 'université', 'utiliser',\n",
       "       'valeur', 'validée', 'vdp', 'vendre', 'venir', 'vent', 'vers',\n",
       "       'victime', 'victoire', 'vide', 'vie', 'vieux', 'vif', 'village',\n",
       "       'ville', 'violence', 'viser', 'vision', 'visite', 'vivre', 'voie',\n",
       "       'voilà', 'voir', 'voisin', 'voix', 'volonté', 'vouloir', 'vrai',\n",
       "       'vraiment', 'vue', 'véritable', 'vériter', 'zone', 'zongo', 'ça',\n",
       "       'échange', 'école', 'économie', 'économique', 'écrire', 'édition',\n",
       "       'éducation', 'également', 'élection', 'électoral', 'élu', 'élève',\n",
       "       'élément', 'énergie', 'équipe', 'étape', 'état', 'étranger',\n",
       "       'étude', 'étudiant', 'éviter', 'événement', 'être', 'œuvre'],\n",
       "      dtype=object)"
      ]
     },
     "execution_count": 83,
     "metadata": {},
     "output_type": "execute_result"
    }
   ],
   "source": [
    "mots_importants = vectorizer.get_feature_names_out()\n",
    "mots_importants"
   ]
  },
  {
   "cell_type": "code",
   "execution_count": 84,
   "id": "3ae1b509",
   "metadata": {},
   "outputs": [],
   "source": [
    "import numpy as np\n",
    "scores = np.sum(tfid_matrix.toarray(), axis=0)"
   ]
  },
  {
   "cell_type": "code",
   "execution_count": 85,
   "id": "05519cdd",
   "metadata": {},
   "outputs": [],
   "source": [
    "# Liste personnalisée de stopwords à exclure\n",
    "stopwords_perso = {\n",
    "    'pay', 'sou',\n",
    "    # Auxiliaires & verbes fréquents\n",
    "    'être', 'avoir', 'faire', 'pouvoir', 'vouloir', 'falloir', 'devoir', 'mettre', 'prendre', 'dire', 'donner', 'venir',\n",
    "    'aller', 'voir', 'savoir', 'passer', 'laisser', 'permettre', 'entrer', 'apparaître', 'créer', 'devenir',\n",
    "    \n",
    "    # Pronoms, déterminants\n",
    "    'ce', 'cela', 'celui', 'dont', 'leur', 'lui', 'elle', 'eux', 'il', 'ils', 'on', 'nous', 'vous', 'tu', 'te', 'se',\n",
    "    \n",
    "    # Adverbes / connecteurs\n",
    "    'aussi', 'encore', 'déjà', 'bien', 'très', 'plus', 'moins', 'même', 'toujours', 'jamais', 'souvent', 'parfois',\n",
    "    'alors', 'ainsi', 'donc', 'puis', 'ensuite', 'enfin', 'lorsque', 'quand', 'où', 'comment', 'combien', 'parce',\n",
    "    'trop', 'peu', 'non', 'oui', 'là', 'ici', 'tout', 'rien', 'chaque', 'aucun', 'autre', 'quel',\n",
    "    \n",
    "    # Conjonctions\n",
    "    'et', 'ou', 'mais', 'or', 'car', 'ni', 'si', 'que', 'qu\\'il', 'qu\\'elle', 'quand', 'comme', 'puisque', 'bien que',\n",
    "    \n",
    "    # Noms peu informatifs (souvent génériques ou creux dans le contexte)\n",
    "    'chose', 'personne', 'année', 'temps', 'jour', 'monde', 'grand', 'petit', 'nouveau', 'ancien', 'projet', 'cas',\n",
    "    'niveau', 'moyen', 'part', 'moment', 'exemple', 'cas', 'point', 'rôle', 'type', 'valeur', 'forme', 'sens',\n",
    "    \n",
    "    # Divers\n",
    "    'depuis', 'sans', 'avec', 'dans', 'sur', 'sous', 'entre', 'par', 'vers', 'pour', 'contre', 'avant', 'après', 'selon',\n",
    "    'validée', 'vide', 'paragraphe', 'ligne', 'ainsi', 'également', 'comme'\n",
    "\n",
    "}"
   ]
  },
  {
   "cell_type": "code",
   "execution_count": 86,
   "id": "1c3b334d",
   "metadata": {},
   "outputs": [
    {
     "name": "stdout",
     "output_type": "stream",
     "text": [
      "burkina: 432.481\n",
      "pays: 402.625\n",
      "bon: 356.422\n",
      "faso: 330.381\n",
      "peuple: 313.527\n",
      "président: 278.872\n",
      "celer: 249.609\n",
      "burkinabè: 248.687\n",
      "état: 247.443\n",
      "certain: 231.446\n",
      "politique: 228.994\n",
      "ministre: 222.342\n",
      "france: 222.011\n",
      "africain: 217.775\n",
      "merci: 217.139\n",
      "premier: 214.802\n",
      "cedeao: 199.782\n",
      "dieu: 197.178\n",
      "national: 195.825\n",
      "ae: 192.536\n",
      "etat: 191.431\n",
      "militaire: 183.035\n",
      "an: 174.180\n",
      "pourquoi: 172.987\n",
      "beaucoup: 172.650\n",
      "vraiment: 172.173\n",
      "gouvernement: 167.935\n",
      "simplement: 166.754\n",
      "responsable: 165.147\n",
      "transition: 161.906\n"
     ]
    }
   ],
   "source": [
    "# Filtrer les mots importants\n",
    "mots_scores = sorted(\n",
    "    [(mot, score) for mot, score in zip(mots_importants, scores) if mot.lower() not in stopwords_perso],\n",
    "    key=lambda x: x[1], reverse=True\n",
    ")\n",
    "# Affichage des 30 mots les plus importants\n",
    "for mot, score in mots_scores[:30]:\n",
    "    print(f\"{mot}: {score:.3f}\")\n"
   ]
  },
  {
   "cell_type": "code",
   "execution_count": 87,
   "id": "d7410600",
   "metadata": {
    "colab": {
     "base_uri": "https://localhost:8080/"
    },
    "id": "d7410600",
    "outputId": "d81c5f3d-9e24-41ce-e629-b0de1d89cb31"
   },
   "outputs": [
    {
     "data": {
      "image/png": "[encoded data removed]",
      "text/plain": [
       "<Figure size 1000x500 with 1 Axes>"
      ]
     },
     "metadata": {},
     "output_type": "display_data"
    }
   ],
   "source": [
    "# Visualisation\n",
    "import matplotlib.pyplot as plt\n",
    "mots_top, scores_top = zip(*mots_scores[:30])\n",
    "plt.figure(figsize=(10, 5))\n",
    "plt.barh(mots_top, scores_top, color='red')\n",
    "plt.xlabel(\"Score TF-IDF\")\n",
    "plt.ylabel(\"Mots\")\n",
    "plt.title(\"Top 30 des mots les plus significatifs (filtrés)\")\n",
    "plt.gca().invert_yaxis()\n",
    "plt.show()"
   ]
  },
  {
   "cell_type": "code",
   "execution_count": 90,
   "id": "eeb73b0a",
   "metadata": {},
   "outputs": [],
   "source": [
    "# On garde tous les mots importants et leurs scores dans un DataFrame\n",
    "df_mots_scores = pd.DataFrame(mots_scores, columns=[\"mot\", \"score\"])\n",
    "\n",
    "df_mots_scores.to_csv(\"data_processed/mots_tendance.csv\", index=False, encoding=\"utf-8\")"
   ]
  },
  {
   "cell_type": "markdown",
   "id": "c0960df0",
   "metadata": {
    "id": "c0960df0"
   },
   "source": [
    "## 3. Sentiment analysis"
   ]
  },
  {
   "cell_type": "code",
   "execution_count": 23,
   "id": "f8fde050",
   "metadata": {},
   "outputs": [
    {
     "data": {
      "text/html": [
       "<div>\n",
       "<style scoped>\n",
       "    .dataframe tbody tr th:only-of-type {\n",
       "        vertical-align: middle;\n",
       "    }\n",
       "\n",
       "    .dataframe tbody tr th {\n",
       "        vertical-align: top;\n",
       "    }\n",
       "\n",
       "    .dataframe thead th {\n",
       "        text-align: right;\n",
       "    }\n",
       "</style>\n",
       "<table border=\"1\" class=\"dataframe\">\n",
       "  <thead>\n",
       "    <tr style=\"text-align: right;\">\n",
       "      <th></th>\n",
       "      <th>date_normalized</th>\n",
       "      <th>text_processed</th>\n",
       "      <th>text_processed_w_stpw</th>\n",
       "      <th>cleanned_text</th>\n",
       "    </tr>\n",
       "  </thead>\n",
       "  <tbody>\n",
       "    <tr>\n",
       "      <th>0</th>\n",
       "      <td>2025-04-06 22:57:00</td>\n",
       "      <td>il fut une époque à pouni où l  expression ken...</td>\n",
       "      <td>époque pouni où expression ken you aton vogue ...</td>\n",
       "      <td>['époque', 'pouni', 'où', 'expression', 'ken',...</td>\n",
       "    </tr>\n",
       "    <tr>\n",
       "      <th>1</th>\n",
       "      <td>2024-04-06 08:22:00</td>\n",
       "      <td>heu si j  ai bien compris nos autorités actuel...</td>\n",
       "      <td>heu si bien compris autorités actuelles souhai...</td>\n",
       "      <td>['heu', 'si', 'bien', 'comprendre', 'autorité'...</td>\n",
       "    </tr>\n",
       "    <tr>\n",
       "      <th>2</th>\n",
       "      <td>2024-04-06 10:58:00</td>\n",
       "      <td>bravo à cet intellectuel de haut vol pour qui ...</td>\n",
       "      <td>bravo cet intellectuel haut vol génétique a pl...</td>\n",
       "      <td>['bravo', 'ce', 'intellectuel', 'haut', 'vol',...</td>\n",
       "    </tr>\n",
       "    <tr>\n",
       "      <th>3</th>\n",
       "      <td>2025-04-06 23:00:00</td>\n",
       "      <td>l  administration de la justice dans un contex...</td>\n",
       "      <td>administration justice contexte transition que...</td>\n",
       "      <td>['administration', 'justic', 'contexte', 'tran...</td>\n",
       "    </tr>\n",
       "    <tr>\n",
       "      <th>4</th>\n",
       "      <td>2025-04-03 23:17:00</td>\n",
       "      <td>ouagadougou 03 avril 2025 le président du faso...</td>\n",
       "      <td>ouagadougou 03 avril 2025 président faso chef ...</td>\n",
       "      <td>['ouagadougou', '03', 'avril', '2025', 'présid...</td>\n",
       "    </tr>\n",
       "  </tbody>\n",
       "</table>\n",
       "</div>"
      ],
      "text/plain": [
       "       date_normalized                                     text_processed  \\\n",
       "0  2025-04-06 22:57:00  il fut une époque à pouni où l  expression ken...   \n",
       "1  2024-04-06 08:22:00  heu si j  ai bien compris nos autorités actuel...   \n",
       "2  2024-04-06 10:58:00  bravo à cet intellectuel de haut vol pour qui ...   \n",
       "3  2025-04-06 23:00:00  l  administration de la justice dans un contex...   \n",
       "4  2025-04-03 23:17:00  ouagadougou 03 avril 2025 le président du faso...   \n",
       "\n",
       "                               text_processed_w_stpw  \\\n",
       "0  époque pouni où expression ken you aton vogue ...   \n",
       "1  heu si bien compris autorités actuelles souhai...   \n",
       "2  bravo cet intellectuel haut vol génétique a pl...   \n",
       "3  administration justice contexte transition que...   \n",
       "4  ouagadougou 03 avril 2025 président faso chef ...   \n",
       "\n",
       "                                       cleanned_text  \n",
       "0  ['époque', 'pouni', 'où', 'expression', 'ken',...  \n",
       "1  ['heu', 'si', 'bien', 'comprendre', 'autorité'...  \n",
       "2  ['bravo', 'ce', 'intellectuel', 'haut', 'vol',...  \n",
       "3  ['administration', 'justic', 'contexte', 'tran...  \n",
       "4  ['ouagadougou', '03', 'avril', '2025', 'présid...  "
      ]
     },
     "execution_count": 23,
     "metadata": {},
     "output_type": "execute_result"
    }
   ],
   "source": [
    "df = data[[\"date_normalized\", \"text_processed\", \"text_processed_w_stpw\", \"cleanned_text\"]]\n",
    "df.head()"
   ]
  },
  {
   "cell_type": "markdown",
   "id": "Bt2qMrdcBfat",
   "metadata": {
    "id": "Bt2qMrdcBfat"
   },
   "source": [
    "### 3.1 Sentiment analysis Using finetuned model"
   ]
  },
  {
   "cell_type": "code",
   "execution_count": null,
   "id": "cm3sF9WV7Nci",
   "metadata": {
    "id": "cm3sF9WV7Nci"
   },
   "outputs": [],
   "source": [
    "!pip install transformers"
   ]
  },
  {
   "cell_type": "code",
   "execution_count": 51,
   "id": "vClPg0wb4oE5",
   "metadata": {
    "colab": {
     "base_uri": "https://localhost:8080/"
    },
    "id": "vClPg0wb4oE5",
    "outputId": "9e5129e5-757c-4a3a-8614-0699e1502c3b"
   },
   "outputs": [
    {
     "name": "stderr",
     "output_type": "stream",
     "text": [
      "Device set to use cpu\n"
     ]
    }
   ],
   "source": [
    "from transformers import pipeline\n",
    "\n",
    "pipe = pipeline(\"text-classification\",\n",
    "                model=\"cardiffnlp/twitter-xlm-roberta-base-sentiment\",\n",
    "                tokenizer=\"cardiffnlp/twitter-xlm-roberta-base-sentiment\",\n",
    "                truncation=True,\n",
    "                max_length=512)"
   ]
  },
  {
   "cell_type": "code",
   "execution_count": 63,
   "id": "BrUFjHcs4oHY",
   "metadata": {
    "id": "BrUFjHcs4oHY"
   },
   "outputs": [],
   "source": [
    "def le_sentiment(data_set):\n",
    "  sentiments = []\n",
    "  for i in range(0, len(data_set)):\n",
    "    posts = data_set[\"text_processed_w_stpw\"]\n",
    "    for post in posts:\n",
    "      try:\n",
    "        if not isinstance(post, str) or not post.strip():\n",
    "            print(\"EMPTY\")\n",
    "            sentiments.append(\"EMPTY\")\n",
    "            continue\n",
    "        \n",
    "        result = pipe(post)\n",
    "        label = result[0]['label']\n",
    "        \n",
    "        if label == 'positive':\n",
    "            sentiments.append(1)\n",
    "        elif label == 'negative':\n",
    "            sentiments.append(-1)\n",
    "        elif label == 'neutral':\n",
    "            sentiments.append(0)\n",
    "        else:\n",
    "            print(\"UNKNOWN\")\n",
    "            sentiments.append(\"UNKNOWN\")\n",
    "      except Exception as e:\n",
    "        print(f\"[ERROR] {e}\")\n",
    "        sentiments.append(\"ERROR\")\n",
    "\n",
    "  data_set['sentiment'] = sentiments[:len(data_set)]\n",
    "  data_set.to_csv(\"data_processed/data_sentiment_finetuned_m.csv\", encoding='utf-8')\n"
   ]
  },
  {
   "cell_type": "code",
   "execution_count": 63,
   "id": "d_4NK2Ft4oKR",
   "metadata": {
    "id": "d_4NK2Ft4oKR"
   },
   "outputs": [],
   "source": [
    "le_sentiment(df)"
   ]
  },
  {
   "cell_type": "code",
   "execution_count": null,
   "id": "rrrXBECz4oQ6",
   "metadata": {
    "id": "rrrXBECz4oQ6"
   },
   "outputs": [],
   "source": []
  },
  {
   "cell_type": "markdown",
   "id": "JrSOaw-gA_5w",
   "metadata": {
    "id": "JrSOaw-gA_5w"
   },
   "source": [
    "### 3.2 Sentiment analysis using VADER"
   ]
  },
  {
   "cell_type": "code",
   "execution_count": 55,
   "id": "34eb81fb",
   "metadata": {
    "colab": {
     "base_uri": "https://localhost:8080/"
    },
    "id": "34eb81fb",
    "outputId": "3ef7fab2-8cd5-4e8b-fdf9-bde21347659e"
   },
   "outputs": [
    {
     "name": "stdout",
     "output_type": "stream",
     "text": [
      "Collecting vader-multi\n",
      "  Downloading vader_multi-3.2.2.1-py2.py3-none-any.whl.metadata (3.6 kB)\n",
      "Requirement already satisfied: requests in /usr/local/lib/python3.11/dist-packages (from vader-multi) (2.32.3)\n",
      "Collecting translatte (from vader-multi)\n",
      "  Downloading translatte-0.1-py3-none-any.whl.metadata (684 bytes)\n",
      "Requirement already satisfied: charset-normalizer<4,>=2 in /usr/local/lib/python3.11/dist-packages (from requests->vader-multi) (3.4.1)\n",
      "Requirement already satisfied: idna<4,>=2.5 in /usr/local/lib/python3.11/dist-packages (from requests->vader-multi) (3.10)\n",
      "Requirement already satisfied: urllib3<3,>=1.21.1 in /usr/local/lib/python3.11/dist-packages (from requests->vader-multi) (2.3.0)\n",
      "Requirement already satisfied: certifi>=2017.4.17 in /usr/local/lib/python3.11/dist-packages (from requests->vader-multi) (2025.1.31)\n",
      "Downloading vader_multi-3.2.2.1-py2.py3-none-any.whl (126 kB)\n",
      "\u001b[2K   \u001b[90m━━━━━━━━━━━━━━━━━━━━━━━━━━━━━━━━━━━━━━━━\u001b[0m \u001b[32m126.7/126.7 kB\u001b[0m \u001b[31m3.6 MB/s\u001b[0m eta \u001b[36m0:00:00\u001b[0m\n",
      "\u001b[?25hDownloading translatte-0.1-py3-none-any.whl (14 kB)\n",
      "Installing collected packages: translatte, vader-multi\n",
      "Successfully installed translatte-0.1 vader-multi-3.2.2.1\n"
     ]
    }
   ],
   "source": [
    "! pip install vader-multi #Versoin étandu de VADER prenant en compte le vocabulaire francais"
   ]
  },
  {
   "cell_type": "code",
   "execution_count": 31,
   "id": "0e75b11e",
   "metadata": {
    "id": "0e75b11e"
   },
   "outputs": [],
   "source": [
    "from vaderSentiment.vaderSentiment import SentimentIntensityAnalyzer\n",
    "\n",
    "modele = SentimentIntensityAnalyzer()"
   ]
  },
  {
   "cell_type": "code",
   "execution_count": 32,
   "id": "2a6a6bd6",
   "metadata": {
    "colab": {
     "base_uri": "https://localhost:8080/"
    },
    "id": "2a6a6bd6",
    "outputId": "3072d103-7395-4876-a06a-b7f90495661e"
   },
   "outputs": [
    {
     "name": "stdout",
     "output_type": "stream",
     "text": [
      "Texte: J'adore ce produit, il est incroyable ! 😍\n",
      "Score: {'neg': 0.0, 'neu': 0.536, 'pos': 0.464, 'compound': 0.831}\n",
      "--------------------------------------------------\n",
      "Texte: Ce film est vraiment mauvais... 😡\n",
      "Score: {'neg': 0.351, 'neu': 0.649, 'pos': 0.0, 'compound': -0.5849}\n",
      "--------------------------------------------------\n",
      "Texte: Pas mal, mais je m'attendais à mieux.\n",
      "Score: {'neg': 0.0, 'neu': 0.409, 'pos': 0.591, 'compound': 0.698}\n",
      "--------------------------------------------------\n",
      "Texte: C'est le meilleur jour de ma vie !!! 🎉\n",
      "Score: {'neg': 0.0, 'neu': 0.507, 'pos': 0.493, 'compound': 0.8306}\n",
      "--------------------------------------------------\n",
      "Texte: Je suis très déçu, quelle perte de temps.\n",
      "Score: {'neg': 0.469, 'neu': 0.531, 'pos': 0.0, 'compound': -0.7346}\n",
      "--------------------------------------------------\n",
      "Texte: vraiment vous êtes bon\n",
      "Score: {'neg': 0.0, 'neu': 0.487, 'pos': 0.513, 'compound': 0.4877}\n",
      "--------------------------------------------------\n"
     ]
    }
   ],
   "source": [
    "# Test\n",
    "# Exemple de phrases\n",
    "textes = [\n",
    "    \"J'adore ce produit, il est incroyable ! 😍\",\n",
    "    \"Ce film est vraiment mauvais... 😡\",\n",
    "    \"Pas mal, mais je m'attendais à mieux.\",\n",
    "    \"C'est le meilleur jour de ma vie !!! 🎉\",\n",
    "    \"Je suis très déçu, quelle perte de temps.\",\n",
    "    \"vraiment vous êtes bon\"\n",
    "]\n",
    "for texte in textes:\n",
    "    score = modele.polarity_scores(texte)\n",
    "    print(f\"Texte: {texte}\")\n",
    "    print(f\"Score: {score}\")\n",
    "    print(\"-\" * 50)"
   ]
  },
  {
   "cell_type": "code",
   "execution_count": 35,
   "id": "39d3bfc3",
   "metadata": {
    "id": "39d3bfc3"
   },
   "outputs": [],
   "source": [
    "def le_sentiment (texte, model):\n",
    "    try:\n",
    "        # Vérifie que le texte est une chaîne non vide\n",
    "        if not isinstance(texte, str) or not texte.strip():\n",
    "            return \"EMPTY\"\n",
    "\n",
    "        # Limiter la longueur pour éviter les erreurs de requêtes\n",
    "        if len(texte) > 500:\n",
    "            texte = texte[:500]\n",
    "            \n",
    "        result = 0\n",
    "        score = model.polarity_scores(texte)\n",
    "        \n",
    "        if (score['compound'] <= -0.5):\n",
    "            result = -1\n",
    "        elif (score['compound'] > -0.5 and score['compound'] <= 0.5) :\n",
    "            result = 0\n",
    "        else:\n",
    "            result = 1\n",
    "\n",
    "        return result\n",
    "    except Exception as e:\n",
    "        print(f\"[Exception]: Erreur lors de l'analyse de sentiment: {e}\")\n",
    "        return \"ERROR\"\n",
    "\n",
    "    "
   ]
  },
  {
   "cell_type": "code",
   "execution_count": null,
   "id": "1bcc6e68",
   "metadata": {
    "colab": {
     "base_uri": "https://localhost:8080/",
     "height": 321
    },
    "id": "1bcc6e68",
    "outputId": "11424759-db41-4f35-ef8e-7e93dbaccc53"
   },
   "outputs": [],
   "source": [
    "df[\"sentiment\"] = df[\"text_processed_w_stpw\"].apply(lambda line: le_sentiment(line, modele))"
   ]
  },
  {
   "cell_type": "code",
   "execution_count": null,
   "id": "1ec14c21",
   "metadata": {
    "id": "1ec14c21"
   },
   "outputs": [],
   "source": [
    "df.to_csv(\"datas_sentiment_VADER.csv\", encoding='utf-8', index=False)"
   ]
  },
  {
   "cell_type": "code",
   "execution_count": null,
   "id": "c2684688",
   "metadata": {},
   "outputs": [],
   "source": []
  }
 ],
 "metadata": {
  "colab": {
   "provenance": []
  },
  "kernelspec": {
   "display_name": "Python 3 (ipykernel)",
   "language": "python",
   "name": "python3"
  },
  "language_info": {
   "codemirror_mode": {
    "name": "ipython",
    "version": 3
   },
   "file_extension": ".py",
   "mimetype": "text/x-python",
   "name": "python",
   "nbconvert_exporter": "python",
   "pygments_lexer": "ipython3",
   "version": "3.11.4"
  }
 },
 "nbformat": 4,
 "nbformat_minor": 5
}
