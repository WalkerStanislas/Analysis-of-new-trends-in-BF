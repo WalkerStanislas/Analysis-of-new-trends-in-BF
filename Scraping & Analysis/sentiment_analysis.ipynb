{
 "cells": [
  {
   "cell_type": "markdown",
   "id": "b4aba95b",
   "metadata": {
    "id": "b4aba95b"
   },
   "source": [
    "# Words trends, Sentiment analysis and Topic Modelling"
   ]
  },
  {
   "cell_type": "code",
   "execution_count": 1,
   "id": "36143f13",
   "metadata": {
    "id": "36143f13"
   },
   "outputs": [],
   "source": [
    "import pandas as pd\n",
    "import re\n",
    "import nltk\n",
    "from nltk.corpus import stopwords\n",
    "import spacy"
   ]
  },
  {
   "cell_type": "markdown",
   "id": "32c4ed92",
   "metadata": {
    "id": "32c4ed92"
   },
   "source": [
    "## 1. Processing using NLTK and Spacy (tokenization and lematization)"
   ]
  },
  {
   "cell_type": "code",
   "execution_count": 2,
   "id": "951d5b3a",
   "metadata": {
    "id": "951d5b3a"
   },
   "outputs": [
    {
     "data": {
      "text/html": [
       "<div>\n",
       "<style scoped>\n",
       "    .dataframe tbody tr th:only-of-type {\n",
       "        vertical-align: middle;\n",
       "    }\n",
       "\n",
       "    .dataframe tbody tr th {\n",
       "        vertical-align: top;\n",
       "    }\n",
       "\n",
       "    .dataframe thead th {\n",
       "        text-align: right;\n",
       "    }\n",
       "</style>\n",
       "<table border=\"1\" class=\"dataframe\">\n",
       "  <thead>\n",
       "    <tr style=\"text-align: right;\">\n",
       "      <th></th>\n",
       "      <th>type</th>\n",
       "      <th>date</th>\n",
       "      <th>texte</th>\n",
       "      <th>source_url</th>\n",
       "      <th>text_processed</th>\n",
       "      <th>date_normalized</th>\n",
       "    </tr>\n",
       "  </thead>\n",
       "  <tbody>\n",
       "    <tr>\n",
       "      <th>0</th>\n",
       "      <td>publication</td>\n",
       "      <td>dimanche 6 avril 2025 à 22h57min</td>\n",
       "      <td>Il fut une époque à Pouni où l’expression « Ke...</td>\n",
       "      <td>https://lefaso.net/spip.php?article137228</td>\n",
       "      <td>il fut une époque à pouni où l’ expression ken...</td>\n",
       "      <td>2025-04-06 22:57:00</td>\n",
       "    </tr>\n",
       "    <tr>\n",
       "      <th>1</th>\n",
       "      <td>comment</td>\n",
       "      <td>6 avril 08:22</td>\n",
       "      <td>Heu, si j’ai bien compris, nos autorités actue...</td>\n",
       "      <td>https://lefaso.net/spip.php?article137228</td>\n",
       "      <td>heu si j’ ai bien compris nos autorités actuel...</td>\n",
       "      <td>2024-04-06 08:22:00</td>\n",
       "    </tr>\n",
       "    <tr>\n",
       "      <th>2</th>\n",
       "      <td>comment</td>\n",
       "      <td>6 avril 10:58</td>\n",
       "      <td>Bravo à cet intellectuel de haut vol pour qui ...</td>\n",
       "      <td>https://lefaso.net/spip.php?article137228</td>\n",
       "      <td>bravo à cet intellectuel de haut vol pour qui ...</td>\n",
       "      <td>2024-04-06 10:58:00</td>\n",
       "    </tr>\n",
       "    <tr>\n",
       "      <th>3</th>\n",
       "      <td>publication</td>\n",
       "      <td>dimanche 6 avril 2025 à 23h00min</td>\n",
       "      <td>« L’administration de la justice dans un conte...</td>\n",
       "      <td>https://lefaso.net/spip.php?article137236</td>\n",
       "      <td>l’ administration de la justice dans un contex...</td>\n",
       "      <td>2025-04-06 23:00:00</td>\n",
       "    </tr>\n",
       "    <tr>\n",
       "      <th>4</th>\n",
       "      <td>publication</td>\n",
       "      <td>jeudi 3 avril 2025 à 23h17min</td>\n",
       "      <td>(Ouagadougou, 03 avril 2025). Le Président du ...</td>\n",
       "      <td>https://lefaso.net/spip.php?article137191</td>\n",
       "      <td>ouagadougou 03 avril 2025 le président du faso...</td>\n",
       "      <td>2025-04-03 23:17:00</td>\n",
       "    </tr>\n",
       "  </tbody>\n",
       "</table>\n",
       "</div>"
      ],
      "text/plain": [
       "          type                              date  \\\n",
       "0  publication  dimanche 6 avril 2025 à 22h57min   \n",
       "1      comment                     6 avril 08:22   \n",
       "2      comment                     6 avril 10:58   \n",
       "3  publication  dimanche 6 avril 2025 à 23h00min   \n",
       "4  publication     jeudi 3 avril 2025 à 23h17min   \n",
       "\n",
       "                                               texte  \\\n",
       "0  Il fut une époque à Pouni où l’expression « Ke...   \n",
       "1  Heu, si j’ai bien compris, nos autorités actue...   \n",
       "2  Bravo à cet intellectuel de haut vol pour qui ...   \n",
       "3  « L’administration de la justice dans un conte...   \n",
       "4  (Ouagadougou, 03 avril 2025). Le Président du ...   \n",
       "\n",
       "                                  source_url  \\\n",
       "0  https://lefaso.net/spip.php?article137228   \n",
       "1  https://lefaso.net/spip.php?article137228   \n",
       "2  https://lefaso.net/spip.php?article137228   \n",
       "3  https://lefaso.net/spip.php?article137236   \n",
       "4  https://lefaso.net/spip.php?article137191   \n",
       "\n",
       "                                      text_processed      date_normalized  \n",
       "0  il fut une époque à pouni où l’ expression ken...  2025-04-06 22:57:00  \n",
       "1  heu si j’ ai bien compris nos autorités actuel...  2024-04-06 08:22:00  \n",
       "2  bravo à cet intellectuel de haut vol pour qui ...  2024-04-06 10:58:00  \n",
       "3  l’ administration de la justice dans un contex...  2025-04-06 23:00:00  \n",
       "4  ouagadougou 03 avril 2025 le président du faso...  2025-04-03 23:17:00  "
      ]
     },
     "execution_count": 2,
     "metadata": {},
     "output_type": "execute_result"
    }
   ],
   "source": [
    "data = pd.read_csv(\"data_processed/dataset_nlp.csv\", encoding='utf-8')\n",
    "data.head()"
   ]
  },
  {
   "cell_type": "code",
   "execution_count": 3,
   "id": "b5b7a353",
   "metadata": {
    "colab": {
     "base_uri": "https://localhost:8080/",
     "height": 206
    },
    "id": "b5b7a353",
    "outputId": "d5566bf6-bf66-4615-d101-22953becde9b"
   },
   "outputs": [
    {
     "data": {
      "text/html": [
       "<div>\n",
       "<style scoped>\n",
       "    .dataframe tbody tr th:only-of-type {\n",
       "        vertical-align: middle;\n",
       "    }\n",
       "\n",
       "    .dataframe tbody tr th {\n",
       "        vertical-align: top;\n",
       "    }\n",
       "\n",
       "    .dataframe thead th {\n",
       "        text-align: right;\n",
       "    }\n",
       "</style>\n",
       "<table border=\"1\" class=\"dataframe\">\n",
       "  <thead>\n",
       "    <tr style=\"text-align: right;\">\n",
       "      <th></th>\n",
       "      <th>type</th>\n",
       "      <th>date_normalized</th>\n",
       "      <th>text_processed</th>\n",
       "    </tr>\n",
       "  </thead>\n",
       "  <tbody>\n",
       "    <tr>\n",
       "      <th>0</th>\n",
       "      <td>publication</td>\n",
       "      <td>2025-04-06 22:57:00</td>\n",
       "      <td>il fut une époque à pouni où l’ expression ken...</td>\n",
       "    </tr>\n",
       "    <tr>\n",
       "      <th>1</th>\n",
       "      <td>comment</td>\n",
       "      <td>2024-04-06 08:22:00</td>\n",
       "      <td>heu si j’ ai bien compris nos autorités actuel...</td>\n",
       "    </tr>\n",
       "    <tr>\n",
       "      <th>2</th>\n",
       "      <td>comment</td>\n",
       "      <td>2024-04-06 10:58:00</td>\n",
       "      <td>bravo à cet intellectuel de haut vol pour qui ...</td>\n",
       "    </tr>\n",
       "    <tr>\n",
       "      <th>3</th>\n",
       "      <td>publication</td>\n",
       "      <td>2025-04-06 23:00:00</td>\n",
       "      <td>l’ administration de la justice dans un contex...</td>\n",
       "    </tr>\n",
       "    <tr>\n",
       "      <th>4</th>\n",
       "      <td>publication</td>\n",
       "      <td>2025-04-03 23:17:00</td>\n",
       "      <td>ouagadougou 03 avril 2025 le président du faso...</td>\n",
       "    </tr>\n",
       "  </tbody>\n",
       "</table>\n",
       "</div>"
      ],
      "text/plain": [
       "          type      date_normalized  \\\n",
       "0  publication  2025-04-06 22:57:00   \n",
       "1      comment  2024-04-06 08:22:00   \n",
       "2      comment  2024-04-06 10:58:00   \n",
       "3  publication  2025-04-06 23:00:00   \n",
       "4  publication  2025-04-03 23:17:00   \n",
       "\n",
       "                                      text_processed  \n",
       "0  il fut une époque à pouni où l’ expression ken...  \n",
       "1  heu si j’ ai bien compris nos autorités actuel...  \n",
       "2  bravo à cet intellectuel de haut vol pour qui ...  \n",
       "3  l’ administration de la justice dans un contex...  \n",
       "4  ouagadougou 03 avril 2025 le président du faso...  "
      ]
     },
     "execution_count": 3,
     "metadata": {},
     "output_type": "execute_result"
    }
   ],
   "source": [
    "data = data[[\"type\", \"date_normalized\", \"text_processed\"]]\n",
    "data.head()"
   ]
  },
  {
   "cell_type": "code",
   "execution_count": 4,
   "id": "a38835e3",
   "metadata": {
    "colab": {
     "base_uri": "https://localhost:8080/"
    },
    "id": "a38835e3",
    "outputId": "fddb450c-ffe5-4dcf-dbcf-317325823c98"
   },
   "outputs": [
    {
     "name": "stdout",
     "output_type": "stream",
     "text": [
      "<class 'pandas.core.frame.DataFrame'>\n",
      "RangeIndex: 15807 entries, 0 to 15806\n",
      "Data columns (total 3 columns):\n",
      " #   Column           Non-Null Count  Dtype \n",
      "---  ------           --------------  ----- \n",
      " 0   type             15807 non-null  object\n",
      " 1   date_normalized  15807 non-null  object\n",
      " 2   text_processed   15803 non-null  object\n",
      "dtypes: object(3)\n",
      "memory usage: 370.6+ KB\n"
     ]
    }
   ],
   "source": [
    "data.info()"
   ]
  },
  {
   "cell_type": "code",
   "execution_count": 5,
   "id": "o04T7yJh1cle",
   "metadata": {
    "colab": {
     "base_uri": "https://localhost:8080/",
     "height": 178
    },
    "id": "o04T7yJh1cle",
    "outputId": "6195bd7a-ec63-4803-b48b-70072932204c"
   },
   "outputs": [
    {
     "data": {
      "text/plain": [
       "type               0\n",
       "date_normalized    0\n",
       "text_processed     4\n",
       "dtype: int64"
      ]
     },
     "execution_count": 5,
     "metadata": {},
     "output_type": "execute_result"
    }
   ],
   "source": [
    "data.isna().sum()"
   ]
  },
  {
   "cell_type": "code",
   "execution_count": 6,
   "id": "7Hw786el1o8q",
   "metadata": {
    "id": "7Hw786el1o8q"
   },
   "outputs": [],
   "source": [
    "data = data.dropna()"
   ]
  },
  {
   "cell_type": "code",
   "execution_count": 7,
   "id": "b6c9e4fd",
   "metadata": {
    "colab": {
     "base_uri": "https://localhost:8080/",
     "height": 210
    },
    "id": "b6c9e4fd",
    "outputId": "87d1be1e-546d-4eac-93e9-f52b6977496a"
   },
   "outputs": [
    {
     "data": {
      "text/plain": [
       "type\n",
       "comment        9931\n",
       "reply          3076\n",
       "publication    2796\n",
       "Name: count, dtype: int64"
      ]
     },
     "execution_count": 7,
     "metadata": {},
     "output_type": "execute_result"
    }
   ],
   "source": [
    "data.value_counts(\"type\")"
   ]
  },
  {
   "cell_type": "code",
   "execution_count": 8,
   "id": "dc025a02",
   "metadata": {
    "colab": {
     "base_uri": "https://localhost:8080/",
     "height": 424
    },
    "id": "dc025a02",
    "outputId": "6ee48ef0-4719-4fa1-bc4f-e93af24e9eec"
   },
   "outputs": [
    {
     "data": {
      "text/html": [
       "<div>\n",
       "<style scoped>\n",
       "    .dataframe tbody tr th:only-of-type {\n",
       "        vertical-align: middle;\n",
       "    }\n",
       "\n",
       "    .dataframe tbody tr th {\n",
       "        vertical-align: top;\n",
       "    }\n",
       "\n",
       "    .dataframe thead th {\n",
       "        text-align: right;\n",
       "    }\n",
       "</style>\n",
       "<table border=\"1\" class=\"dataframe\">\n",
       "  <thead>\n",
       "    <tr style=\"text-align: right;\">\n",
       "      <th></th>\n",
       "      <th>type</th>\n",
       "      <th>date_normalized</th>\n",
       "      <th>text_processed</th>\n",
       "    </tr>\n",
       "  </thead>\n",
       "  <tbody>\n",
       "    <tr>\n",
       "      <th>0</th>\n",
       "      <td>publication</td>\n",
       "      <td>2025-04-06 22:57:00</td>\n",
       "      <td>il fut une époque à pouni où l’ expression ken...</td>\n",
       "    </tr>\n",
       "    <tr>\n",
       "      <th>1</th>\n",
       "      <td>comment</td>\n",
       "      <td>2024-04-06 08:22:00</td>\n",
       "      <td>heu si j’ ai bien compris nos autorités actuel...</td>\n",
       "    </tr>\n",
       "    <tr>\n",
       "      <th>2</th>\n",
       "      <td>comment</td>\n",
       "      <td>2024-04-06 10:58:00</td>\n",
       "      <td>bravo à cet intellectuel de haut vol pour qui ...</td>\n",
       "    </tr>\n",
       "    <tr>\n",
       "      <th>3</th>\n",
       "      <td>publication</td>\n",
       "      <td>2025-04-06 23:00:00</td>\n",
       "      <td>l’ administration de la justice dans un contex...</td>\n",
       "    </tr>\n",
       "    <tr>\n",
       "      <th>4</th>\n",
       "      <td>publication</td>\n",
       "      <td>2025-04-03 23:17:00</td>\n",
       "      <td>ouagadougou 03 avril 2025 le président du faso...</td>\n",
       "    </tr>\n",
       "    <tr>\n",
       "      <th>...</th>\n",
       "      <td>...</td>\n",
       "      <td>...</td>\n",
       "      <td>...</td>\n",
       "    </tr>\n",
       "    <tr>\n",
       "      <th>15802</th>\n",
       "      <td>reply</td>\n",
       "      <td>2024-02-14 13:51:00</td>\n",
       "      <td>kibora bon résumé de la situation du congo bel...</td>\n",
       "    </tr>\n",
       "    <tr>\n",
       "      <th>15803</th>\n",
       "      <td>comment</td>\n",
       "      <td>2024-02-15 12:41:00</td>\n",
       "      <td>kibora messire patrick kibora je ne sais si vo...</td>\n",
       "    </tr>\n",
       "    <tr>\n",
       "      <th>15804</th>\n",
       "      <td>publication</td>\n",
       "      <td>2024-02-13 20:45:00</td>\n",
       "      <td>la dégradation de la situation socio-politique...</td>\n",
       "    </tr>\n",
       "    <tr>\n",
       "      <th>15805</th>\n",
       "      <td>comment</td>\n",
       "      <td>2024-02-14 20:34:00</td>\n",
       "      <td>tous les pays toutes les organisations qui ont...</td>\n",
       "    </tr>\n",
       "    <tr>\n",
       "      <th>15806</th>\n",
       "      <td>reply</td>\n",
       "      <td>2024-02-20 18:28:00</td>\n",
       "      <td>i was suggested this web site by my cousin i a...</td>\n",
       "    </tr>\n",
       "  </tbody>\n",
       "</table>\n",
       "<p>15803 rows × 3 columns</p>\n",
       "</div>"
      ],
      "text/plain": [
       "              type      date_normalized  \\\n",
       "0      publication  2025-04-06 22:57:00   \n",
       "1          comment  2024-04-06 08:22:00   \n",
       "2          comment  2024-04-06 10:58:00   \n",
       "3      publication  2025-04-06 23:00:00   \n",
       "4      publication  2025-04-03 23:17:00   \n",
       "...            ...                  ...   \n",
       "15802        reply  2024-02-14 13:51:00   \n",
       "15803      comment  2024-02-15 12:41:00   \n",
       "15804  publication  2024-02-13 20:45:00   \n",
       "15805      comment  2024-02-14 20:34:00   \n",
       "15806        reply  2024-02-20 18:28:00   \n",
       "\n",
       "                                          text_processed  \n",
       "0      il fut une époque à pouni où l’ expression ken...  \n",
       "1      heu si j’ ai bien compris nos autorités actuel...  \n",
       "2      bravo à cet intellectuel de haut vol pour qui ...  \n",
       "3      l’ administration de la justice dans un contex...  \n",
       "4      ouagadougou 03 avril 2025 le président du faso...  \n",
       "...                                                  ...  \n",
       "15802  kibora bon résumé de la situation du congo bel...  \n",
       "15803  kibora messire patrick kibora je ne sais si vo...  \n",
       "15804  la dégradation de la situation socio-politique...  \n",
       "15805  tous les pays toutes les organisations qui ont...  \n",
       "15806  i was suggested this web site by my cousin i a...  \n",
       "\n",
       "[15803 rows x 3 columns]"
      ]
     },
     "execution_count": 8,
     "metadata": {},
     "output_type": "execute_result"
    }
   ],
   "source": [
    "data"
   ]
  },
  {
   "cell_type": "code",
   "execution_count": 9,
   "id": "1901f770",
   "metadata": {
    "colab": {
     "base_uri": "https://localhost:8080/",
     "height": 424
    },
    "id": "1901f770",
    "outputId": "86aba9f5-1208-4b32-9761-be520df37fd2"
   },
   "outputs": [
    {
     "data": {
      "text/html": [
       "<div>\n",
       "<style scoped>\n",
       "    .dataframe tbody tr th:only-of-type {\n",
       "        vertical-align: middle;\n",
       "    }\n",
       "\n",
       "    .dataframe tbody tr th {\n",
       "        vertical-align: top;\n",
       "    }\n",
       "\n",
       "    .dataframe thead th {\n",
       "        text-align: right;\n",
       "    }\n",
       "</style>\n",
       "<table border=\"1\" class=\"dataframe\">\n",
       "  <thead>\n",
       "    <tr style=\"text-align: right;\">\n",
       "      <th></th>\n",
       "      <th>type</th>\n",
       "      <th>date_normalized</th>\n",
       "      <th>text_processed</th>\n",
       "    </tr>\n",
       "  </thead>\n",
       "  <tbody>\n",
       "    <tr>\n",
       "      <th>0</th>\n",
       "      <td>publication</td>\n",
       "      <td>2025-04-06 22:57:00</td>\n",
       "      <td>il fut une époque à pouni où l  expression ken...</td>\n",
       "    </tr>\n",
       "    <tr>\n",
       "      <th>1</th>\n",
       "      <td>comment</td>\n",
       "      <td>2024-04-06 08:22:00</td>\n",
       "      <td>heu si j  ai bien compris nos autorités actuel...</td>\n",
       "    </tr>\n",
       "    <tr>\n",
       "      <th>2</th>\n",
       "      <td>comment</td>\n",
       "      <td>2024-04-06 10:58:00</td>\n",
       "      <td>bravo à cet intellectuel de haut vol pour qui ...</td>\n",
       "    </tr>\n",
       "    <tr>\n",
       "      <th>3</th>\n",
       "      <td>publication</td>\n",
       "      <td>2025-04-06 23:00:00</td>\n",
       "      <td>l  administration de la justice dans un contex...</td>\n",
       "    </tr>\n",
       "    <tr>\n",
       "      <th>4</th>\n",
       "      <td>publication</td>\n",
       "      <td>2025-04-03 23:17:00</td>\n",
       "      <td>ouagadougou 03 avril 2025 le président du faso...</td>\n",
       "    </tr>\n",
       "    <tr>\n",
       "      <th>...</th>\n",
       "      <td>...</td>\n",
       "      <td>...</td>\n",
       "      <td>...</td>\n",
       "    </tr>\n",
       "    <tr>\n",
       "      <th>15802</th>\n",
       "      <td>reply</td>\n",
       "      <td>2024-02-14 13:51:00</td>\n",
       "      <td>kibora bon résumé de la situation du congo bel...</td>\n",
       "    </tr>\n",
       "    <tr>\n",
       "      <th>15803</th>\n",
       "      <td>comment</td>\n",
       "      <td>2024-02-15 12:41:00</td>\n",
       "      <td>kibora messire patrick kibora je ne sais si vo...</td>\n",
       "    </tr>\n",
       "    <tr>\n",
       "      <th>15804</th>\n",
       "      <td>publication</td>\n",
       "      <td>2024-02-13 20:45:00</td>\n",
       "      <td>la dégradation de la situation socio politique...</td>\n",
       "    </tr>\n",
       "    <tr>\n",
       "      <th>15805</th>\n",
       "      <td>comment</td>\n",
       "      <td>2024-02-14 20:34:00</td>\n",
       "      <td>tous les pays toutes les organisations qui ont...</td>\n",
       "    </tr>\n",
       "    <tr>\n",
       "      <th>15806</th>\n",
       "      <td>reply</td>\n",
       "      <td>2024-02-20 18:28:00</td>\n",
       "      <td>i was suggested this web site by my cousin i a...</td>\n",
       "    </tr>\n",
       "  </tbody>\n",
       "</table>\n",
       "<p>15803 rows × 3 columns</p>\n",
       "</div>"
      ],
      "text/plain": [
       "              type      date_normalized  \\\n",
       "0      publication  2025-04-06 22:57:00   \n",
       "1          comment  2024-04-06 08:22:00   \n",
       "2          comment  2024-04-06 10:58:00   \n",
       "3      publication  2025-04-06 23:00:00   \n",
       "4      publication  2025-04-03 23:17:00   \n",
       "...            ...                  ...   \n",
       "15802        reply  2024-02-14 13:51:00   \n",
       "15803      comment  2024-02-15 12:41:00   \n",
       "15804  publication  2024-02-13 20:45:00   \n",
       "15805      comment  2024-02-14 20:34:00   \n",
       "15806        reply  2024-02-20 18:28:00   \n",
       "\n",
       "                                          text_processed  \n",
       "0      il fut une époque à pouni où l  expression ken...  \n",
       "1      heu si j  ai bien compris nos autorités actuel...  \n",
       "2      bravo à cet intellectuel de haut vol pour qui ...  \n",
       "3      l  administration de la justice dans un contex...  \n",
       "4      ouagadougou 03 avril 2025 le président du faso...  \n",
       "...                                                  ...  \n",
       "15802  kibora bon résumé de la situation du congo bel...  \n",
       "15803  kibora messire patrick kibora je ne sais si vo...  \n",
       "15804  la dégradation de la situation socio politique...  \n",
       "15805  tous les pays toutes les organisations qui ont...  \n",
       "15806  i was suggested this web site by my cousin i a...  \n",
       "\n",
       "[15803 rows x 3 columns]"
      ]
     },
     "execution_count": 9,
     "metadata": {},
     "output_type": "execute_result"
    }
   ],
   "source": [
    "# Removing special characters\n",
    "data[\"text_processed\"] = data[\"text_processed\"].apply(lambda df: re.sub(r\"([^\\w\\s])\", \" \", df))\n",
    "data"
   ]
  },
  {
   "cell_type": "code",
   "execution_count": 10,
   "id": "4b2e3fb8",
   "metadata": {
    "colab": {
     "base_uri": "https://localhost:8080/"
    },
    "id": "4b2e3fb8",
    "outputId": "5e2159f6-4b85-4a81-cc09-c8c8d115df12"
   },
   "outputs": [
    {
     "name": "stderr",
     "output_type": "stream",
     "text": [
      "[nltk_data] Downloading package punkt to\n",
      "[nltk_data]     C:\\Users\\HP\\AppData\\Roaming\\nltk_data...\n",
      "[nltk_data]   Package punkt is already up-to-date!\n"
     ]
    },
    {
     "data": {
      "text/plain": [
       "True"
      ]
     },
     "execution_count": 10,
     "metadata": {},
     "output_type": "execute_result"
    }
   ],
   "source": [
    "nltk.download('punkt')"
   ]
  },
  {
   "cell_type": "code",
   "execution_count": 11,
   "id": "XiNwtbaI2uzh",
   "metadata": {
    "colab": {
     "base_uri": "https://localhost:8080/"
    },
    "id": "XiNwtbaI2uzh",
    "outputId": "bcf625e7-c053-4178-cc7f-7398eb5da07d"
   },
   "outputs": [
    {
     "name": "stderr",
     "output_type": "stream",
     "text": [
      "[nltk_data] Downloading package stopwords to\n",
      "[nltk_data]     C:\\Users\\HP\\AppData\\Roaming\\nltk_data...\n",
      "[nltk_data]   Unzipping corpora\\stopwords.zip.\n"
     ]
    },
    {
     "data": {
      "text/plain": [
       "True"
      ]
     },
     "execution_count": 11,
     "metadata": {},
     "output_type": "execute_result"
    }
   ],
   "source": [
    "nltk.download('stopwords')"
   ]
  },
  {
   "cell_type": "code",
   "execution_count": 12,
   "id": "cf10b27d",
   "metadata": {
    "colab": {
     "base_uri": "https://localhost:8080/"
    },
    "id": "cf10b27d",
    "outputId": "3165f886-ef7f-46f9-9560-7451ea255271"
   },
   "outputs": [
    {
     "name": "stdout",
     "output_type": "stream",
     "text": [
      "les stopwords: {'on', 'se', 'eussent', 's', 'mes', 'l', 'ayants', 'fusses', 'mais', 'à', 'un', 'furent', 'au', 'ils', 'était', 'son', 'ayons', 'eût', 'avions', 'me', 'que', 'seriez', 'étées', 'soyez', 'ayant', 'aurions', 'lui', 'tu', 'étiez', 'est', 'aurons', 'étaient', 'avec', 'étais', 'aura', 'ou', 'il', 'eues', 'sa', 'avait', 'eusse', 'ce', 'étante', 'te', 'la', 'ont', 'ait', 'les', 'aurez', 'sont', 'serions', 'le', 'été', 'en', 'fussions', 'aurai', 'ne', 'votre', 'ai', 'sois', 'qu', 'vos', 'du', 'n', 'seras', 'ces', 'étions', 'aies', 'auront', 'ayante', 'fûmes', 'serez', 'eûtes', 'ta', 'eussiez', 'êtes', 'et', 'auraient', 'serais', 'serai', 'avaient', 'notre', 'dans', 'avais', 'aux', 'avez', 'nous', 'j', 'auriez', 'eue', 'suis', 'sommes', 'fus', 'soyons', 'fusse', 'étant', 'étée', 'seront', 'as', 'pour', 'nos', 'aie', 'sera', 'sur', 'auras', 'eu', 'mon', 'des', 'fussent', 'fussiez', 'fûtes', 'même', 'soit', 'leur', 'es', 'aurais', 'eûmes', 'eut', 'une', 'de', 'ses', 'moi', 'par', 'aurait', 'étants', 'eusses', 'aient', 'aviez', 'ma', 'elle', 'avons', 'fut', 'm', 'serons', 'étés', 'c', 'eurent', 'y', 't', 'eus', 'pas', 'ayantes', 'eux', 'fût', 'serait', 'tes', 'd', 'vous', 'seraient', 'eussions', 'toi', 'soient', 'qui', 'ayez', 'ton', 'étantes', 'je'}\n"
     ]
    }
   ],
   "source": [
    "# Removing stopswords\n",
    "stop_words = set(stopwords.words('french'))\n",
    "#others_stop_words = [\"cette\", \"ça\", \"faut\", \"va\", \"a\", \"tous\", \"toutes\", \"là\"]\n",
    "#stop_words.update(others_stop_words)\n",
    "print(f\"les stopwords: {stop_words}\")\n",
    "data[\"text_processed_w_stpw\"] = data[\"text_processed\"].apply(lambda line: ' '.join([word for word in line.split() if word not in stop_words]))"
   ]
  },
  {
   "cell_type": "code",
   "execution_count": 13,
   "id": "f7153410",
   "metadata": {
    "colab": {
     "base_uri": "https://localhost:8080/",
     "height": 206
    },
    "id": "f7153410",
    "outputId": "0119f61c-8717-4d14-d663-016f29bee2f1"
   },
   "outputs": [
    {
     "data": {
      "text/html": [
       "<div>\n",
       "<style scoped>\n",
       "    .dataframe tbody tr th:only-of-type {\n",
       "        vertical-align: middle;\n",
       "    }\n",
       "\n",
       "    .dataframe tbody tr th {\n",
       "        vertical-align: top;\n",
       "    }\n",
       "\n",
       "    .dataframe thead th {\n",
       "        text-align: right;\n",
       "    }\n",
       "</style>\n",
       "<table border=\"1\" class=\"dataframe\">\n",
       "  <thead>\n",
       "    <tr style=\"text-align: right;\">\n",
       "      <th></th>\n",
       "      <th>type</th>\n",
       "      <th>date_normalized</th>\n",
       "      <th>text_processed</th>\n",
       "      <th>text_processed_w_stpw</th>\n",
       "    </tr>\n",
       "  </thead>\n",
       "  <tbody>\n",
       "    <tr>\n",
       "      <th>0</th>\n",
       "      <td>publication</td>\n",
       "      <td>2025-04-06 22:57:00</td>\n",
       "      <td>il fut une époque à pouni où l  expression ken...</td>\n",
       "      <td>époque pouni où expression ken you aton vogue ...</td>\n",
       "    </tr>\n",
       "    <tr>\n",
       "      <th>1</th>\n",
       "      <td>comment</td>\n",
       "      <td>2024-04-06 08:22:00</td>\n",
       "      <td>heu si j  ai bien compris nos autorités actuel...</td>\n",
       "      <td>heu si bien compris autorités actuelles souhai...</td>\n",
       "    </tr>\n",
       "    <tr>\n",
       "      <th>2</th>\n",
       "      <td>comment</td>\n",
       "      <td>2024-04-06 10:58:00</td>\n",
       "      <td>bravo à cet intellectuel de haut vol pour qui ...</td>\n",
       "      <td>bravo cet intellectuel haut vol génétique a pl...</td>\n",
       "    </tr>\n",
       "    <tr>\n",
       "      <th>3</th>\n",
       "      <td>publication</td>\n",
       "      <td>2025-04-06 23:00:00</td>\n",
       "      <td>l  administration de la justice dans un contex...</td>\n",
       "      <td>administration justice contexte transition que...</td>\n",
       "    </tr>\n",
       "    <tr>\n",
       "      <th>4</th>\n",
       "      <td>publication</td>\n",
       "      <td>2025-04-03 23:17:00</td>\n",
       "      <td>ouagadougou 03 avril 2025 le président du faso...</td>\n",
       "      <td>ouagadougou 03 avril 2025 président faso chef ...</td>\n",
       "    </tr>\n",
       "  </tbody>\n",
       "</table>\n",
       "</div>"
      ],
      "text/plain": [
       "          type      date_normalized  \\\n",
       "0  publication  2025-04-06 22:57:00   \n",
       "1      comment  2024-04-06 08:22:00   \n",
       "2      comment  2024-04-06 10:58:00   \n",
       "3  publication  2025-04-06 23:00:00   \n",
       "4  publication  2025-04-03 23:17:00   \n",
       "\n",
       "                                      text_processed  \\\n",
       "0  il fut une époque à pouni où l  expression ken...   \n",
       "1  heu si j  ai bien compris nos autorités actuel...   \n",
       "2  bravo à cet intellectuel de haut vol pour qui ...   \n",
       "3  l  administration de la justice dans un contex...   \n",
       "4  ouagadougou 03 avril 2025 le président du faso...   \n",
       "\n",
       "                               text_processed_w_stpw  \n",
       "0  époque pouni où expression ken you aton vogue ...  \n",
       "1  heu si bien compris autorités actuelles souhai...  \n",
       "2  bravo cet intellectuel haut vol génétique a pl...  \n",
       "3  administration justice contexte transition que...  \n",
       "4  ouagadougou 03 avril 2025 président faso chef ...  "
      ]
     },
     "execution_count": 13,
     "metadata": {},
     "output_type": "execute_result"
    }
   ],
   "source": [
    "data.head()"
   ]
  },
  {
   "cell_type": "code",
   "execution_count": 16,
   "id": "kQ8SHViD3HWq",
   "metadata": {
    "colab": {
     "base_uri": "https://localhost:8080/"
    },
    "id": "kQ8SHViD3HWq",
    "outputId": "c2fe996d-8948-4f74-be51-5cc946f0bb8d"
   },
   "outputs": [
    {
     "name": "stdout",
     "output_type": "stream",
     "text": [
      "Collecting fr-core-news-sm==3.8.0\n",
      "  Downloading https://github.com/explosion/spacy-models/releases/download/fr_core_news_sm-3.8.0/fr_core_news_sm-3.8.0-py3-none-any.whl (16.3 MB)\n",
      "\u001b[2K     \u001b[90m━━━━━━━━━━━━━━━━━━━━━━━━━━━━━━━━━━━━━━━━\u001b[0m \u001b[32m16.3/16.3 MB\u001b[0m \u001b[31m43.4 MB/s\u001b[0m eta \u001b[36m0:00:00\u001b[0m\n",
      "\u001b[?25h\u001b[38;5;2m✔ Download and installation successful\u001b[0m\n",
      "You can now load the package via spacy.load('fr_core_news_sm')\n",
      "\u001b[38;5;3m⚠ Restart to reload dependencies\u001b[0m\n",
      "If you are in a Jupyter or Colab notebook, you may need to restart Python in\n",
      "order to load all the package's dependencies. You can do this by selecting the\n",
      "'Restart kernel' or 'Restart runtime' option.\n"
     ]
    }
   ],
   "source": [
    "!python -m spacy download fr_core_news_sm"
   ]
  },
  {
   "cell_type": "code",
   "execution_count": 14,
   "id": "a3cfd316",
   "metadata": {
    "id": "a3cfd316"
   },
   "outputs": [],
   "source": [
    "nlp = spacy.load(\"fr_core_news_sm\")"
   ]
  },
  {
   "cell_type": "code",
   "execution_count": 15,
   "id": "26843171",
   "metadata": {
    "colab": {
     "base_uri": "https://localhost:8080/",
     "height": 206
    },
    "id": "26843171",
    "outputId": "06fff6f7-7b5e-4cc3-89bc-d5b8d9807c81"
   },
   "outputs": [
    {
     "data": {
      "text/html": [
       "<div>\n",
       "<style scoped>\n",
       "    .dataframe tbody tr th:only-of-type {\n",
       "        vertical-align: middle;\n",
       "    }\n",
       "\n",
       "    .dataframe tbody tr th {\n",
       "        vertical-align: top;\n",
       "    }\n",
       "\n",
       "    .dataframe thead th {\n",
       "        text-align: right;\n",
       "    }\n",
       "</style>\n",
       "<table border=\"1\" class=\"dataframe\">\n",
       "  <thead>\n",
       "    <tr style=\"text-align: right;\">\n",
       "      <th></th>\n",
       "      <th>type</th>\n",
       "      <th>date_normalized</th>\n",
       "      <th>text_processed</th>\n",
       "      <th>text_processed_w_stpw</th>\n",
       "      <th>comment_process_spacy</th>\n",
       "    </tr>\n",
       "  </thead>\n",
       "  <tbody>\n",
       "    <tr>\n",
       "      <th>0</th>\n",
       "      <td>publication</td>\n",
       "      <td>2025-04-06 22:57:00</td>\n",
       "      <td>il fut une époque à pouni où l  expression ken...</td>\n",
       "      <td>époque pouni où expression ken you aton vogue ...</td>\n",
       "      <td>(époque, pouni, où, expression, ken, you, aton...</td>\n",
       "    </tr>\n",
       "    <tr>\n",
       "      <th>1</th>\n",
       "      <td>comment</td>\n",
       "      <td>2024-04-06 08:22:00</td>\n",
       "      <td>heu si j  ai bien compris nos autorités actuel...</td>\n",
       "      <td>heu si bien compris autorités actuelles souhai...</td>\n",
       "      <td>(heu, si, bien, compris, autorités, actuelles,...</td>\n",
       "    </tr>\n",
       "    <tr>\n",
       "      <th>2</th>\n",
       "      <td>comment</td>\n",
       "      <td>2024-04-06 10:58:00</td>\n",
       "      <td>bravo à cet intellectuel de haut vol pour qui ...</td>\n",
       "      <td>bravo cet intellectuel haut vol génétique a pl...</td>\n",
       "      <td>(bravo, cet, intellectuel, haut, vol, génétiqu...</td>\n",
       "    </tr>\n",
       "    <tr>\n",
       "      <th>3</th>\n",
       "      <td>publication</td>\n",
       "      <td>2025-04-06 23:00:00</td>\n",
       "      <td>l  administration de la justice dans un contex...</td>\n",
       "      <td>administration justice contexte transition que...</td>\n",
       "      <td>(administration, justice, contexte, transition...</td>\n",
       "    </tr>\n",
       "    <tr>\n",
       "      <th>4</th>\n",
       "      <td>publication</td>\n",
       "      <td>2025-04-03 23:17:00</td>\n",
       "      <td>ouagadougou 03 avril 2025 le président du faso...</td>\n",
       "      <td>ouagadougou 03 avril 2025 président faso chef ...</td>\n",
       "      <td>(ouagadougou, 03, avril, 2025, président, faso...</td>\n",
       "    </tr>\n",
       "  </tbody>\n",
       "</table>\n",
       "</div>"
      ],
      "text/plain": [
       "          type      date_normalized  \\\n",
       "0  publication  2025-04-06 22:57:00   \n",
       "1      comment  2024-04-06 08:22:00   \n",
       "2      comment  2024-04-06 10:58:00   \n",
       "3  publication  2025-04-06 23:00:00   \n",
       "4  publication  2025-04-03 23:17:00   \n",
       "\n",
       "                                      text_processed  \\\n",
       "0  il fut une époque à pouni où l  expression ken...   \n",
       "1  heu si j  ai bien compris nos autorités actuel...   \n",
       "2  bravo à cet intellectuel de haut vol pour qui ...   \n",
       "3  l  administration de la justice dans un contex...   \n",
       "4  ouagadougou 03 avril 2025 le président du faso...   \n",
       "\n",
       "                               text_processed_w_stpw  \\\n",
       "0  époque pouni où expression ken you aton vogue ...   \n",
       "1  heu si bien compris autorités actuelles souhai...   \n",
       "2  bravo cet intellectuel haut vol génétique a pl...   \n",
       "3  administration justice contexte transition que...   \n",
       "4  ouagadougou 03 avril 2025 président faso chef ...   \n",
       "\n",
       "                               comment_process_spacy  \n",
       "0  (époque, pouni, où, expression, ken, you, aton...  \n",
       "1  (heu, si, bien, compris, autorités, actuelles,...  \n",
       "2  (bravo, cet, intellectuel, haut, vol, génétiqu...  \n",
       "3  (administration, justice, contexte, transition...  \n",
       "4  (ouagadougou, 03, avril, 2025, président, faso...  "
      ]
     },
     "execution_count": 15,
     "metadata": {},
     "output_type": "execute_result"
    }
   ],
   "source": [
    "data[\"comment_process_spacy\"] = data[\"text_processed_w_stpw\"].apply(lambda col: nlp(col))\n",
    "data.head()"
   ]
  },
  {
   "cell_type": "code",
   "execution_count": 16,
   "id": "f194d1fb",
   "metadata": {
    "colab": {
     "base_uri": "https://localhost:8080/",
     "height": 293
    },
    "id": "f194d1fb",
    "outputId": "e757a1bb-b74d-4a2c-9f4d-49dfd2fb5397"
   },
   "outputs": [
    {
     "data": {
      "text/html": [
       "<div>\n",
       "<style scoped>\n",
       "    .dataframe tbody tr th:only-of-type {\n",
       "        vertical-align: middle;\n",
       "    }\n",
       "\n",
       "    .dataframe tbody tr th {\n",
       "        vertical-align: top;\n",
       "    }\n",
       "\n",
       "    .dataframe thead th {\n",
       "        text-align: right;\n",
       "    }\n",
       "</style>\n",
       "<table border=\"1\" class=\"dataframe\">\n",
       "  <thead>\n",
       "    <tr style=\"text-align: right;\">\n",
       "      <th></th>\n",
       "      <th>type</th>\n",
       "      <th>date_normalized</th>\n",
       "      <th>text_processed</th>\n",
       "      <th>text_processed_w_stpw</th>\n",
       "      <th>comment_process_spacy</th>\n",
       "      <th>lemetized_tokens</th>\n",
       "    </tr>\n",
       "  </thead>\n",
       "  <tbody>\n",
       "    <tr>\n",
       "      <th>0</th>\n",
       "      <td>publication</td>\n",
       "      <td>2025-04-06 22:57:00</td>\n",
       "      <td>il fut une époque à pouni où l  expression ken...</td>\n",
       "      <td>époque pouni où expression ken you aton vogue ...</td>\n",
       "      <td>(époque, pouni, où, expression, ken, you, aton...</td>\n",
       "      <td>[époque, pouni, où, expression, ken, you, aton...</td>\n",
       "    </tr>\n",
       "    <tr>\n",
       "      <th>1</th>\n",
       "      <td>comment</td>\n",
       "      <td>2024-04-06 08:22:00</td>\n",
       "      <td>heu si j  ai bien compris nos autorités actuel...</td>\n",
       "      <td>heu si bien compris autorités actuelles souhai...</td>\n",
       "      <td>(heu, si, bien, compris, autorités, actuelles,...</td>\n",
       "      <td>[heu, si, bien, comprendre, autorité, actuel, ...</td>\n",
       "    </tr>\n",
       "    <tr>\n",
       "      <th>2</th>\n",
       "      <td>comment</td>\n",
       "      <td>2024-04-06 10:58:00</td>\n",
       "      <td>bravo à cet intellectuel de haut vol pour qui ...</td>\n",
       "      <td>bravo cet intellectuel haut vol génétique a pl...</td>\n",
       "      <td>(bravo, cet, intellectuel, haut, vol, génétiqu...</td>\n",
       "      <td>[bravo, ce, intellectuel, haut, vol, génétique...</td>\n",
       "    </tr>\n",
       "    <tr>\n",
       "      <th>3</th>\n",
       "      <td>publication</td>\n",
       "      <td>2025-04-06 23:00:00</td>\n",
       "      <td>l  administration de la justice dans un contex...</td>\n",
       "      <td>administration justice contexte transition que...</td>\n",
       "      <td>(administration, justice, contexte, transition...</td>\n",
       "      <td>[administration, justic, contexte, transition,...</td>\n",
       "    </tr>\n",
       "    <tr>\n",
       "      <th>4</th>\n",
       "      <td>publication</td>\n",
       "      <td>2025-04-03 23:17:00</td>\n",
       "      <td>ouagadougou 03 avril 2025 le président du faso...</td>\n",
       "      <td>ouagadougou 03 avril 2025 président faso chef ...</td>\n",
       "      <td>(ouagadougou, 03, avril, 2025, président, faso...</td>\n",
       "      <td>[ouagadougou, 03, avril, 2025, président, faso...</td>\n",
       "    </tr>\n",
       "  </tbody>\n",
       "</table>\n",
       "</div>"
      ],
      "text/plain": [
       "          type      date_normalized  \\\n",
       "0  publication  2025-04-06 22:57:00   \n",
       "1      comment  2024-04-06 08:22:00   \n",
       "2      comment  2024-04-06 10:58:00   \n",
       "3  publication  2025-04-06 23:00:00   \n",
       "4  publication  2025-04-03 23:17:00   \n",
       "\n",
       "                                      text_processed  \\\n",
       "0  il fut une époque à pouni où l  expression ken...   \n",
       "1  heu si j  ai bien compris nos autorités actuel...   \n",
       "2  bravo à cet intellectuel de haut vol pour qui ...   \n",
       "3  l  administration de la justice dans un contex...   \n",
       "4  ouagadougou 03 avril 2025 le président du faso...   \n",
       "\n",
       "                               text_processed_w_stpw  \\\n",
       "0  époque pouni où expression ken you aton vogue ...   \n",
       "1  heu si bien compris autorités actuelles souhai...   \n",
       "2  bravo cet intellectuel haut vol génétique a pl...   \n",
       "3  administration justice contexte transition que...   \n",
       "4  ouagadougou 03 avril 2025 président faso chef ...   \n",
       "\n",
       "                               comment_process_spacy  \\\n",
       "0  (époque, pouni, où, expression, ken, you, aton...   \n",
       "1  (heu, si, bien, compris, autorités, actuelles,...   \n",
       "2  (bravo, cet, intellectuel, haut, vol, génétiqu...   \n",
       "3  (administration, justice, contexte, transition...   \n",
       "4  (ouagadougou, 03, avril, 2025, président, faso...   \n",
       "\n",
       "                                    lemetized_tokens  \n",
       "0  [époque, pouni, où, expression, ken, you, aton...  \n",
       "1  [heu, si, bien, comprendre, autorité, actuel, ...  \n",
       "2  [bravo, ce, intellectuel, haut, vol, génétique...  \n",
       "3  [administration, justic, contexte, transition,...  \n",
       "4  [ouagadougou, 03, avril, 2025, président, faso...  "
      ]
     },
     "execution_count": 16,
     "metadata": {},
     "output_type": "execute_result"
    }
   ],
   "source": [
    "\n",
    "data[\"lemetized_tokens\"] = data[\"comment_process_spacy\"].apply(lambda tokens: [token.lemma_ for token in tokens])\n",
    "data.head()"
   ]
  },
  {
   "cell_type": "code",
   "execution_count": 17,
   "id": "b91cd99d",
   "metadata": {
    "colab": {
     "base_uri": "https://localhost:8080/",
     "height": 667
    },
    "id": "b91cd99d",
    "outputId": "4a104db1-161d-487e-b8ac-6f1e91bb3871"
   },
   "outputs": [
    {
     "data": {
      "text/html": [
       "<div>\n",
       "<style scoped>\n",
       "    .dataframe tbody tr th:only-of-type {\n",
       "        vertical-align: middle;\n",
       "    }\n",
       "\n",
       "    .dataframe tbody tr th {\n",
       "        vertical-align: top;\n",
       "    }\n",
       "\n",
       "    .dataframe thead th {\n",
       "        text-align: right;\n",
       "    }\n",
       "</style>\n",
       "<table border=\"1\" class=\"dataframe\">\n",
       "  <thead>\n",
       "    <tr style=\"text-align: right;\">\n",
       "      <th></th>\n",
       "      <th>type</th>\n",
       "      <th>date_normalized</th>\n",
       "      <th>text_processed</th>\n",
       "      <th>text_processed_w_stpw</th>\n",
       "      <th>comment_process_spacy</th>\n",
       "      <th>lemetized_tokens</th>\n",
       "      <th>cleanned_text</th>\n",
       "    </tr>\n",
       "  </thead>\n",
       "  <tbody>\n",
       "    <tr>\n",
       "      <th>0</th>\n",
       "      <td>publication</td>\n",
       "      <td>2025-04-06 22:57:00</td>\n",
       "      <td>il fut une époque à pouni où l  expression ken...</td>\n",
       "      <td>époque pouni où expression ken you aton vogue ...</td>\n",
       "      <td>(époque, pouni, où, expression, ken, you, aton...</td>\n",
       "      <td>[époque, pouni, où, expression, ken, you, aton...</td>\n",
       "      <td>['époque', 'pouni', 'où', 'expression', 'ken',...</td>\n",
       "    </tr>\n",
       "    <tr>\n",
       "      <th>1</th>\n",
       "      <td>comment</td>\n",
       "      <td>2024-04-06 08:22:00</td>\n",
       "      <td>heu si j  ai bien compris nos autorités actuel...</td>\n",
       "      <td>heu si bien compris autorités actuelles souhai...</td>\n",
       "      <td>(heu, si, bien, compris, autorités, actuelles,...</td>\n",
       "      <td>[heu, si, bien, comprendre, autorité, actuel, ...</td>\n",
       "      <td>['heu', 'si', 'bien', 'comprendre', 'autorité'...</td>\n",
       "    </tr>\n",
       "    <tr>\n",
       "      <th>2</th>\n",
       "      <td>comment</td>\n",
       "      <td>2024-04-06 10:58:00</td>\n",
       "      <td>bravo à cet intellectuel de haut vol pour qui ...</td>\n",
       "      <td>bravo cet intellectuel haut vol génétique a pl...</td>\n",
       "      <td>(bravo, cet, intellectuel, haut, vol, génétiqu...</td>\n",
       "      <td>[bravo, ce, intellectuel, haut, vol, génétique...</td>\n",
       "      <td>['bravo', 'ce', 'intellectuel', 'haut', 'vol',...</td>\n",
       "    </tr>\n",
       "    <tr>\n",
       "      <th>3</th>\n",
       "      <td>publication</td>\n",
       "      <td>2025-04-06 23:00:00</td>\n",
       "      <td>l  administration de la justice dans un contex...</td>\n",
       "      <td>administration justice contexte transition que...</td>\n",
       "      <td>(administration, justice, contexte, transition...</td>\n",
       "      <td>[administration, justic, contexte, transition,...</td>\n",
       "      <td>['administration', 'justic', 'contexte', 'tran...</td>\n",
       "    </tr>\n",
       "    <tr>\n",
       "      <th>4</th>\n",
       "      <td>publication</td>\n",
       "      <td>2025-04-03 23:17:00</td>\n",
       "      <td>ouagadougou 03 avril 2025 le président du faso...</td>\n",
       "      <td>ouagadougou 03 avril 2025 président faso chef ...</td>\n",
       "      <td>(ouagadougou, 03, avril, 2025, président, faso...</td>\n",
       "      <td>[ouagadougou, 03, avril, 2025, président, faso...</td>\n",
       "      <td>['ouagadougou', '03', 'avril', '2025', 'présid...</td>\n",
       "    </tr>\n",
       "    <tr>\n",
       "      <th>...</th>\n",
       "      <td>...</td>\n",
       "      <td>...</td>\n",
       "      <td>...</td>\n",
       "      <td>...</td>\n",
       "      <td>...</td>\n",
       "      <td>...</td>\n",
       "      <td>...</td>\n",
       "    </tr>\n",
       "    <tr>\n",
       "      <th>15802</th>\n",
       "      <td>reply</td>\n",
       "      <td>2024-02-14 13:51:00</td>\n",
       "      <td>kibora bon résumé de la situation du congo bel...</td>\n",
       "      <td>kibora bon résumé situation congo belge ex zaïre</td>\n",
       "      <td>(kibora, bon, résumé, situation, congo, belge,...</td>\n",
       "      <td>[kibora, bon, résumé, situation, congo, belge,...</td>\n",
       "      <td>['kibora', 'bon', 'résumé', 'situation', 'cong...</td>\n",
       "    </tr>\n",
       "    <tr>\n",
       "      <th>15803</th>\n",
       "      <td>comment</td>\n",
       "      <td>2024-02-15 12:41:00</td>\n",
       "      <td>kibora messire patrick kibora je ne sais si vo...</td>\n",
       "      <td>kibora messire patrick kibora sais si grand co...</td>\n",
       "      <td>(kibora, messire, patrick, kibora, sais, si, g...</td>\n",
       "      <td>[kibora, messir, patrick, kibora, savoir, si, ...</td>\n",
       "      <td>['kibora', 'messir', 'patrick', 'kibora', 'sav...</td>\n",
       "    </tr>\n",
       "    <tr>\n",
       "      <th>15804</th>\n",
       "      <td>publication</td>\n",
       "      <td>2024-02-13 20:45:00</td>\n",
       "      <td>la dégradation de la situation socio politique...</td>\n",
       "      <td>dégradation situation socio politique sénégal ...</td>\n",
       "      <td>(dégradation, situation, socio, politique, sén...</td>\n",
       "      <td>[dégradation, situation, socio, politique, sén...</td>\n",
       "      <td>['dégradation', 'situation', 'socio', 'politiq...</td>\n",
       "    </tr>\n",
       "    <tr>\n",
       "      <th>15805</th>\n",
       "      <td>comment</td>\n",
       "      <td>2024-02-14 20:34:00</td>\n",
       "      <td>tous les pays toutes les organisations qui ont...</td>\n",
       "      <td>tous pays toutes organisations pouvoir faire p...</td>\n",
       "      <td>(tous, pays, toutes, organisations, pouvoir, f...</td>\n",
       "      <td>[tout, pays, tout, organisation, pouvoir, fair...</td>\n",
       "      <td>['tout', 'pays', 'tout', 'organisation', 'pouv...</td>\n",
       "    </tr>\n",
       "    <tr>\n",
       "      <th>15806</th>\n",
       "      <td>reply</td>\n",
       "      <td>2024-02-20 18:28:00</td>\n",
       "      <td>i was suggested this web site by my cousin i a...</td>\n",
       "      <td>i was suggested this web site by my cousin i a...</td>\n",
       "      <td>(i, was, suggested, this, web, site, by, my, c...</td>\n",
       "      <td>[i, was, suggested, thi, web, site, by, my, co...</td>\n",
       "      <td>['i', 'was', 'suggested', 'thi', 'web', 'site'...</td>\n",
       "    </tr>\n",
       "  </tbody>\n",
       "</table>\n",
       "<p>15803 rows × 7 columns</p>\n",
       "</div>"
      ],
      "text/plain": [
       "              type      date_normalized  \\\n",
       "0      publication  2025-04-06 22:57:00   \n",
       "1          comment  2024-04-06 08:22:00   \n",
       "2          comment  2024-04-06 10:58:00   \n",
       "3      publication  2025-04-06 23:00:00   \n",
       "4      publication  2025-04-03 23:17:00   \n",
       "...            ...                  ...   \n",
       "15802        reply  2024-02-14 13:51:00   \n",
       "15803      comment  2024-02-15 12:41:00   \n",
       "15804  publication  2024-02-13 20:45:00   \n",
       "15805      comment  2024-02-14 20:34:00   \n",
       "15806        reply  2024-02-20 18:28:00   \n",
       "\n",
       "                                          text_processed  \\\n",
       "0      il fut une époque à pouni où l  expression ken...   \n",
       "1      heu si j  ai bien compris nos autorités actuel...   \n",
       "2      bravo à cet intellectuel de haut vol pour qui ...   \n",
       "3      l  administration de la justice dans un contex...   \n",
       "4      ouagadougou 03 avril 2025 le président du faso...   \n",
       "...                                                  ...   \n",
       "15802  kibora bon résumé de la situation du congo bel...   \n",
       "15803  kibora messire patrick kibora je ne sais si vo...   \n",
       "15804  la dégradation de la situation socio politique...   \n",
       "15805  tous les pays toutes les organisations qui ont...   \n",
       "15806  i was suggested this web site by my cousin i a...   \n",
       "\n",
       "                                   text_processed_w_stpw  \\\n",
       "0      époque pouni où expression ken you aton vogue ...   \n",
       "1      heu si bien compris autorités actuelles souhai...   \n",
       "2      bravo cet intellectuel haut vol génétique a pl...   \n",
       "3      administration justice contexte transition que...   \n",
       "4      ouagadougou 03 avril 2025 président faso chef ...   \n",
       "...                                                  ...   \n",
       "15802   kibora bon résumé situation congo belge ex zaïre   \n",
       "15803  kibora messire patrick kibora sais si grand co...   \n",
       "15804  dégradation situation socio politique sénégal ...   \n",
       "15805  tous pays toutes organisations pouvoir faire p...   \n",
       "15806  i was suggested this web site by my cousin i a...   \n",
       "\n",
       "                                   comment_process_spacy  \\\n",
       "0      (époque, pouni, où, expression, ken, you, aton...   \n",
       "1      (heu, si, bien, compris, autorités, actuelles,...   \n",
       "2      (bravo, cet, intellectuel, haut, vol, génétiqu...   \n",
       "3      (administration, justice, contexte, transition...   \n",
       "4      (ouagadougou, 03, avril, 2025, président, faso...   \n",
       "...                                                  ...   \n",
       "15802  (kibora, bon, résumé, situation, congo, belge,...   \n",
       "15803  (kibora, messire, patrick, kibora, sais, si, g...   \n",
       "15804  (dégradation, situation, socio, politique, sén...   \n",
       "15805  (tous, pays, toutes, organisations, pouvoir, f...   \n",
       "15806  (i, was, suggested, this, web, site, by, my, c...   \n",
       "\n",
       "                                        lemetized_tokens  \\\n",
       "0      [époque, pouni, où, expression, ken, you, aton...   \n",
       "1      [heu, si, bien, comprendre, autorité, actuel, ...   \n",
       "2      [bravo, ce, intellectuel, haut, vol, génétique...   \n",
       "3      [administration, justic, contexte, transition,...   \n",
       "4      [ouagadougou, 03, avril, 2025, président, faso...   \n",
       "...                                                  ...   \n",
       "15802  [kibora, bon, résumé, situation, congo, belge,...   \n",
       "15803  [kibora, messir, patrick, kibora, savoir, si, ...   \n",
       "15804  [dégradation, situation, socio, politique, sén...   \n",
       "15805  [tout, pays, tout, organisation, pouvoir, fair...   \n",
       "15806  [i, was, suggested, thi, web, site, by, my, co...   \n",
       "\n",
       "                                           cleanned_text  \n",
       "0      ['époque', 'pouni', 'où', 'expression', 'ken',...  \n",
       "1      ['heu', 'si', 'bien', 'comprendre', 'autorité'...  \n",
       "2      ['bravo', 'ce', 'intellectuel', 'haut', 'vol',...  \n",
       "3      ['administration', 'justic', 'contexte', 'tran...  \n",
       "4      ['ouagadougou', '03', 'avril', '2025', 'présid...  \n",
       "...                                                  ...  \n",
       "15802  ['kibora', 'bon', 'résumé', 'situation', 'cong...  \n",
       "15803  ['kibora', 'messir', 'patrick', 'kibora', 'sav...  \n",
       "15804  ['dégradation', 'situation', 'socio', 'politiq...  \n",
       "15805  ['tout', 'pays', 'tout', 'organisation', 'pouv...  \n",
       "15806  ['i', 'was', 'suggested', 'thi', 'web', 'site'...  \n",
       "\n",
       "[15803 rows x 7 columns]"
      ]
     },
     "execution_count": 17,
     "metadata": {},
     "output_type": "execute_result"
    }
   ],
   "source": [
    "data[\"cleanned_text\"] = data[\"lemetized_tokens\"].astype(str)\n",
    "data"
   ]
  },
  {
   "cell_type": "markdown",
   "id": "a05e9b24",
   "metadata": {
    "id": "a05e9b24"
   },
   "source": [
    "## 2. Words Trends"
   ]
  },
  {
   "cell_type": "code",
   "execution_count": 18,
   "id": "5defd1fa",
   "metadata": {
    "id": "5defd1fa"
   },
   "outputs": [],
   "source": [
    "# Using TF-IDF for mesuring the importance of words\n",
    "from sklearn.feature_extraction.text import TfidfVectorizer"
   ]
  },
  {
   "cell_type": "code",
   "execution_count": 19,
   "id": "04f437ca",
   "metadata": {
    "id": "04f437ca"
   },
   "outputs": [],
   "source": [
    "vectorizer = TfidfVectorizer(max_features=100)\n",
    "\n",
    "tfid_matrix = vectorizer.fit_transform(data[\"cleanned_text\"])"
   ]
  },
  {
   "cell_type": "code",
   "execution_count": 20,
   "id": "4575b8dd",
   "metadata": {
    "colab": {
     "base_uri": "https://localhost:8080/"
    },
    "id": "4575b8dd",
    "outputId": "cb3996b2-3bbb-4d4d-e08f-64f16f9e930b"
   },
   "outputs": [
    {
     "data": {
      "text/plain": [
       "array(['2024', 'africain', 'ainsi', 'aller', 'an', 'année', 'apparaître',\n",
       "       'après', 'aussi', 'autre', 'avant', 'avoir', 'beaucoup', 'bien',\n",
       "       'bon', 'burkina', 'burkinabè', 'car', 'ce', 'cela', 'celer',\n",
       "       'celui', 'certain', 'chose', 'comme', 'contre', 'contribution',\n",
       "       'créer', 'depuis', 'deux', 'devoir', 'dire', 'donc', 'donner',\n",
       "       'dont', 'droit', 'encore', 'entrer', 'etat', 'faire', 'falloir',\n",
       "       'faso', 'forum', 'france', 'gouvernement', 'grand', 'général',\n",
       "       'jeune', 'jour', 'laisser', 'leur', 'ligne', 'là', 'mettre',\n",
       "       'ministre', 'modérer', 'monde', 'national', 'non', 'nouveau', 'où',\n",
       "       'paragraphe', 'parce', 'passer', 'pay', 'pays', 'permettre',\n",
       "       'personne', 'peuple', 'plus', 'politique', 'population', 'pouvoir',\n",
       "       'premier', 'prendre', 'priori', 'projet', 'président', 'public',\n",
       "       'quand', 'responsable', 'sans', 'savoir', 'selon', 'si',\n",
       "       'simplement', 'sou', 'temps', 'toujours', 'tout', 'très',\n",
       "       'validée', 'venir', 'vide', 'voir', 'vouloir', 'économique',\n",
       "       'également', 'état', 'être'], dtype=object)"
      ]
     },
     "execution_count": 20,
     "metadata": {},
     "output_type": "execute_result"
    }
   ],
   "source": [
    "mots_importants = vectorizer.get_feature_names_out()\n",
    "mots_importants"
   ]
  },
  {
   "cell_type": "code",
   "execution_count": 21,
   "id": "d7410600",
   "metadata": {
    "colab": {
     "base_uri": "https://localhost:8080/"
    },
    "id": "d7410600",
    "outputId": "d81c5f3d-9e24-41ce-e629-b0de1d89cb31"
   },
   "outputs": [
    {
     "name": "stdout",
     "output_type": "stream",
     "text": [
      "avoir: 2731.933\n",
      "tout: 1489.384\n",
      "faire: 1281.676\n",
      "pouvoir: 1253.038\n",
      "ce: 1078.572\n",
      "plus: 1013.343\n",
      "aller: 906.732\n",
      "dire: 896.581\n",
      "burkina: 858.978\n",
      "si: 834.603\n",
      "comme: 812.418\n",
      "pays: 801.333\n",
      "bien: 779.195\n",
      "autre: 732.750\n",
      "bon: 707.397\n",
      "devoir: 679.606\n",
      "être: 678.423\n",
      "falloir: 672.371\n",
      "faso: 649.641\n",
      "celui: 613.695\n",
      "pay: 608.161\n",
      "peuple: 599.729\n",
      "vouloir: 572.594\n",
      "voir: 564.746\n",
      "président: 542.338\n",
      "sans: 536.620\n",
      "savoir: 513.770\n",
      "cela: 513.430\n",
      "quand: 503.507\n",
      "leur: 491.432\n"
     ]
    }
   ],
   "source": [
    "import numpy as np\n",
    "scores = np.sum(tfid_matrix.toarray(), axis=0)  # Somme des valeurs TF-IDF de chaque mot\n",
    "mots_scores = sorted(zip(mots_importants, scores), key=lambda x: x[1], reverse=True)\n",
    "\n",
    "# Affichage des 30 mots les plus importants\n",
    "for mot, score in mots_scores[:30]:\n",
    "    print(f\"{mot}: {score:.3f}\")"
   ]
  },
  {
   "cell_type": "code",
   "execution_count": 22,
   "id": "c5ea3054",
   "metadata": {
    "colab": {
     "base_uri": "https://localhost:8080/",
     "height": 487
    },
    "id": "c5ea3054",
    "outputId": "18e80d7e-7264-4e1d-aca7-73aaeab5faec"
   },
   "outputs": [
    {
     "data": {
      "image/png": "[encoded data removed]",
      "text/plain": [
       "<Figure size 1000x500 with 1 Axes>"
      ]
     },
     "metadata": {},
     "output_type": "display_data"
    }
   ],
   "source": [
    "import matplotlib.pyplot as plt\n",
    "\n",
    "# Extraire les 30 mots les plus importants\n",
    "mots_top, scores_top = zip(*mots_scores[:30])\n",
    "\n",
    "plt.figure(figsize=(10, 5))\n",
    "plt.barh(mots_top, scores_top, color='red')\n",
    "plt.xlabel(\"Score TF-IDF\")\n",
    "plt.ylabel(\"Mots\")\n",
    "plt.title(\"Top 30 des mots les plus significatifs\")\n",
    "plt.gca().invert_yaxis()\n",
    "plt.show()"
   ]
  },
  {
   "cell_type": "markdown",
   "id": "c0960df0",
   "metadata": {
    "id": "c0960df0"
   },
   "source": [
    "## 3. Sentiment analysis"
   ]
  },
  {
   "cell_type": "code",
   "execution_count": 23,
   "id": "f8fde050",
   "metadata": {},
   "outputs": [
    {
     "data": {
      "text/html": [
       "<div>\n",
       "<style scoped>\n",
       "    .dataframe tbody tr th:only-of-type {\n",
       "        vertical-align: middle;\n",
       "    }\n",
       "\n",
       "    .dataframe tbody tr th {\n",
       "        vertical-align: top;\n",
       "    }\n",
       "\n",
       "    .dataframe thead th {\n",
       "        text-align: right;\n",
       "    }\n",
       "</style>\n",
       "<table border=\"1\" class=\"dataframe\">\n",
       "  <thead>\n",
       "    <tr style=\"text-align: right;\">\n",
       "      <th></th>\n",
       "      <th>date_normalized</th>\n",
       "      <th>text_processed</th>\n",
       "      <th>text_processed_w_stpw</th>\n",
       "      <th>cleanned_text</th>\n",
       "    </tr>\n",
       "  </thead>\n",
       "  <tbody>\n",
       "    <tr>\n",
       "      <th>0</th>\n",
       "      <td>2025-04-06 22:57:00</td>\n",
       "      <td>il fut une époque à pouni où l  expression ken...</td>\n",
       "      <td>époque pouni où expression ken you aton vogue ...</td>\n",
       "      <td>['époque', 'pouni', 'où', 'expression', 'ken',...</td>\n",
       "    </tr>\n",
       "    <tr>\n",
       "      <th>1</th>\n",
       "      <td>2024-04-06 08:22:00</td>\n",
       "      <td>heu si j  ai bien compris nos autorités actuel...</td>\n",
       "      <td>heu si bien compris autorités actuelles souhai...</td>\n",
       "      <td>['heu', 'si', 'bien', 'comprendre', 'autorité'...</td>\n",
       "    </tr>\n",
       "    <tr>\n",
       "      <th>2</th>\n",
       "      <td>2024-04-06 10:58:00</td>\n",
       "      <td>bravo à cet intellectuel de haut vol pour qui ...</td>\n",
       "      <td>bravo cet intellectuel haut vol génétique a pl...</td>\n",
       "      <td>['bravo', 'ce', 'intellectuel', 'haut', 'vol',...</td>\n",
       "    </tr>\n",
       "    <tr>\n",
       "      <th>3</th>\n",
       "      <td>2025-04-06 23:00:00</td>\n",
       "      <td>l  administration de la justice dans un contex...</td>\n",
       "      <td>administration justice contexte transition que...</td>\n",
       "      <td>['administration', 'justic', 'contexte', 'tran...</td>\n",
       "    </tr>\n",
       "    <tr>\n",
       "      <th>4</th>\n",
       "      <td>2025-04-03 23:17:00</td>\n",
       "      <td>ouagadougou 03 avril 2025 le président du faso...</td>\n",
       "      <td>ouagadougou 03 avril 2025 président faso chef ...</td>\n",
       "      <td>['ouagadougou', '03', 'avril', '2025', 'présid...</td>\n",
       "    </tr>\n",
       "  </tbody>\n",
       "</table>\n",
       "</div>"
      ],
      "text/plain": [
       "       date_normalized                                     text_processed  \\\n",
       "0  2025-04-06 22:57:00  il fut une époque à pouni où l  expression ken...   \n",
       "1  2024-04-06 08:22:00  heu si j  ai bien compris nos autorités actuel...   \n",
       "2  2024-04-06 10:58:00  bravo à cet intellectuel de haut vol pour qui ...   \n",
       "3  2025-04-06 23:00:00  l  administration de la justice dans un contex...   \n",
       "4  2025-04-03 23:17:00  ouagadougou 03 avril 2025 le président du faso...   \n",
       "\n",
       "                               text_processed_w_stpw  \\\n",
       "0  époque pouni où expression ken you aton vogue ...   \n",
       "1  heu si bien compris autorités actuelles souhai...   \n",
       "2  bravo cet intellectuel haut vol génétique a pl...   \n",
       "3  administration justice contexte transition que...   \n",
       "4  ouagadougou 03 avril 2025 président faso chef ...   \n",
       "\n",
       "                                       cleanned_text  \n",
       "0  ['époque', 'pouni', 'où', 'expression', 'ken',...  \n",
       "1  ['heu', 'si', 'bien', 'comprendre', 'autorité'...  \n",
       "2  ['bravo', 'ce', 'intellectuel', 'haut', 'vol',...  \n",
       "3  ['administration', 'justic', 'contexte', 'tran...  \n",
       "4  ['ouagadougou', '03', 'avril', '2025', 'présid...  "
      ]
     },
     "execution_count": 23,
     "metadata": {},
     "output_type": "execute_result"
    }
   ],
   "source": [
    "df = data[[\"date_normalized\", \"text_processed\", \"text_processed_w_stpw\", \"cleanned_text\"]]\n",
    "df.head()"
   ]
  },
  {
   "cell_type": "markdown",
   "id": "Bt2qMrdcBfat",
   "metadata": {
    "id": "Bt2qMrdcBfat"
   },
   "source": [
    "### 3.1 Sentiment analysis Using finetuned model"
   ]
  },
  {
   "cell_type": "code",
   "execution_count": null,
   "id": "cm3sF9WV7Nci",
   "metadata": {
    "id": "cm3sF9WV7Nci"
   },
   "outputs": [],
   "source": [
    "!pip install transformers"
   ]
  },
  {
   "cell_type": "code",
   "execution_count": 51,
   "id": "vClPg0wb4oE5",
   "metadata": {
    "colab": {
     "base_uri": "https://localhost:8080/"
    },
    "id": "vClPg0wb4oE5",
    "outputId": "9e5129e5-757c-4a3a-8614-0699e1502c3b"
   },
   "outputs": [
    {
     "name": "stderr",
     "output_type": "stream",
     "text": [
      "Device set to use cpu\n"
     ]
    }
   ],
   "source": [
    "from transformers import pipeline\n",
    "\n",
    "pipe = pipeline(\"text-classification\",\n",
    "                model=\"cardiffnlp/twitter-xlm-roberta-base-sentiment\",\n",
    "                tokenizer=\"cardiffnlp/twitter-xlm-roberta-base-sentiment\",\n",
    "                truncation=True,\n",
    "                max_length=512)"
   ]
  },
  {
   "cell_type": "code",
   "execution_count": 63,
   "id": "BrUFjHcs4oHY",
   "metadata": {
    "id": "BrUFjHcs4oHY"
   },
   "outputs": [],
   "source": [
    "def le_sentiment(data_set):\n",
    "  sentiments = []\n",
    "  for i in range(0, len(data_set)):\n",
    "    posts = data_set[\"text_processed_w_stpw\"]\n",
    "    for post in posts:\n",
    "      try:\n",
    "        if not isinstance(post, str) or not post.strip():\n",
    "            print(\"EMPTY\")\n",
    "            sentiments.append(\"EMPTY\")\n",
    "            continue\n",
    "        \n",
    "        result = pipe(post)\n",
    "        label = result[0]['label']\n",
    "        \n",
    "        if label == 'positive':\n",
    "            sentiments.append(1)\n",
    "        elif label == 'negative':\n",
    "            sentiments.append(-1)\n",
    "        elif label == 'neutral':\n",
    "            sentiments.append(0)\n",
    "        else:\n",
    "            print(\"UNKNOWN\")\n",
    "            sentiments.append(\"UNKNOWN\")\n",
    "      except Exception as e:\n",
    "        print(f\"[ERROR] {e}\")\n",
    "        sentiments.append(\"ERROR\")\n",
    "\n",
    "  data_set['sentiment'] = sentiments[:len(data_set)]\n",
    "  data_set.to_csv(\"data_sentiment_finetuned_m.csv\", encoding='utf-8')\n"
   ]
  },
  {
   "cell_type": "code",
   "execution_count": 63,
   "id": "d_4NK2Ft4oKR",
   "metadata": {
    "id": "d_4NK2Ft4oKR"
   },
   "outputs": [],
   "source": [
    "le_sentiment(df)"
   ]
  },
  {
   "cell_type": "code",
   "execution_count": null,
   "id": "rrrXBECz4oQ6",
   "metadata": {
    "id": "rrrXBECz4oQ6"
   },
   "outputs": [],
   "source": []
  },
  {
   "cell_type": "markdown",
   "id": "JrSOaw-gA_5w",
   "metadata": {
    "id": "JrSOaw-gA_5w"
   },
   "source": [
    "### 3.2 Sentiment analysis using VADER"
   ]
  },
  {
   "cell_type": "code",
   "execution_count": 55,
   "id": "34eb81fb",
   "metadata": {
    "colab": {
     "base_uri": "https://localhost:8080/"
    },
    "id": "34eb81fb",
    "outputId": "3ef7fab2-8cd5-4e8b-fdf9-bde21347659e"
   },
   "outputs": [
    {
     "name": "stdout",
     "output_type": "stream",
     "text": [
      "Collecting vader-multi\n",
      "  Downloading vader_multi-3.2.2.1-py2.py3-none-any.whl.metadata (3.6 kB)\n",
      "Requirement already satisfied: requests in /usr/local/lib/python3.11/dist-packages (from vader-multi) (2.32.3)\n",
      "Collecting translatte (from vader-multi)\n",
      "  Downloading translatte-0.1-py3-none-any.whl.metadata (684 bytes)\n",
      "Requirement already satisfied: charset-normalizer<4,>=2 in /usr/local/lib/python3.11/dist-packages (from requests->vader-multi) (3.4.1)\n",
      "Requirement already satisfied: idna<4,>=2.5 in /usr/local/lib/python3.11/dist-packages (from requests->vader-multi) (3.10)\n",
      "Requirement already satisfied: urllib3<3,>=1.21.1 in /usr/local/lib/python3.11/dist-packages (from requests->vader-multi) (2.3.0)\n",
      "Requirement already satisfied: certifi>=2017.4.17 in /usr/local/lib/python3.11/dist-packages (from requests->vader-multi) (2025.1.31)\n",
      "Downloading vader_multi-3.2.2.1-py2.py3-none-any.whl (126 kB)\n",
      "\u001b[2K   \u001b[90m━━━━━━━━━━━━━━━━━━━━━━━━━━━━━━━━━━━━━━━━\u001b[0m \u001b[32m126.7/126.7 kB\u001b[0m \u001b[31m3.6 MB/s\u001b[0m eta \u001b[36m0:00:00\u001b[0m\n",
      "\u001b[?25hDownloading translatte-0.1-py3-none-any.whl (14 kB)\n",
      "Installing collected packages: translatte, vader-multi\n",
      "Successfully installed translatte-0.1 vader-multi-3.2.2.1\n"
     ]
    }
   ],
   "source": [
    "! pip install vader-multi #Versoin étandu de VADER prenant en compte le vocabulaire francais"
   ]
  },
  {
   "cell_type": "code",
   "execution_count": 31,
   "id": "0e75b11e",
   "metadata": {
    "id": "0e75b11e"
   },
   "outputs": [],
   "source": [
    "from vaderSentiment.vaderSentiment import SentimentIntensityAnalyzer\n",
    "\n",
    "modele = SentimentIntensityAnalyzer()"
   ]
  },
  {
   "cell_type": "code",
   "execution_count": 32,
   "id": "2a6a6bd6",
   "metadata": {
    "colab": {
     "base_uri": "https://localhost:8080/"
    },
    "id": "2a6a6bd6",
    "outputId": "3072d103-7395-4876-a06a-b7f90495661e"
   },
   "outputs": [
    {
     "name": "stdout",
     "output_type": "stream",
     "text": [
      "Texte: J'adore ce produit, il est incroyable ! 😍\n",
      "Score: {'neg': 0.0, 'neu': 0.536, 'pos': 0.464, 'compound': 0.831}\n",
      "--------------------------------------------------\n",
      "Texte: Ce film est vraiment mauvais... 😡\n",
      "Score: {'neg': 0.351, 'neu': 0.649, 'pos': 0.0, 'compound': -0.5849}\n",
      "--------------------------------------------------\n",
      "Texte: Pas mal, mais je m'attendais à mieux.\n",
      "Score: {'neg': 0.0, 'neu': 0.409, 'pos': 0.591, 'compound': 0.698}\n",
      "--------------------------------------------------\n",
      "Texte: C'est le meilleur jour de ma vie !!! 🎉\n",
      "Score: {'neg': 0.0, 'neu': 0.507, 'pos': 0.493, 'compound': 0.8306}\n",
      "--------------------------------------------------\n",
      "Texte: Je suis très déçu, quelle perte de temps.\n",
      "Score: {'neg': 0.469, 'neu': 0.531, 'pos': 0.0, 'compound': -0.7346}\n",
      "--------------------------------------------------\n",
      "Texte: vraiment vous êtes bon\n",
      "Score: {'neg': 0.0, 'neu': 0.487, 'pos': 0.513, 'compound': 0.4877}\n",
      "--------------------------------------------------\n"
     ]
    }
   ],
   "source": [
    "# Test\n",
    "# Exemple de phrases\n",
    "textes = [\n",
    "    \"J'adore ce produit, il est incroyable ! 😍\",\n",
    "    \"Ce film est vraiment mauvais... 😡\",\n",
    "    \"Pas mal, mais je m'attendais à mieux.\",\n",
    "    \"C'est le meilleur jour de ma vie !!! 🎉\",\n",
    "    \"Je suis très déçu, quelle perte de temps.\",\n",
    "    \"vraiment vous êtes bon\"\n",
    "]\n",
    "for texte in textes:\n",
    "    score = modele.polarity_scores(texte)\n",
    "    print(f\"Texte: {texte}\")\n",
    "    print(f\"Score: {score}\")\n",
    "    print(\"-\" * 50)"
   ]
  },
  {
   "cell_type": "code",
   "execution_count": 35,
   "id": "39d3bfc3",
   "metadata": {
    "id": "39d3bfc3"
   },
   "outputs": [],
   "source": [
    "def le_sentiment (texte, model):\n",
    "    try:\n",
    "        # Vérifie que le texte est une chaîne non vide\n",
    "        if not isinstance(texte, str) or not texte.strip():\n",
    "            return \"EMPTY\"\n",
    "\n",
    "        # Limiter la longueur pour éviter les erreurs de requêtes\n",
    "        if len(texte) > 500:\n",
    "            texte = texte[:500]\n",
    "            \n",
    "        result = 0\n",
    "        score = model.polarity_scores(texte)\n",
    "        \n",
    "        if (score['compound'] <= -0.5):\n",
    "            result = -1\n",
    "        elif (score['compound'] > -0.5 and score['compound'] <= 0.5) :\n",
    "            result = 0\n",
    "        else:\n",
    "            result = 1\n",
    "\n",
    "        return result\n",
    "    except Exception as e:\n",
    "        print(f\"[Exception]: Erreur lors de l'analyse de sentiment: {e}\")\n",
    "        return \"ERROR\"\n",
    "\n",
    "    "
   ]
  },
  {
   "cell_type": "code",
   "execution_count": 36,
   "id": "1bcc6e68",
   "metadata": {
    "colab": {
     "base_uri": "https://localhost:8080/",
     "height": 321
    },
    "id": "1bcc6e68",
    "outputId": "11424759-db41-4f35-ef8e-7e93dbaccc53"
   },
   "outputs": [
    {
     "name": "stdout",
     "output_type": "stream",
     "text": [
      "[Exception]: Erreur lors de l'analyse de sentiment: list index out of range\n",
      "[Exception]: Erreur lors de l'analyse de sentiment: list index out of range\n",
      "[Exception]: Erreur lors de l'analyse de sentiment: HTTP Error 500: Internal Server Error\n",
      "[Exception]: Erreur lors de l'analyse de sentiment: list index out of range\n",
      "[Exception]: Erreur lors de l'analyse de sentiment: list index out of range\n",
      "[Exception]: Erreur lors de l'analyse de sentiment: list index out of range\n",
      "[Exception]: Erreur lors de l'analyse de sentiment: HTTP Error 500: Internal Server Error\n",
      "[Exception]: Erreur lors de l'analyse de sentiment: list index out of range\n",
      "[Exception]: Erreur lors de l'analyse de sentiment: list index out of range\n",
      "[Exception]: Erreur lors de l'analyse de sentiment: HTTP Error 500: Internal Server Error\n",
      "[Exception]: Erreur lors de l'analyse de sentiment: HTTP Error 500: Internal Server Error\n",
      "[Exception]: Erreur lors de l'analyse de sentiment: list index out of range\n",
      "[Exception]: Erreur lors de l'analyse de sentiment: HTTP Error 500: Internal Server Error\n",
      "[Exception]: Erreur lors de l'analyse de sentiment: HTTP Error 500: Internal Server Error\n",
      "[Exception]: Erreur lors de l'analyse de sentiment: list index out of range\n",
      "[Exception]: Erreur lors de l'analyse de sentiment: HTTP Error 500: Internal Server Error\n",
      "[Exception]: Erreur lors de l'analyse de sentiment: HTTP Error 500: Internal Server Error\n",
      "[Exception]: Erreur lors de l'analyse de sentiment: list index out of range\n",
      "[Exception]: Erreur lors de l'analyse de sentiment: HTTP Error 500: Internal Server Error\n",
      "[Exception]: Erreur lors de l'analyse de sentiment: HTTP Error 500: Internal Server Error\n",
      "[Exception]: Erreur lors de l'analyse de sentiment: list index out of range\n",
      "[Exception]: Erreur lors de l'analyse de sentiment: HTTP Error 500: Internal Server Error\n",
      "[Exception]: Erreur lors de l'analyse de sentiment: list index out of range\n",
      "[Exception]: Erreur lors de l'analyse de sentiment: list index out of range\n",
      "[Exception]: Erreur lors de l'analyse de sentiment: HTTP Error 500: Internal Server Error\n",
      "[Exception]: Erreur lors de l'analyse de sentiment: list index out of range\n"
     ]
    },
    {
     "ename": "KeyboardInterrupt",
     "evalue": "",
     "output_type": "error",
     "traceback": [
      "\u001b[1;31m---------------------------------------------------------------------------\u001b[0m",
      "\u001b[1;31mKeyboardInterrupt\u001b[0m                         Traceback (most recent call last)",
      "Cell \u001b[1;32mIn[36], line 1\u001b[0m\n\u001b[1;32m----> 1\u001b[0m df[\u001b[38;5;124m\"\u001b[39m\u001b[38;5;124msentiment\u001b[39m\u001b[38;5;124m\"\u001b[39m] \u001b[38;5;241m=\u001b[39m df[\u001b[38;5;124m\"\u001b[39m\u001b[38;5;124mtext_processed_w_stpw\u001b[39m\u001b[38;5;124m\"\u001b[39m]\u001b[38;5;241m.\u001b[39mapply(\u001b[38;5;28;01mlambda\u001b[39;00m line: le_sentiment(line, modele))\n",
      "File \u001b[1;32m~\\anaconda3\\Lib\\site-packages\\pandas\\core\\series.py:4924\u001b[0m, in \u001b[0;36mSeries.apply\u001b[1;34m(self, func, convert_dtype, args, by_row, **kwargs)\u001b[0m\n\u001b[0;32m   4789\u001b[0m \u001b[38;5;28;01mdef\u001b[39;00m \u001b[38;5;21mapply\u001b[39m(\n\u001b[0;32m   4790\u001b[0m     \u001b[38;5;28mself\u001b[39m,\n\u001b[0;32m   4791\u001b[0m     func: AggFuncType,\n\u001b[1;32m   (...)\u001b[0m\n\u001b[0;32m   4796\u001b[0m     \u001b[38;5;241m*\u001b[39m\u001b[38;5;241m*\u001b[39mkwargs,\n\u001b[0;32m   4797\u001b[0m ) \u001b[38;5;241m-\u001b[39m\u001b[38;5;241m>\u001b[39m DataFrame \u001b[38;5;241m|\u001b[39m Series:\n\u001b[0;32m   4798\u001b[0m \u001b[38;5;250m    \u001b[39m\u001b[38;5;124;03m\"\"\"\u001b[39;00m\n\u001b[0;32m   4799\u001b[0m \u001b[38;5;124;03m    Invoke function on values of Series.\u001b[39;00m\n\u001b[0;32m   4800\u001b[0m \n\u001b[1;32m   (...)\u001b[0m\n\u001b[0;32m   4915\u001b[0m \u001b[38;5;124;03m    dtype: float64\u001b[39;00m\n\u001b[0;32m   4916\u001b[0m \u001b[38;5;124;03m    \"\"\"\u001b[39;00m\n\u001b[0;32m   4917\u001b[0m     \u001b[38;5;28;01mreturn\u001b[39;00m SeriesApply(\n\u001b[0;32m   4918\u001b[0m         \u001b[38;5;28mself\u001b[39m,\n\u001b[0;32m   4919\u001b[0m         func,\n\u001b[0;32m   4920\u001b[0m         convert_dtype\u001b[38;5;241m=\u001b[39mconvert_dtype,\n\u001b[0;32m   4921\u001b[0m         by_row\u001b[38;5;241m=\u001b[39mby_row,\n\u001b[0;32m   4922\u001b[0m         args\u001b[38;5;241m=\u001b[39margs,\n\u001b[0;32m   4923\u001b[0m         kwargs\u001b[38;5;241m=\u001b[39mkwargs,\n\u001b[1;32m-> 4924\u001b[0m     )\u001b[38;5;241m.\u001b[39mapply()\n",
      "File \u001b[1;32m~\\anaconda3\\Lib\\site-packages\\pandas\\core\\apply.py:1427\u001b[0m, in \u001b[0;36mSeriesApply.apply\u001b[1;34m(self)\u001b[0m\n\u001b[0;32m   1424\u001b[0m     \u001b[38;5;28;01mreturn\u001b[39;00m \u001b[38;5;28mself\u001b[39m\u001b[38;5;241m.\u001b[39mapply_compat()\n\u001b[0;32m   1426\u001b[0m \u001b[38;5;66;03m# self.func is Callable\u001b[39;00m\n\u001b[1;32m-> 1427\u001b[0m \u001b[38;5;28;01mreturn\u001b[39;00m \u001b[38;5;28mself\u001b[39m\u001b[38;5;241m.\u001b[39mapply_standard()\n",
      "File \u001b[1;32m~\\anaconda3\\Lib\\site-packages\\pandas\\core\\apply.py:1507\u001b[0m, in \u001b[0;36mSeriesApply.apply_standard\u001b[1;34m(self)\u001b[0m\n\u001b[0;32m   1501\u001b[0m \u001b[38;5;66;03m# row-wise access\u001b[39;00m\n\u001b[0;32m   1502\u001b[0m \u001b[38;5;66;03m# apply doesn't have a `na_action` keyword and for backward compat reasons\u001b[39;00m\n\u001b[0;32m   1503\u001b[0m \u001b[38;5;66;03m# we need to give `na_action=\"ignore\"` for categorical data.\u001b[39;00m\n\u001b[0;32m   1504\u001b[0m \u001b[38;5;66;03m# TODO: remove the `na_action=\"ignore\"` when that default has been changed in\u001b[39;00m\n\u001b[0;32m   1505\u001b[0m \u001b[38;5;66;03m#  Categorical (GH51645).\u001b[39;00m\n\u001b[0;32m   1506\u001b[0m action \u001b[38;5;241m=\u001b[39m \u001b[38;5;124m\"\u001b[39m\u001b[38;5;124mignore\u001b[39m\u001b[38;5;124m\"\u001b[39m \u001b[38;5;28;01mif\u001b[39;00m \u001b[38;5;28misinstance\u001b[39m(obj\u001b[38;5;241m.\u001b[39mdtype, CategoricalDtype) \u001b[38;5;28;01melse\u001b[39;00m \u001b[38;5;28;01mNone\u001b[39;00m\n\u001b[1;32m-> 1507\u001b[0m mapped \u001b[38;5;241m=\u001b[39m obj\u001b[38;5;241m.\u001b[39m_map_values(\n\u001b[0;32m   1508\u001b[0m     mapper\u001b[38;5;241m=\u001b[39mcurried, na_action\u001b[38;5;241m=\u001b[39maction, convert\u001b[38;5;241m=\u001b[39m\u001b[38;5;28mself\u001b[39m\u001b[38;5;241m.\u001b[39mconvert_dtype\n\u001b[0;32m   1509\u001b[0m )\n\u001b[0;32m   1511\u001b[0m \u001b[38;5;28;01mif\u001b[39;00m \u001b[38;5;28mlen\u001b[39m(mapped) \u001b[38;5;129;01mand\u001b[39;00m \u001b[38;5;28misinstance\u001b[39m(mapped[\u001b[38;5;241m0\u001b[39m], ABCSeries):\n\u001b[0;32m   1512\u001b[0m     \u001b[38;5;66;03m# GH#43986 Need to do list(mapped) in order to get treated as nested\u001b[39;00m\n\u001b[0;32m   1513\u001b[0m     \u001b[38;5;66;03m#  See also GH#25959 regarding EA support\u001b[39;00m\n\u001b[0;32m   1514\u001b[0m     \u001b[38;5;28;01mreturn\u001b[39;00m obj\u001b[38;5;241m.\u001b[39m_constructor_expanddim(\u001b[38;5;28mlist\u001b[39m(mapped), index\u001b[38;5;241m=\u001b[39mobj\u001b[38;5;241m.\u001b[39mindex)\n",
      "File \u001b[1;32m~\\anaconda3\\Lib\\site-packages\\pandas\\core\\base.py:921\u001b[0m, in \u001b[0;36mIndexOpsMixin._map_values\u001b[1;34m(self, mapper, na_action, convert)\u001b[0m\n\u001b[0;32m    918\u001b[0m \u001b[38;5;28;01mif\u001b[39;00m \u001b[38;5;28misinstance\u001b[39m(arr, ExtensionArray):\n\u001b[0;32m    919\u001b[0m     \u001b[38;5;28;01mreturn\u001b[39;00m arr\u001b[38;5;241m.\u001b[39mmap(mapper, na_action\u001b[38;5;241m=\u001b[39mna_action)\n\u001b[1;32m--> 921\u001b[0m \u001b[38;5;28;01mreturn\u001b[39;00m algorithms\u001b[38;5;241m.\u001b[39mmap_array(arr, mapper, na_action\u001b[38;5;241m=\u001b[39mna_action, convert\u001b[38;5;241m=\u001b[39mconvert)\n",
      "File \u001b[1;32m~\\anaconda3\\Lib\\site-packages\\pandas\\core\\algorithms.py:1743\u001b[0m, in \u001b[0;36mmap_array\u001b[1;34m(arr, mapper, na_action, convert)\u001b[0m\n\u001b[0;32m   1741\u001b[0m values \u001b[38;5;241m=\u001b[39m arr\u001b[38;5;241m.\u001b[39mastype(\u001b[38;5;28mobject\u001b[39m, copy\u001b[38;5;241m=\u001b[39m\u001b[38;5;28;01mFalse\u001b[39;00m)\n\u001b[0;32m   1742\u001b[0m \u001b[38;5;28;01mif\u001b[39;00m na_action \u001b[38;5;129;01mis\u001b[39;00m \u001b[38;5;28;01mNone\u001b[39;00m:\n\u001b[1;32m-> 1743\u001b[0m     \u001b[38;5;28;01mreturn\u001b[39;00m lib\u001b[38;5;241m.\u001b[39mmap_infer(values, mapper, convert\u001b[38;5;241m=\u001b[39mconvert)\n\u001b[0;32m   1744\u001b[0m \u001b[38;5;28;01melse\u001b[39;00m:\n\u001b[0;32m   1745\u001b[0m     \u001b[38;5;28;01mreturn\u001b[39;00m lib\u001b[38;5;241m.\u001b[39mmap_infer_mask(\n\u001b[0;32m   1746\u001b[0m         values, mapper, mask\u001b[38;5;241m=\u001b[39misna(values)\u001b[38;5;241m.\u001b[39mview(np\u001b[38;5;241m.\u001b[39muint8), convert\u001b[38;5;241m=\u001b[39mconvert\n\u001b[0;32m   1747\u001b[0m     )\n",
      "File \u001b[1;32mlib.pyx:2972\u001b[0m, in \u001b[0;36mpandas._libs.lib.map_infer\u001b[1;34m()\u001b[0m\n",
      "Cell \u001b[1;32mIn[36], line 1\u001b[0m, in \u001b[0;36m<lambda>\u001b[1;34m(line)\u001b[0m\n\u001b[1;32m----> 1\u001b[0m df[\u001b[38;5;124m\"\u001b[39m\u001b[38;5;124msentiment\u001b[39m\u001b[38;5;124m\"\u001b[39m] \u001b[38;5;241m=\u001b[39m df[\u001b[38;5;124m\"\u001b[39m\u001b[38;5;124mtext_processed_w_stpw\u001b[39m\u001b[38;5;124m\"\u001b[39m]\u001b[38;5;241m.\u001b[39mapply(\u001b[38;5;28;01mlambda\u001b[39;00m line: le_sentiment(line, modele))\n",
      "Cell \u001b[1;32mIn[35], line 12\u001b[0m, in \u001b[0;36mle_sentiment\u001b[1;34m(texte, model)\u001b[0m\n\u001b[0;32m      9\u001b[0m     texte \u001b[38;5;241m=\u001b[39m texte[:\u001b[38;5;241m500\u001b[39m]\n\u001b[0;32m     11\u001b[0m result \u001b[38;5;241m=\u001b[39m \u001b[38;5;241m0\u001b[39m\n\u001b[1;32m---> 12\u001b[0m score \u001b[38;5;241m=\u001b[39m model\u001b[38;5;241m.\u001b[39mpolarity_scores(texte)\n\u001b[0;32m     14\u001b[0m \u001b[38;5;28;01mif\u001b[39;00m (score[\u001b[38;5;124m'\u001b[39m\u001b[38;5;124mcompound\u001b[39m\u001b[38;5;124m'\u001b[39m] \u001b[38;5;241m<\u001b[39m\u001b[38;5;241m=\u001b[39m \u001b[38;5;241m-\u001b[39m\u001b[38;5;241m0.5\u001b[39m):\n\u001b[0;32m     15\u001b[0m     result \u001b[38;5;241m=\u001b[39m \u001b[38;5;241m-\u001b[39m\u001b[38;5;241m1\u001b[39m\n",
      "File \u001b[1;32m~\\anaconda3\\Lib\\site-packages\\vaderSentiment\\vaderSentiment.py:240\u001b[0m, in \u001b[0;36mSentimentIntensityAnalyzer.polarity_scores\u001b[1;34m(self, text)\u001b[0m\n\u001b[0;32m    234\u001b[0m \u001b[38;5;28;01mdef\u001b[39;00m \u001b[38;5;21mpolarity_scores\u001b[39m(\u001b[38;5;28mself\u001b[39m, text):\n\u001b[0;32m    235\u001b[0m \u001b[38;5;250m    \u001b[39m\u001b[38;5;124;03m\"\"\"\u001b[39;00m\n\u001b[0;32m    236\u001b[0m \u001b[38;5;124;03m    Return a float for sentiment strength based on the input text.\u001b[39;00m\n\u001b[0;32m    237\u001b[0m \u001b[38;5;124;03m    Positive values are positive valence, negative value are negative\u001b[39;00m\n\u001b[0;32m    238\u001b[0m \u001b[38;5;124;03m    valence.\u001b[39;00m\n\u001b[0;32m    239\u001b[0m \u001b[38;5;124;03m    \"\"\"\u001b[39;00m\n\u001b[1;32m--> 240\u001b[0m     text \u001b[38;5;241m=\u001b[39m Translator\u001b[38;5;241m.\u001b[39mtranslate(text, \u001b[38;5;124m'\u001b[39m\u001b[38;5;124men\u001b[39m\u001b[38;5;124m'\u001b[39m)\n\u001b[0;32m    242\u001b[0m     \u001b[38;5;66;03m# convert emojis to their textual descriptions\u001b[39;00m\n\u001b[0;32m    243\u001b[0m     text_no_emoji \u001b[38;5;241m=\u001b[39m \u001b[38;5;124m\"\u001b[39m\u001b[38;5;124m\"\u001b[39m\n",
      "File \u001b[1;32m~\\anaconda3\\Lib\\site-packages\\translatte\\translatte.py:28\u001b[0m, in \u001b[0;36mTranslator.translate\u001b[1;34m(input_text, target_lang, source_lang)\u001b[0m\n\u001b[0;32m     25\u001b[0m \u001b[38;5;129m@staticmethod\u001b[39m\n\u001b[0;32m     26\u001b[0m \u001b[38;5;28;01mdef\u001b[39;00m \u001b[38;5;21mtranslate\u001b[39m(input_text, target_lang, source_lang\u001b[38;5;241m=\u001b[39m\u001b[38;5;124m'\u001b[39m\u001b[38;5;124mauto\u001b[39m\u001b[38;5;124m'\u001b[39m):\n\u001b[0;32m     27\u001b[0m     url \u001b[38;5;241m=\u001b[39m \u001b[38;5;124mf\u001b[39m\u001b[38;5;124m\"\u001b[39m\u001b[38;5;124mhttps://translate.googleapis.com/translate_a/single?client=gtx&sl=\u001b[39m\u001b[38;5;132;01m{\u001b[39;00msource_lang\u001b[38;5;132;01m}\u001b[39;00m\u001b[38;5;124m&tl=\u001b[39m\u001b[38;5;132;01m{\u001b[39;00mtarget_lang\u001b[38;5;132;01m}\u001b[39;00m\u001b[38;5;124m&dt=t&q=\u001b[39m\u001b[38;5;132;01m{\u001b[39;00mquote(input_text)\u001b[38;5;132;01m}\u001b[39;00m\u001b[38;5;124m\"\u001b[39m\n\u001b[1;32m---> 28\u001b[0m     response \u001b[38;5;241m=\u001b[39m Translator\u001b[38;5;241m.\u001b[39mget_response_from_request(Request(url\u001b[38;5;241m=\u001b[39murl))\n\u001b[0;32m     29\u001b[0m     \u001b[38;5;28;01mreturn\u001b[39;00m Translator\u001b[38;5;241m.\u001b[39mget_translation_from_response(response)\n",
      "File \u001b[1;32m~\\anaconda3\\Lib\\site-packages\\translatte\\translatte.py:13\u001b[0m, in \u001b[0;36mTranslator.get_response_from_request\u001b[1;34m(request)\u001b[0m\n\u001b[0;32m     11\u001b[0m \u001b[38;5;129m@staticmethod\u001b[39m\n\u001b[0;32m     12\u001b[0m \u001b[38;5;28;01mdef\u001b[39;00m \u001b[38;5;21mget_response_from_request\u001b[39m(request):\n\u001b[1;32m---> 13\u001b[0m     response \u001b[38;5;241m=\u001b[39m urlopen(request)\n\u001b[0;32m     14\u001b[0m     \u001b[38;5;28;01mreturn\u001b[39;00m response\u001b[38;5;241m.\u001b[39mread()\n",
      "File \u001b[1;32m~\\anaconda3\\Lib\\urllib\\request.py:216\u001b[0m, in \u001b[0;36murlopen\u001b[1;34m(url, data, timeout, cafile, capath, cadefault, context)\u001b[0m\n\u001b[0;32m    214\u001b[0m \u001b[38;5;28;01melse\u001b[39;00m:\n\u001b[0;32m    215\u001b[0m     opener \u001b[38;5;241m=\u001b[39m _opener\n\u001b[1;32m--> 216\u001b[0m \u001b[38;5;28;01mreturn\u001b[39;00m opener\u001b[38;5;241m.\u001b[39mopen(url, data, timeout)\n",
      "File \u001b[1;32m~\\anaconda3\\Lib\\urllib\\request.py:519\u001b[0m, in \u001b[0;36mOpenerDirector.open\u001b[1;34m(self, fullurl, data, timeout)\u001b[0m\n\u001b[0;32m    516\u001b[0m     req \u001b[38;5;241m=\u001b[39m meth(req)\n\u001b[0;32m    518\u001b[0m sys\u001b[38;5;241m.\u001b[39maudit(\u001b[38;5;124m'\u001b[39m\u001b[38;5;124murllib.Request\u001b[39m\u001b[38;5;124m'\u001b[39m, req\u001b[38;5;241m.\u001b[39mfull_url, req\u001b[38;5;241m.\u001b[39mdata, req\u001b[38;5;241m.\u001b[39mheaders, req\u001b[38;5;241m.\u001b[39mget_method())\n\u001b[1;32m--> 519\u001b[0m response \u001b[38;5;241m=\u001b[39m \u001b[38;5;28mself\u001b[39m\u001b[38;5;241m.\u001b[39m_open(req, data)\n\u001b[0;32m    521\u001b[0m \u001b[38;5;66;03m# post-process response\u001b[39;00m\n\u001b[0;32m    522\u001b[0m meth_name \u001b[38;5;241m=\u001b[39m protocol\u001b[38;5;241m+\u001b[39m\u001b[38;5;124m\"\u001b[39m\u001b[38;5;124m_response\u001b[39m\u001b[38;5;124m\"\u001b[39m\n",
      "File \u001b[1;32m~\\anaconda3\\Lib\\urllib\\request.py:536\u001b[0m, in \u001b[0;36mOpenerDirector._open\u001b[1;34m(self, req, data)\u001b[0m\n\u001b[0;32m    533\u001b[0m     \u001b[38;5;28;01mreturn\u001b[39;00m result\n\u001b[0;32m    535\u001b[0m protocol \u001b[38;5;241m=\u001b[39m req\u001b[38;5;241m.\u001b[39mtype\n\u001b[1;32m--> 536\u001b[0m result \u001b[38;5;241m=\u001b[39m \u001b[38;5;28mself\u001b[39m\u001b[38;5;241m.\u001b[39m_call_chain(\u001b[38;5;28mself\u001b[39m\u001b[38;5;241m.\u001b[39mhandle_open, protocol, protocol \u001b[38;5;241m+\u001b[39m\n\u001b[0;32m    537\u001b[0m                           \u001b[38;5;124m'\u001b[39m\u001b[38;5;124m_open\u001b[39m\u001b[38;5;124m'\u001b[39m, req)\n\u001b[0;32m    538\u001b[0m \u001b[38;5;28;01mif\u001b[39;00m result:\n\u001b[0;32m    539\u001b[0m     \u001b[38;5;28;01mreturn\u001b[39;00m result\n",
      "File \u001b[1;32m~\\anaconda3\\Lib\\urllib\\request.py:496\u001b[0m, in \u001b[0;36mOpenerDirector._call_chain\u001b[1;34m(self, chain, kind, meth_name, *args)\u001b[0m\n\u001b[0;32m    494\u001b[0m \u001b[38;5;28;01mfor\u001b[39;00m handler \u001b[38;5;129;01min\u001b[39;00m handlers:\n\u001b[0;32m    495\u001b[0m     func \u001b[38;5;241m=\u001b[39m \u001b[38;5;28mgetattr\u001b[39m(handler, meth_name)\n\u001b[1;32m--> 496\u001b[0m     result \u001b[38;5;241m=\u001b[39m func(\u001b[38;5;241m*\u001b[39margs)\n\u001b[0;32m    497\u001b[0m     \u001b[38;5;28;01mif\u001b[39;00m result \u001b[38;5;129;01mis\u001b[39;00m \u001b[38;5;129;01mnot\u001b[39;00m \u001b[38;5;28;01mNone\u001b[39;00m:\n\u001b[0;32m    498\u001b[0m         \u001b[38;5;28;01mreturn\u001b[39;00m result\n",
      "File \u001b[1;32m~\\anaconda3\\Lib\\urllib\\request.py:1391\u001b[0m, in \u001b[0;36mHTTPSHandler.https_open\u001b[1;34m(self, req)\u001b[0m\n\u001b[0;32m   1390\u001b[0m \u001b[38;5;28;01mdef\u001b[39;00m \u001b[38;5;21mhttps_open\u001b[39m(\u001b[38;5;28mself\u001b[39m, req):\n\u001b[1;32m-> 1391\u001b[0m     \u001b[38;5;28;01mreturn\u001b[39;00m \u001b[38;5;28mself\u001b[39m\u001b[38;5;241m.\u001b[39mdo_open(http\u001b[38;5;241m.\u001b[39mclient\u001b[38;5;241m.\u001b[39mHTTPSConnection, req,\n\u001b[0;32m   1392\u001b[0m         context\u001b[38;5;241m=\u001b[39m\u001b[38;5;28mself\u001b[39m\u001b[38;5;241m.\u001b[39m_context, check_hostname\u001b[38;5;241m=\u001b[39m\u001b[38;5;28mself\u001b[39m\u001b[38;5;241m.\u001b[39m_check_hostname)\n",
      "File \u001b[1;32m~\\anaconda3\\Lib\\urllib\\request.py:1348\u001b[0m, in \u001b[0;36mAbstractHTTPHandler.do_open\u001b[1;34m(self, http_class, req, **http_conn_args)\u001b[0m\n\u001b[0;32m   1346\u001b[0m \u001b[38;5;28;01mtry\u001b[39;00m:\n\u001b[0;32m   1347\u001b[0m     \u001b[38;5;28;01mtry\u001b[39;00m:\n\u001b[1;32m-> 1348\u001b[0m         h\u001b[38;5;241m.\u001b[39mrequest(req\u001b[38;5;241m.\u001b[39mget_method(), req\u001b[38;5;241m.\u001b[39mselector, req\u001b[38;5;241m.\u001b[39mdata, headers,\n\u001b[0;32m   1349\u001b[0m                   encode_chunked\u001b[38;5;241m=\u001b[39mreq\u001b[38;5;241m.\u001b[39mhas_header(\u001b[38;5;124m'\u001b[39m\u001b[38;5;124mTransfer-encoding\u001b[39m\u001b[38;5;124m'\u001b[39m))\n\u001b[0;32m   1350\u001b[0m     \u001b[38;5;28;01mexcept\u001b[39;00m \u001b[38;5;167;01mOSError\u001b[39;00m \u001b[38;5;28;01mas\u001b[39;00m err: \u001b[38;5;66;03m# timeout error\u001b[39;00m\n\u001b[0;32m   1351\u001b[0m         \u001b[38;5;28;01mraise\u001b[39;00m URLError(err)\n",
      "File \u001b[1;32m~\\anaconda3\\Lib\\http\\client.py:1286\u001b[0m, in \u001b[0;36mHTTPConnection.request\u001b[1;34m(self, method, url, body, headers, encode_chunked)\u001b[0m\n\u001b[0;32m   1283\u001b[0m \u001b[38;5;28;01mdef\u001b[39;00m \u001b[38;5;21mrequest\u001b[39m(\u001b[38;5;28mself\u001b[39m, method, url, body\u001b[38;5;241m=\u001b[39m\u001b[38;5;28;01mNone\u001b[39;00m, headers\u001b[38;5;241m=\u001b[39m{}, \u001b[38;5;241m*\u001b[39m,\n\u001b[0;32m   1284\u001b[0m             encode_chunked\u001b[38;5;241m=\u001b[39m\u001b[38;5;28;01mFalse\u001b[39;00m):\n\u001b[0;32m   1285\u001b[0m \u001b[38;5;250m    \u001b[39m\u001b[38;5;124;03m\"\"\"Send a complete request to the server.\"\"\"\u001b[39;00m\n\u001b[1;32m-> 1286\u001b[0m     \u001b[38;5;28mself\u001b[39m\u001b[38;5;241m.\u001b[39m_send_request(method, url, body, headers, encode_chunked)\n",
      "File \u001b[1;32m~\\anaconda3\\Lib\\http\\client.py:1332\u001b[0m, in \u001b[0;36mHTTPConnection._send_request\u001b[1;34m(self, method, url, body, headers, encode_chunked)\u001b[0m\n\u001b[0;32m   1328\u001b[0m \u001b[38;5;28;01mif\u001b[39;00m \u001b[38;5;28misinstance\u001b[39m(body, \u001b[38;5;28mstr\u001b[39m):\n\u001b[0;32m   1329\u001b[0m     \u001b[38;5;66;03m# RFC 2616 Section 3.7.1 says that text default has a\u001b[39;00m\n\u001b[0;32m   1330\u001b[0m     \u001b[38;5;66;03m# default charset of iso-8859-1.\u001b[39;00m\n\u001b[0;32m   1331\u001b[0m     body \u001b[38;5;241m=\u001b[39m _encode(body, \u001b[38;5;124m'\u001b[39m\u001b[38;5;124mbody\u001b[39m\u001b[38;5;124m'\u001b[39m)\n\u001b[1;32m-> 1332\u001b[0m \u001b[38;5;28mself\u001b[39m\u001b[38;5;241m.\u001b[39mendheaders(body, encode_chunked\u001b[38;5;241m=\u001b[39mencode_chunked)\n",
      "File \u001b[1;32m~\\anaconda3\\Lib\\http\\client.py:1281\u001b[0m, in \u001b[0;36mHTTPConnection.endheaders\u001b[1;34m(self, message_body, encode_chunked)\u001b[0m\n\u001b[0;32m   1279\u001b[0m \u001b[38;5;28;01melse\u001b[39;00m:\n\u001b[0;32m   1280\u001b[0m     \u001b[38;5;28;01mraise\u001b[39;00m CannotSendHeader()\n\u001b[1;32m-> 1281\u001b[0m \u001b[38;5;28mself\u001b[39m\u001b[38;5;241m.\u001b[39m_send_output(message_body, encode_chunked\u001b[38;5;241m=\u001b[39mencode_chunked)\n",
      "File \u001b[1;32m~\\anaconda3\\Lib\\http\\client.py:1041\u001b[0m, in \u001b[0;36mHTTPConnection._send_output\u001b[1;34m(self, message_body, encode_chunked)\u001b[0m\n\u001b[0;32m   1039\u001b[0m msg \u001b[38;5;241m=\u001b[39m \u001b[38;5;124mb\u001b[39m\u001b[38;5;124m\"\u001b[39m\u001b[38;5;130;01m\\r\u001b[39;00m\u001b[38;5;130;01m\\n\u001b[39;00m\u001b[38;5;124m\"\u001b[39m\u001b[38;5;241m.\u001b[39mjoin(\u001b[38;5;28mself\u001b[39m\u001b[38;5;241m.\u001b[39m_buffer)\n\u001b[0;32m   1040\u001b[0m \u001b[38;5;28;01mdel\u001b[39;00m \u001b[38;5;28mself\u001b[39m\u001b[38;5;241m.\u001b[39m_buffer[:]\n\u001b[1;32m-> 1041\u001b[0m \u001b[38;5;28mself\u001b[39m\u001b[38;5;241m.\u001b[39msend(msg)\n\u001b[0;32m   1043\u001b[0m \u001b[38;5;28;01mif\u001b[39;00m message_body \u001b[38;5;129;01mis\u001b[39;00m \u001b[38;5;129;01mnot\u001b[39;00m \u001b[38;5;28;01mNone\u001b[39;00m:\n\u001b[0;32m   1044\u001b[0m \n\u001b[0;32m   1045\u001b[0m     \u001b[38;5;66;03m# create a consistent interface to message_body\u001b[39;00m\n\u001b[0;32m   1046\u001b[0m     \u001b[38;5;28;01mif\u001b[39;00m \u001b[38;5;28mhasattr\u001b[39m(message_body, \u001b[38;5;124m'\u001b[39m\u001b[38;5;124mread\u001b[39m\u001b[38;5;124m'\u001b[39m):\n\u001b[0;32m   1047\u001b[0m         \u001b[38;5;66;03m# Let file-like take precedence over byte-like.  This\u001b[39;00m\n\u001b[0;32m   1048\u001b[0m         \u001b[38;5;66;03m# is needed to allow the current position of mmap'ed\u001b[39;00m\n\u001b[0;32m   1049\u001b[0m         \u001b[38;5;66;03m# files to be taken into account.\u001b[39;00m\n",
      "File \u001b[1;32m~\\anaconda3\\Lib\\http\\client.py:979\u001b[0m, in \u001b[0;36mHTTPConnection.send\u001b[1;34m(self, data)\u001b[0m\n\u001b[0;32m    977\u001b[0m \u001b[38;5;28;01mif\u001b[39;00m \u001b[38;5;28mself\u001b[39m\u001b[38;5;241m.\u001b[39msock \u001b[38;5;129;01mis\u001b[39;00m \u001b[38;5;28;01mNone\u001b[39;00m:\n\u001b[0;32m    978\u001b[0m     \u001b[38;5;28;01mif\u001b[39;00m \u001b[38;5;28mself\u001b[39m\u001b[38;5;241m.\u001b[39mauto_open:\n\u001b[1;32m--> 979\u001b[0m         \u001b[38;5;28mself\u001b[39m\u001b[38;5;241m.\u001b[39mconnect()\n\u001b[0;32m    980\u001b[0m     \u001b[38;5;28;01melse\u001b[39;00m:\n\u001b[0;32m    981\u001b[0m         \u001b[38;5;28;01mraise\u001b[39;00m NotConnected()\n",
      "File \u001b[1;32m~\\anaconda3\\Lib\\http\\client.py:1458\u001b[0m, in \u001b[0;36mHTTPSConnection.connect\u001b[1;34m(self)\u001b[0m\n\u001b[0;32m   1455\u001b[0m \u001b[38;5;28;01melse\u001b[39;00m:\n\u001b[0;32m   1456\u001b[0m     server_hostname \u001b[38;5;241m=\u001b[39m \u001b[38;5;28mself\u001b[39m\u001b[38;5;241m.\u001b[39mhost\n\u001b[1;32m-> 1458\u001b[0m \u001b[38;5;28mself\u001b[39m\u001b[38;5;241m.\u001b[39msock \u001b[38;5;241m=\u001b[39m \u001b[38;5;28mself\u001b[39m\u001b[38;5;241m.\u001b[39m_context\u001b[38;5;241m.\u001b[39mwrap_socket(\u001b[38;5;28mself\u001b[39m\u001b[38;5;241m.\u001b[39msock,\n\u001b[0;32m   1459\u001b[0m                                       server_hostname\u001b[38;5;241m=\u001b[39mserver_hostname)\n",
      "File \u001b[1;32m~\\anaconda3\\Lib\\ssl.py:517\u001b[0m, in \u001b[0;36mSSLContext.wrap_socket\u001b[1;34m(self, sock, server_side, do_handshake_on_connect, suppress_ragged_eofs, server_hostname, session)\u001b[0m\n\u001b[0;32m    511\u001b[0m \u001b[38;5;28;01mdef\u001b[39;00m \u001b[38;5;21mwrap_socket\u001b[39m(\u001b[38;5;28mself\u001b[39m, sock, server_side\u001b[38;5;241m=\u001b[39m\u001b[38;5;28;01mFalse\u001b[39;00m,\n\u001b[0;32m    512\u001b[0m                 do_handshake_on_connect\u001b[38;5;241m=\u001b[39m\u001b[38;5;28;01mTrue\u001b[39;00m,\n\u001b[0;32m    513\u001b[0m                 suppress_ragged_eofs\u001b[38;5;241m=\u001b[39m\u001b[38;5;28;01mTrue\u001b[39;00m,\n\u001b[0;32m    514\u001b[0m                 server_hostname\u001b[38;5;241m=\u001b[39m\u001b[38;5;28;01mNone\u001b[39;00m, session\u001b[38;5;241m=\u001b[39m\u001b[38;5;28;01mNone\u001b[39;00m):\n\u001b[0;32m    515\u001b[0m     \u001b[38;5;66;03m# SSLSocket class handles server_hostname encoding before it calls\u001b[39;00m\n\u001b[0;32m    516\u001b[0m     \u001b[38;5;66;03m# ctx._wrap_socket()\u001b[39;00m\n\u001b[1;32m--> 517\u001b[0m     \u001b[38;5;28;01mreturn\u001b[39;00m \u001b[38;5;28mself\u001b[39m\u001b[38;5;241m.\u001b[39msslsocket_class\u001b[38;5;241m.\u001b[39m_create(\n\u001b[0;32m    518\u001b[0m         sock\u001b[38;5;241m=\u001b[39msock,\n\u001b[0;32m    519\u001b[0m         server_side\u001b[38;5;241m=\u001b[39mserver_side,\n\u001b[0;32m    520\u001b[0m         do_handshake_on_connect\u001b[38;5;241m=\u001b[39mdo_handshake_on_connect,\n\u001b[0;32m    521\u001b[0m         suppress_ragged_eofs\u001b[38;5;241m=\u001b[39msuppress_ragged_eofs,\n\u001b[0;32m    522\u001b[0m         server_hostname\u001b[38;5;241m=\u001b[39mserver_hostname,\n\u001b[0;32m    523\u001b[0m         context\u001b[38;5;241m=\u001b[39m\u001b[38;5;28mself\u001b[39m,\n\u001b[0;32m    524\u001b[0m         session\u001b[38;5;241m=\u001b[39msession\n\u001b[0;32m    525\u001b[0m     )\n",
      "File \u001b[1;32m~\\anaconda3\\Lib\\ssl.py:1075\u001b[0m, in \u001b[0;36mSSLSocket._create\u001b[1;34m(cls, sock, server_side, do_handshake_on_connect, suppress_ragged_eofs, server_hostname, context, session)\u001b[0m\n\u001b[0;32m   1072\u001b[0m         \u001b[38;5;28;01mif\u001b[39;00m timeout \u001b[38;5;241m==\u001b[39m \u001b[38;5;241m0.0\u001b[39m:\n\u001b[0;32m   1073\u001b[0m             \u001b[38;5;66;03m# non-blocking\u001b[39;00m\n\u001b[0;32m   1074\u001b[0m             \u001b[38;5;28;01mraise\u001b[39;00m \u001b[38;5;167;01mValueError\u001b[39;00m(\u001b[38;5;124m\"\u001b[39m\u001b[38;5;124mdo_handshake_on_connect should not be specified for non-blocking sockets\u001b[39m\u001b[38;5;124m\"\u001b[39m)\n\u001b[1;32m-> 1075\u001b[0m         \u001b[38;5;28mself\u001b[39m\u001b[38;5;241m.\u001b[39mdo_handshake()\n\u001b[0;32m   1076\u001b[0m \u001b[38;5;28;01mexcept\u001b[39;00m (\u001b[38;5;167;01mOSError\u001b[39;00m, \u001b[38;5;167;01mValueError\u001b[39;00m):\n\u001b[0;32m   1077\u001b[0m     \u001b[38;5;28mself\u001b[39m\u001b[38;5;241m.\u001b[39mclose()\n",
      "File \u001b[1;32m~\\anaconda3\\Lib\\ssl.py:1346\u001b[0m, in \u001b[0;36mSSLSocket.do_handshake\u001b[1;34m(self, block)\u001b[0m\n\u001b[0;32m   1344\u001b[0m     \u001b[38;5;28;01mif\u001b[39;00m timeout \u001b[38;5;241m==\u001b[39m \u001b[38;5;241m0.0\u001b[39m \u001b[38;5;129;01mand\u001b[39;00m block:\n\u001b[0;32m   1345\u001b[0m         \u001b[38;5;28mself\u001b[39m\u001b[38;5;241m.\u001b[39msettimeout(\u001b[38;5;28;01mNone\u001b[39;00m)\n\u001b[1;32m-> 1346\u001b[0m     \u001b[38;5;28mself\u001b[39m\u001b[38;5;241m.\u001b[39m_sslobj\u001b[38;5;241m.\u001b[39mdo_handshake()\n\u001b[0;32m   1347\u001b[0m \u001b[38;5;28;01mfinally\u001b[39;00m:\n\u001b[0;32m   1348\u001b[0m     \u001b[38;5;28mself\u001b[39m\u001b[38;5;241m.\u001b[39msettimeout(timeout)\n",
      "\u001b[1;31mKeyboardInterrupt\u001b[0m: "
     ]
    }
   ],
   "source": [
    "df[\"sentiment\"] = df[\"text_processed_w_stpw\"].apply(lambda line: le_sentiment(line, modele))"
   ]
  },
  {
   "cell_type": "code",
   "execution_count": null,
   "id": "1ec14c21",
   "metadata": {
    "id": "1ec14c21"
   },
   "outputs": [],
   "source": [
    "df.to_csv(\"datas_sentiment_VADER.csv\", encoding='utf-8', index=False)"
   ]
  },
  {
   "cell_type": "code",
   "execution_count": null,
   "id": "GhUMqnq2BHS0",
   "metadata": {
    "id": "GhUMqnq2BHS0"
   },
   "outputs": [],
   "source": []
  }
 ],
 "metadata": {
  "colab": {
   "provenance": []
  },
  "kernelspec": {
   "display_name": "Python 3 (ipykernel)",
   "language": "python",
   "name": "python3"
  },
  "language_info": {
   "codemirror_mode": {
    "name": "ipython",
    "version": 3
   },
   "file_extension": ".py",
   "mimetype": "text/x-python",
   "name": "python",
   "nbconvert_exporter": "python",
   "pygments_lexer": "ipython3",
   "version": "3.11.4"
  }
 },
 "nbformat": 4,
 "nbformat_minor": 5
}
